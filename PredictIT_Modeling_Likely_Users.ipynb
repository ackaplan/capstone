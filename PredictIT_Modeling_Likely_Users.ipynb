{
 "cells": [
  {
   "cell_type": "code",
   "execution_count": 3,
   "id": "e3aa5e4c-2232-4c1d-80cf-156d5c680258",
   "metadata": {
    "tags": []
   },
   "outputs": [],
   "source": [
    "import pandas as pd\n",
    "import numpy as np\n",
    "import matplotlib.pyplot as plt\n",
    "import pyodbc \n",
    "from sklearn.compose import ColumnTransformer\n",
    "from sklearn.dummy import DummyClassifier\n",
    "from sklearn.ensemble import RandomForestClassifier, GradientBoostingClassifier\n",
    "from sklearn.linear_model import LogisticRegression\n",
    "from sklearn.metrics import make_scorer, accuracy_score, precision_score, recall_score, f1_score, classification_report, roc_curve, auc, precision_recall_curve\n",
    "from sklearn.model_selection import train_test_split, StratifiedShuffleSplit, cross_validate, GridSearchCV, learning_curve\n",
    "from sklearn.pipeline import make_pipeline\n",
    "from sklearn.preprocessing import LabelEncoder, MinMaxScaler, StandardScaler, OneHotEncoder\n",
    "from sklearn.svm import SVC\n",
    "import xgboost as xgb\n",
    "from catboost import CatBoostClassifier"
   ]
  },
  {
   "cell_type": "code",
   "execution_count": 3,
   "id": "2829d061-90fd-4aa3-9e78-58c43bd1f6d4",
   "metadata": {
    "tags": []
   },
   "outputs": [
    {
     "name": "stderr",
     "output_type": "stream",
     "text": [
      "C:\\Users\\amanda.kaplan\\AppData\\Local\\Temp\\ipykernel_27184\\2719086436.py:5: UserWarning: pandas only supports SQLAlchemy connectable (engine/connection) or database string URI or sqlite3 DBAPI2 connection. Other DBAPI2 objects are not tested. Please consider using SQLAlchemy.\n",
      "  voter_data = pd.read_sql(\"\"\"SELECT * from voter_sample_100k\"\"\", cnxn)\n",
      "C:\\Users\\amanda.kaplan\\AppData\\Local\\Temp\\ipykernel_27184\\2719086436.py:7: UserWarning: pandas only supports SQLAlchemy connectable (engine/connection) or database string URI or sqlite3 DBAPI2 connection. Other DBAPI2 objects are not tested. Please consider using SQLAlchemy.\n",
      "  predictit_data = pd.read_sql(\"\"\"SELECT * from predictit_matched_20240206\"\"\", cnxn)\n"
     ]
    }
   ],
   "source": [
    "server = #enter server name here (removed for security)\n",
    "database = # enter database name here (removed for security)\n",
    "cnxn=pyodbc.connect('DRIVER={ODBC Driver 17 for SQL Server};SERVER='+server+';DATABASE='+database+';Trusted_Connection=Yes')\n",
    "\n",
    "voter_data = pd.read_sql(\"\"\"SELECT * from voter_sample_100k\"\"\", cnxn) \n",
    "predictit_data = pd.read_sql(\"\"\"SELECT * from predictit_matched_20240206\"\"\", cnxn)\n",
    "\n",
    "cnxn.close()"
   ]
  },
  {
   "cell_type": "code",
   "execution_count": 4,
   "id": "dcc6bcf0-e6c9-4b39-9656-ad7600d55b27",
   "metadata": {
    "tags": []
   },
   "outputs": [
    {
     "data": {
      "text/plain": [
       "100000"
      ]
     },
     "execution_count": 4,
     "metadata": {},
     "output_type": "execute_result"
    }
   ],
   "source": [
    "len(voter_data)"
   ]
  },
  {
   "cell_type": "markdown",
   "id": "16d3b2c8-1774-49b6-81ba-8ab8ba06bc8f",
   "metadata": {},
   "source": [
    "## drop records that aren't active users"
   ]
  },
  {
   "cell_type": "code",
   "execution_count": 5,
   "id": "204a8e69-c0f1-4816-bc93-98694a219a0f",
   "metadata": {
    "tags": []
   },
   "outputs": [],
   "source": [
    "#keep only the active users in the predictit sample\n",
    "\n",
    "for column in ['deposits', 'accountbalance', 'Withdrawals', 'Invested', 'riskamount', 'profit', 'loss','numshares']:\n",
    "    predictit_data[column] = pd.to_numeric(predictit_data[column])\n",
    "    \n",
    "condition = (\n",
    "    (predictit_data['deposits'] != 0) |\n",
    "    (predictit_data['accountbalance'] != 0) |\n",
    "    (predictit_data['Withdrawals'] != 0.00) |\n",
    "    (predictit_data['Invested'] != 0.00) |\n",
    "    (predictit_data['numshares'] != 0) |  \n",
    "    (predictit_data['riskamount'] != 0.0000) |\n",
    "    (predictit_data['profit'] != 0.000000) |\n",
    "    (predictit_data['loss'] != 0.000000)\n",
    ")\n",
    "\n",
    "predictit_data = predictit_data[condition].copy()"
   ]
  },
  {
   "cell_type": "code",
   "execution_count": 6,
   "id": "94dfe1b1-53e4-49ec-950f-0a33de71deda",
   "metadata": {
    "tags": []
   },
   "outputs": [
    {
     "data": {
      "text/plain": [
       "89079"
      ]
     },
     "execution_count": 6,
     "metadata": {},
     "output_type": "execute_result"
    }
   ],
   "source": [
    "len(predictit_data)"
   ]
  },
  {
   "cell_type": "markdown",
   "id": "890dd244-4f81-48c1-87f5-2b6d516f862f",
   "metadata": {},
   "source": [
    "## create a balanced training data set of half predictit users and half random voters."
   ]
  },
  {
   "cell_type": "code",
   "execution_count": 8,
   "id": "2c056db8-7619-49ba-a127-df39d82772e4",
   "metadata": {
    "tags": []
   },
   "outputs": [],
   "source": [
    "#note- experimented with different size training data sets, eventually used whole data set basically\n",
    "predictit_sample = predictit_data.sample(n=89000, random_state=42)\n",
    "voter_sample  = voter_data.sample(n=89000, random_state=42)\n",
    "\n",
    "# Create a source column\n",
    "# Set 'predictit_user' to 1 for records from predictit_data, and to 0 for records from voter_sample\n",
    "predictit_sample['predictit_user'] = 1\n",
    "voter_sample['predictit_user'] = 0\n",
    "\n",
    "# Since there are some columns in predictit_data that aren't in voter_sample, align the columns\n",
    "columns_to_keep = voter_sample.columns.tolist()  # This gets the column names from voter_sample\n",
    "predictit_sample_aligned = predictit_sample[columns_to_keep]  # Select only the shared columns plus the new one\n",
    "\n",
    "# Now concatenate the two DataFrames\n",
    "training_data = pd.concat([predictit_sample_aligned, voter_sample], ignore_index=True)\n"
   ]
  },
  {
   "cell_type": "code",
   "execution_count": 9,
   "id": "55cdee74-3238-4c90-a53e-6c123c84d9d0",
   "metadata": {
    "tags": []
   },
   "outputs": [
    {
     "data": {
      "text/plain": [
       "89000"
      ]
     },
     "execution_count": 9,
     "metadata": {},
     "output_type": "execute_result"
    }
   ],
   "source": [
    "len(voter_sample)"
   ]
  },
  {
   "cell_type": "code",
   "execution_count": 10,
   "id": "fd2665d8-31a7-47af-9da0-a33db926a3e4",
   "metadata": {
    "tags": []
   },
   "outputs": [
    {
     "data": {
      "text/plain": [
       "1    89000\n",
       "0    89000\n",
       "Name: predictit_user, dtype: int64"
      ]
     },
     "execution_count": 10,
     "metadata": {},
     "output_type": "execute_result"
    }
   ],
   "source": [
    "training_data['predictit_user'].value_counts()  # this is our target variable"
   ]
  },
  {
   "cell_type": "markdown",
   "id": "e3706079-7645-45d4-8f12-916cf3fb18a5",
   "metadata": {},
   "source": [
    "## Data Cleaning & Feature Engineering"
   ]
  },
  {
   "cell_type": "code",
   "execution_count": 11,
   "id": "6e6a40d9-edd4-4710-a073-a9ae8f516eeb",
   "metadata": {
    "tags": []
   },
   "outputs": [],
   "source": [
    "#narrow down to the columns i am going to use (note, these columns are derived from the significance testing in the EDA / script\n",
    "\n",
    "columns =['AGE','ZIP','MEDHOMEVAL','SEX','OCCDETAIL','OCCDETAIL_DESC','LIFESTAGE_CLUSTER','CNS_MEDINC','GENDER_MIX',\n",
    "'CNSUS_PCTB','AGE_IND','GENERATION','TOD_SEN_R_2020','HOMEMKTVAL','TOD_SEN_D_2020',\n",
    "'INCOMESTHH','TOD_SEN_D_2014','TOD_SEN_R_2014','TOD_PRES_R_2020','VP_GEN','TOD_PRES_D_2020','TOD_PRES_R_2016',\n",
    "'TOD_PRES_D_2016','AUTO_MODEL','TOD_GOV_R_2018','TOD_PRES_R_2012','CNSUS_PCTA','TOD_PRES_D_2012','TOD_SEN_R_2012',\n",
    "'TOD_GOV_D_2018','TOD_SEN_D_2012','TOD_SEN_R_2018','TOD_SEN_R_2016','NETWORTH','TOD_GOV_R_2014','TOD_SEN_D_2018',\n",
    "'TOD_GOV_D_2014','TOD_SEN_D_2016','TOD_SEN_DIFF_2020','TOD_PRES_DIFF_2020','EDUCATION','TOD_PRES_DIFF_2016','OCCUPATION',\n",
    "'WEALTH','TOD_SEN_DIFF_2014','TOD_SEN_DIFF_2016','TOD_PRES_R_2020_PREC','CNSUS_PCTW',\n",
    "'PARTY_CODE','ETHNIC_INFER','VOTER_CNT','COUNTY_ST','CENSUS_ST', 'ALUMNI_INDUSTRY', 'predictit_user']\n",
    "\n",
    "training_data = training_data[columns]\n"
   ]
  },
  {
   "cell_type": "code",
   "execution_count": 12,
   "id": "5f032dd3-c03f-4c9c-ba47-6dd760ad8a1c",
   "metadata": {
    "tags": []
   },
   "outputs": [],
   "source": [
    "#Replace blanks and spaces with NaN\n",
    "training_data.replace(r'^\\s*$', np.nan, regex=True, inplace=True)\n"
   ]
  },
  {
   "cell_type": "code",
   "execution_count": 128,
   "id": "9f10c15f-32ac-46ed-96b4-8840ccddb617",
   "metadata": {
    "tags": []
   },
   "outputs": [
    {
     "data": {
      "text/html": [
       "<div>\n",
       "<style scoped>\n",
       "    .dataframe tbody tr th:only-of-type {\n",
       "        vertical-align: middle;\n",
       "    }\n",
       "\n",
       "    .dataframe tbody tr th {\n",
       "        vertical-align: top;\n",
       "    }\n",
       "\n",
       "    .dataframe thead th {\n",
       "        text-align: right;\n",
       "    }\n",
       "</style>\n",
       "<table border=\"1\" class=\"dataframe\">\n",
       "  <thead>\n",
       "    <tr style=\"text-align: right;\">\n",
       "      <th></th>\n",
       "      <th>AGE</th>\n",
       "      <th>ZIP</th>\n",
       "      <th>MEDHOMEVAL</th>\n",
       "      <th>SEX</th>\n",
       "      <th>OCCDETAIL</th>\n",
       "      <th>OCCDETAIL_DESC</th>\n",
       "      <th>LIFESTAGE_CLUSTER</th>\n",
       "      <th>CNS_MEDINC</th>\n",
       "      <th>GENDER_MIX</th>\n",
       "      <th>CNSUS_PCTB</th>\n",
       "      <th>...</th>\n",
       "      <th>TOD_SEN_DIFF_2016</th>\n",
       "      <th>TOD_PRES_R_2020_PREC</th>\n",
       "      <th>CNSUS_PCTW</th>\n",
       "      <th>PARTY_CODE</th>\n",
       "      <th>ETHNIC_INFER</th>\n",
       "      <th>VOTER_CNT</th>\n",
       "      <th>COUNTY_ST</th>\n",
       "      <th>CENSUS_ST</th>\n",
       "      <th>ALUMNI_INDUSTRY</th>\n",
       "      <th>predictit_user</th>\n",
       "    </tr>\n",
       "  </thead>\n",
       "  <tbody>\n",
       "    <tr>\n",
       "      <th>0</th>\n",
       "      <td>051</td>\n",
       "      <td>55127</td>\n",
       "      <td>NaN</td>\n",
       "      <td>M</td>\n",
       "      <td>NaN</td>\n",
       "      <td>NaN</td>\n",
       "      <td>5</td>\n",
       "      <td>01642</td>\n",
       "      <td>4</td>\n",
       "      <td>0.000000</td>\n",
       "      <td>...</td>\n",
       "      <td>NaN</td>\n",
       "      <td>039.2</td>\n",
       "      <td>66.666667</td>\n",
       "      <td>S</td>\n",
       "      <td>C</td>\n",
       "      <td>29</td>\n",
       "      <td>123</td>\n",
       "      <td>27</td>\n",
       "      <td>NaN</td>\n",
       "      <td>1</td>\n",
       "    </tr>\n",
       "    <tr>\n",
       "      <th>1</th>\n",
       "      <td>031</td>\n",
       "      <td>76310</td>\n",
       "      <td>NaN</td>\n",
       "      <td>M</td>\n",
       "      <td>NaN</td>\n",
       "      <td>NaN</td>\n",
       "      <td>E</td>\n",
       "      <td>00833</td>\n",
       "      <td>1</td>\n",
       "      <td>0.000000</td>\n",
       "      <td>...</td>\n",
       "      <td>NaN</td>\n",
       "      <td>080.6</td>\n",
       "      <td>94.915254</td>\n",
       "      <td>S</td>\n",
       "      <td>C</td>\n",
       "      <td>1</td>\n",
       "      <td>485</td>\n",
       "      <td>48</td>\n",
       "      <td>NaN</td>\n",
       "      <td>1</td>\n",
       "    </tr>\n",
       "    <tr>\n",
       "      <th>2</th>\n",
       "      <td>035</td>\n",
       "      <td>60187</td>\n",
       "      <td>NaN</td>\n",
       "      <td>M</td>\n",
       "      <td>NaN</td>\n",
       "      <td>NaN</td>\n",
       "      <td>E</td>\n",
       "      <td>01035</td>\n",
       "      <td>1</td>\n",
       "      <td>1.515152</td>\n",
       "      <td>...</td>\n",
       "      <td>03D</td>\n",
       "      <td>037.0</td>\n",
       "      <td>86.363636</td>\n",
       "      <td>S</td>\n",
       "      <td>C</td>\n",
       "      <td>2</td>\n",
       "      <td>043</td>\n",
       "      <td>17</td>\n",
       "      <td>NaN</td>\n",
       "      <td>1</td>\n",
       "    </tr>\n",
       "    <tr>\n",
       "      <th>3</th>\n",
       "      <td>030</td>\n",
       "      <td>02919</td>\n",
       "      <td>NaN</td>\n",
       "      <td>M</td>\n",
       "      <td>NaN</td>\n",
       "      <td>NaN</td>\n",
       "      <td>1</td>\n",
       "      <td>00756</td>\n",
       "      <td>1</td>\n",
       "      <td>0.000000</td>\n",
       "      <td>...</td>\n",
       "      <td>NaN</td>\n",
       "      <td>052.8</td>\n",
       "      <td>37.037037</td>\n",
       "      <td>D</td>\n",
       "      <td>C</td>\n",
       "      <td>6</td>\n",
       "      <td>007</td>\n",
       "      <td>44</td>\n",
       "      <td>NaN</td>\n",
       "      <td>1</td>\n",
       "    </tr>\n",
       "    <tr>\n",
       "      <th>4</th>\n",
       "      <td>040</td>\n",
       "      <td>32607</td>\n",
       "      <td>NaN</td>\n",
       "      <td>M</td>\n",
       "      <td>NaN</td>\n",
       "      <td>NaN</td>\n",
       "      <td>NaN</td>\n",
       "      <td>NaN</td>\n",
       "      <td>1</td>\n",
       "      <td>7.218045</td>\n",
       "      <td>...</td>\n",
       "      <td>12D</td>\n",
       "      <td>026.8</td>\n",
       "      <td>75.338346</td>\n",
       "      <td>N</td>\n",
       "      <td>C</td>\n",
       "      <td>5</td>\n",
       "      <td>001</td>\n",
       "      <td>12</td>\n",
       "      <td>NaN</td>\n",
       "      <td>1</td>\n",
       "    </tr>\n",
       "  </tbody>\n",
       "</table>\n",
       "<p>5 rows × 55 columns</p>\n",
       "</div>"
      ],
      "text/plain": [
       "   AGE    ZIP MEDHOMEVAL SEX OCCDETAIL OCCDETAIL_DESC LIFESTAGE_CLUSTER  \\\n",
       "0  051  55127        NaN   M       NaN            NaN                 5   \n",
       "1  031  76310        NaN   M       NaN            NaN                 E   \n",
       "2  035  60187        NaN   M       NaN            NaN                 E   \n",
       "3  030  02919        NaN   M       NaN            NaN                 1   \n",
       "4  040  32607        NaN   M       NaN            NaN               NaN   \n",
       "\n",
       "  CNS_MEDINC GENDER_MIX  CNSUS_PCTB  ... TOD_SEN_DIFF_2016  \\\n",
       "0      01642          4    0.000000  ...               NaN   \n",
       "1      00833          1    0.000000  ...               NaN   \n",
       "2      01035          1    1.515152  ...               03D   \n",
       "3      00756          1    0.000000  ...               NaN   \n",
       "4        NaN          1    7.218045  ...               12D   \n",
       "\n",
       "  TOD_PRES_R_2020_PREC CNSUS_PCTW PARTY_CODE ETHNIC_INFER VOTER_CNT COUNTY_ST  \\\n",
       "0                039.2  66.666667          S            C        29       123   \n",
       "1                080.6  94.915254          S            C        1        485   \n",
       "2                037.0  86.363636          S            C        2        043   \n",
       "3                052.8  37.037037          D            C        6        007   \n",
       "4                026.8  75.338346          N            C        5        001   \n",
       "\n",
       "  CENSUS_ST ALUMNI_INDUSTRY predictit_user  \n",
       "0        27             NaN              1  \n",
       "1        48             NaN              1  \n",
       "2        17             NaN              1  \n",
       "3        44             NaN              1  \n",
       "4        12             NaN              1  \n",
       "\n",
       "[5 rows x 55 columns]"
      ]
     },
     "execution_count": 128,
     "metadata": {},
     "output_type": "execute_result"
    }
   ],
   "source": [
    "training_data.head()"
   ]
  },
  {
   "cell_type": "code",
   "execution_count": 13,
   "id": "4d2b57ec-a96e-442a-95fb-f708b5235f20",
   "metadata": {
    "tags": []
   },
   "outputs": [],
   "source": [
    "\n",
    "#consolidate SEX values due to some casing issues.\n",
    "training_data['SEX'] = training_data['SEX'].replace({'f': 'F', 'm': 'M', 'N': 'U', ' ': 'U'})\n",
    "\n",
    "# Mapping the PARTY_CODE to groups - inferred r/d as r/d etc\n",
    "party_code_mapping = {\n",
    "    'R': 'Republican', 'S': 'Republican',\n",
    "    'D': 'Democrat', 'E': 'Democrat',\n",
    "    'N': 'No Affiliation', 'U': 'Unknown'\n",
    "}\n",
    "\n",
    "# If the party code is not in the mapping, assign as other\n",
    "training_data['GROUPED_PARTY'] = training_data['PARTY_CODE'].map(party_code_mapping).fillna('Other')\n",
    "\n",
    "#create a unique county code using state code and county code\n",
    "training_data['COUNTY_CODE'] = training_data['CENSUS_ST']+training_data['COUNTY_ST']"
   ]
  },
  {
   "cell_type": "code",
   "execution_count": 14,
   "id": "dbe00f8c-a17c-4f86-98ac-a7830aec42df",
   "metadata": {
    "tags": []
   },
   "outputs": [],
   "source": [
    "# Convert numeric fields to float and replace Y/ NaN with 1 / 0\n",
    "for column in training_data.columns:\n",
    "    # Check if all values in the column are numeric\n",
    "    if training_data[column].apply(lambda x: str(x).replace('.', '', 1).isdigit()).all():\n",
    "        training_data[column] = training_data[column].astype(float)\n",
    "    # Check for fields where the only values are 'Y' and NaN\n",
    "    elif set(training_data[column].dropna().unique()) == {'Y'}:\n",
    "        training_data[column] = training_data[column].map({'Y': 1, np.nan: 0}).astype(int)\n",
    "        training_data[column] = training_data[column].astype(float)"
   ]
  },
  {
   "cell_type": "code",
   "execution_count": 15,
   "id": "6c75dfd3-872b-4498-a181-29d75399b842",
   "metadata": {
    "tags": []
   },
   "outputs": [],
   "source": [
    "#impute missing values\n",
    "for column in training_data.columns:\n",
    "    # Check if the column is numeric\n",
    "    if training_data[column].dtype in ['float64', 'int64']:\n",
    "        # Fill missing values with -1\n",
    "        training_data[column].fillna(-1, inplace=True)\n",
    "    else:\n",
    "        # Fill missing values with \"UNK\"\n",
    "        training_data[column].fillna(\"UNK\", inplace=True)"
   ]
  },
  {
   "cell_type": "markdown",
   "id": "bb51a78e-d6e7-4d8d-99be-445882044c7b",
   "metadata": {},
   "source": [
    "## Feature selection & train / test split"
   ]
  },
  {
   "cell_type": "code",
   "execution_count": 16,
   "id": "8d1673f7-ecf6-4ebd-b3b4-0908fc530715",
   "metadata": {
    "tags": []
   },
   "outputs": [],
   "source": [
    "#got below list of significant columns from the EDA ... added 'PARTY_CODE','GROUPED_PARTY','ETHNIC_INFER','VOTER_CNT',\n",
    "#                 'COUNTY_CODE','ALUMNI_INDUSTRY'"
   ]
  },
  {
   "cell_type": "code",
   "execution_count": 17,
   "id": "9ac8ef64-0ef7-42f9-b282-c9f0dd1fd868",
   "metadata": {
    "tags": []
   },
   "outputs": [],
   "source": [
    "features_to_use =['AGE','ZIP','MEDHOMEVAL','SEX','OCCDETAIL','OCCDETAIL_DESC','LIFESTAGE_CLUSTER','CNS_MEDINC','GENDER_MIX',\n",
    "'CNSUS_PCTB','AGE_IND','GENERATION','TOD_SEN_R_2020','HOMEMKTVAL','TOD_SEN_D_2020',\n",
    "'INCOMESTHH','TOD_SEN_D_2014','TOD_SEN_R_2014','TOD_PRES_R_2020','VP_GEN','TOD_PRES_D_2020','TOD_PRES_R_2016',\n",
    "'TOD_PRES_D_2016','AUTO_MODEL','TOD_GOV_R_2018','TOD_PRES_R_2012','CNSUS_PCTA','TOD_PRES_D_2012','TOD_SEN_R_2012',\n",
    "'TOD_GOV_D_2018','TOD_SEN_D_2012','TOD_SEN_R_2018','TOD_SEN_R_2016','NETWORTH','TOD_GOV_R_2014','TOD_SEN_D_2018',\n",
    "'TOD_GOV_D_2014','TOD_SEN_D_2016','TOD_SEN_DIFF_2020','TOD_PRES_DIFF_2020','EDUCATION','TOD_PRES_DIFF_2016','OCCUPATION',\n",
    "'WEALTH','TOD_SEN_DIFF_2014','TOD_SEN_DIFF_2016','TOD_PRES_R_2020_PREC','CNSUS_PCTW','PARTY_CODE','GROUPED_PARTY','ETHNIC_INFER','VOTER_CNT',\n",
    "                 'COUNTY_CODE','ALUMNI_INDUSTRY']\n",
    "\n",
    "X = training_data[features_to_use] \n",
    "y = training_data['predictit_user']"
   ]
  },
  {
   "cell_type": "code",
   "execution_count": 18,
   "id": "f7960971-6160-4fe9-b00b-21408d5cf8cd",
   "metadata": {
    "tags": []
   },
   "outputs": [],
   "source": [
    "#first split - validation set\n",
    "X_temp, X_validation, y_temp, y_validation = train_test_split(X, y, test_size=0.1, random_state=42) # 10% for validation\n",
    "\n",
    "#Second split: Splitting the remaining data into training and testing sets\n",
    "X_train, X_test, y_train, y_test = train_test_split(X_temp, y_temp, test_size=0.2, random_state=42) # 20% of 90% for testing"
   ]
  },
  {
   "cell_type": "code",
   "execution_count": 19,
   "id": "a33cab6d-2e3c-4bf9-80db-61a31e19fdde",
   "metadata": {
    "tags": []
   },
   "outputs": [],
   "source": [
    "# Creating copies of the original datasets for CatBoost and maybe LightGBM\n",
    "X_cb_lgbm = X.copy()\n",
    "y_cb_lgbm = y.copy()\n",
    "\n",
    "# First split \n",
    "X_temp_cb_lgbm, X_validation_cb_lgbm, y_temp_cb_lgbm, y_validation_cb_lgbm = train_test_split(X_cb_lgbm, y_cb_lgbm, test_size=0.1, random_state=42) # 10% for validation\n",
    "\n",
    "# Second split\n",
    "X_train_cb_lgbm, X_test_cb_lgbm, y_train_cb_lgbm, y_test_cb_lgbm = train_test_split(X_temp_cb_lgbm, y_temp_cb_lgbm, test_size=0.2, random_state=42) # 20% of 90% for testing"
   ]
  },
  {
   "cell_type": "markdown",
   "id": "e3592e0c-785f-4b11-878e-cfb0404ed188",
   "metadata": {},
   "source": [
    "# One-Hot Encoding"
   ]
  },
  {
   "cell_type": "code",
   "execution_count": 20,
   "id": "15972dce-f832-437d-ad05-ad60d1c125ad",
   "metadata": {
    "tags": []
   },
   "outputs": [],
   "source": [
    "categorical_columns = X_train.select_dtypes(include=['object', 'category']).columns.tolist()"
   ]
  },
  {
   "cell_type": "code",
   "execution_count": 21,
   "id": "233e7c3b-791f-4980-b950-ae61b975fac3",
   "metadata": {
    "tags": []
   },
   "outputs": [],
   "source": [
    "#categorical_columns"
   ]
  },
  {
   "cell_type": "code",
   "execution_count": 24,
   "id": "53965629-6f21-4499-928c-d56f1af8d42d",
   "metadata": {
    "tags": []
   },
   "outputs": [],
   "source": [
    "# Create column transformer \n",
    "preprocessor = ColumnTransformer(\n",
    "    transformers=[\n",
    "        ('cat', OneHotEncoder(handle_unknown='ignore'), categorical_columns)\n",
    "    ], remainder='passthrough')  # 'passthrough' numerical features as is\n",
    "\n",
    "# Apply  transformations\n",
    "X_train_encoded = preprocessor.fit_transform(X_train)\n",
    "X_test_encoded = preprocessor.transform(X_test)\n",
    "X_validation_encoded = preprocessor.transform(X_validation)\n",
    "\n",
    "\n",
    "# Get feature names after one-hot encoding for later use\n",
    "encoded_features = preprocessor.named_transformers_['cat'].get_feature_names_out(categorical_columns)\n",
    "# Combine with numerical features \n",
    "features_after_encoding = list(encoded_features) + [col for col in X_train.columns if col not in categorical_columns]\n"
   ]
  },
  {
   "cell_type": "markdown",
   "id": "89289222-0107-4a60-b50b-c90f06c9106b",
   "metadata": {},
   "source": [
    "# Evaluate Performance Across Different Models"
   ]
  },
  {
   "cell_type": "markdown",
   "id": "883fa500-12d4-4ec1-8753-d69b086758bf",
   "metadata": {},
   "source": [
    "## Dummy Classifier"
   ]
  },
  {
   "cell_type": "code",
   "execution_count": 26,
   "id": "0670fca2-af73-4b50-959c-54b518db748e",
   "metadata": {
    "tags": []
   },
   "outputs": [
    {
     "name": "stdout",
     "output_type": "stream",
     "text": [
      "Baseline accuracy of DummyClassifier: 0.5020911360799001\n"
     ]
    }
   ],
   "source": [
    "#train a dummy classifier\n",
    "\n",
    "dummy_clf = DummyClassifier(strategy='stratified')\n",
    "dummy_clf.fit(X_train_encoded, y_train)\n",
    "y_pred = dummy_clf.predict(X_test_encoded)\n",
    "\n",
    "# accuracy\n",
    "accuracy = accuracy_score(y_test, y_pred)\n",
    "print(f'Baseline accuracy of DummyClassifier: {accuracy}')"
   ]
  },
  {
   "cell_type": "markdown",
   "id": "6114a583-e2e0-401b-8f07-22fbb8dbb64d",
   "metadata": {},
   "source": [
    "## Logistic Regression"
   ]
  },
  {
   "cell_type": "code",
   "execution_count": 27,
   "id": "219407fc-6479-4979-8550-73f9d31eef06",
   "metadata": {
    "tags": []
   },
   "outputs": [
    {
     "name": "stdout",
     "output_type": "stream",
     "text": [
      "Test Set Evaluation:\n",
      "Accuracy: 0.7380149812734083\n",
      "              precision    recall  f1-score   support\n",
      "\n",
      "         0.0       0.74      0.73      0.73     15923\n",
      "         1.0       0.74      0.75      0.74     16117\n",
      "\n",
      "    accuracy                           0.74     32040\n",
      "   macro avg       0.74      0.74      0.74     32040\n",
      "weighted avg       0.74      0.74      0.74     32040\n",
      "\n"
     ]
    }
   ],
   "source": [
    "#initialize and train logistic regression model\n",
    "lr_pipeline = make_pipeline(StandardScaler(with_mean=False), LogisticRegression(max_iter=10000))\n",
    "lr_pipeline.fit(X_train_encoded, y_train)\n",
    "\n",
    "# Evaluate \n",
    "y_pred = lr_pipeline.predict(X_test_encoded)\n",
    "print(\"Test Set Evaluation:\")\n",
    "print(\"Accuracy:\", accuracy_score(y_test, y_pred))\n",
    "print(classification_report(y_test, y_pred))\n"
   ]
  },
  {
   "cell_type": "code",
   "execution_count": 28,
   "id": "83be21be-3614-49ce-a18b-02ccf4d91105",
   "metadata": {
    "tags": []
   },
   "outputs": [
    {
     "name": "stdout",
     "output_type": "stream",
     "text": [
      "5-Fold Cross-Validation Results:\n",
      "Average Accuracy: 0.724\n",
      "Average Precision (macro): 0.724\n",
      "Average F1-Score (macro): 0.724\n"
     ]
    }
   ],
   "source": [
    "#  5-fold cross-validation\n",
    "scoring = {'accuracy': 'accuracy', 'precision': 'precision_macro', 'f1': 'f1_macro'}\n",
    "cv_results = cross_validate(lr_pipeline, X_train_encoded, y_train, cv=5, scoring=scoring)\n",
    "\n",
    "#  evaluation metrics across  5 folds\n",
    "print(\"5-Fold Cross-Validation Results:\")\n",
    "print(f\"Average Accuracy: {np.mean(cv_results['test_accuracy']):.3f}\")\n",
    "print(f\"Average Precision (macro): {np.mean(cv_results['test_precision']):.3f}\")\n",
    "print(f\"Average F1-Score (macro): {np.mean(cv_results['test_f1']):.3f}\")"
   ]
  },
  {
   "cell_type": "code",
   "execution_count": 29,
   "id": "e090e81d-d12a-4f1a-b987-877caf7b3ab2",
   "metadata": {
    "tags": []
   },
   "outputs": [
    {
     "name": "stdout",
     "output_type": "stream",
     "text": [
      "Validation Set Evaluation:\n",
      "Accuracy: 0.7351685393258427\n",
      "              precision    recall  f1-score   support\n",
      "\n",
      "         0.0       0.74      0.73      0.73      8902\n",
      "         1.0       0.73      0.74      0.74      8898\n",
      "\n",
      "    accuracy                           0.74     17800\n",
      "   macro avg       0.74      0.74      0.74     17800\n",
      "weighted avg       0.74      0.74      0.74     17800\n",
      "\n"
     ]
    }
   ],
   "source": [
    "#validation set testing\n",
    "y_validation_pred = lr_pipeline.predict(X_validation_encoded)\n",
    "print(\"Validation Set Evaluation:\")\n",
    "print(\"Accuracy:\", accuracy_score(y_validation, y_validation_pred))\n",
    "print(classification_report(y_validation, y_validation_pred))"
   ]
  },
  {
   "cell_type": "markdown",
   "id": "1754cef2-7f93-43e8-a4d2-95ce109a4b5e",
   "metadata": {},
   "source": [
    "## Support Vector Machine"
   ]
  },
  {
   "cell_type": "code",
   "execution_count": 30,
   "id": "ff39e2a8-4b0f-42cc-80ae-2ee66d9a796e",
   "metadata": {
    "tags": []
   },
   "outputs": [
    {
     "name": "stderr",
     "output_type": "stream",
     "text": [
      "C:\\Users\\amanda.kaplan\\AppData\\Local\\Programs\\Python\\Python311\\Lib\\site-packages\\sklearn\\svm\\_base.py:297: ConvergenceWarning: Solver terminated early (max_iter=10000).  Consider pre-processing your data with StandardScaler or MinMaxScaler.\n",
      "  warnings.warn(\n"
     ]
    },
    {
     "name": "stdout",
     "output_type": "stream",
     "text": [
      "Test Set Evaluation:\n",
      "Accuracy: 0.6526841448189763\n",
      "              precision    recall  f1-score   support\n",
      "\n",
      "         0.0       0.69      0.54      0.61     15923\n",
      "         1.0       0.63      0.76      0.69     16117\n",
      "\n",
      "    accuracy                           0.65     32040\n",
      "   macro avg       0.66      0.65      0.65     32040\n",
      "weighted avg       0.66      0.65      0.65     32040\n",
      "\n"
     ]
    }
   ],
   "source": [
    "\n",
    "# Initialize / train SVM model\n",
    "svm_pipeline = make_pipeline(StandardScaler(with_mean=False), SVC(max_iter=10000))\n",
    "svm_pipeline.fit(X_train_encoded, y_train)\n",
    "\n",
    "# Evaluate \n",
    "y_pred = svm_pipeline.predict(X_test_encoded)\n",
    "print(\"Test Set Evaluation:\")\n",
    "print(\"Accuracy:\", accuracy_score(y_test, y_pred))\n",
    "print(classification_report(y_test, y_pred))\n"
   ]
  },
  {
   "cell_type": "code",
   "execution_count": 31,
   "id": "442ec6a9-dfa7-46c4-85b8-856ac4bdd02a",
   "metadata": {
    "tags": []
   },
   "outputs": [
    {
     "name": "stderr",
     "output_type": "stream",
     "text": [
      "C:\\Users\\amanda.kaplan\\AppData\\Local\\Programs\\Python\\Python311\\Lib\\site-packages\\sklearn\\svm\\_base.py:297: ConvergenceWarning: Solver terminated early (max_iter=10000).  Consider pre-processing your data with StandardScaler or MinMaxScaler.\n",
      "  warnings.warn(\n",
      "C:\\Users\\amanda.kaplan\\AppData\\Local\\Programs\\Python\\Python311\\Lib\\site-packages\\sklearn\\svm\\_base.py:297: ConvergenceWarning: Solver terminated early (max_iter=10000).  Consider pre-processing your data with StandardScaler or MinMaxScaler.\n",
      "  warnings.warn(\n",
      "C:\\Users\\amanda.kaplan\\AppData\\Local\\Programs\\Python\\Python311\\Lib\\site-packages\\sklearn\\svm\\_base.py:297: ConvergenceWarning: Solver terminated early (max_iter=10000).  Consider pre-processing your data with StandardScaler or MinMaxScaler.\n",
      "  warnings.warn(\n",
      "C:\\Users\\amanda.kaplan\\AppData\\Local\\Programs\\Python\\Python311\\Lib\\site-packages\\sklearn\\svm\\_base.py:297: ConvergenceWarning: Solver terminated early (max_iter=10000).  Consider pre-processing your data with StandardScaler or MinMaxScaler.\n",
      "  warnings.warn(\n",
      "C:\\Users\\amanda.kaplan\\AppData\\Local\\Programs\\Python\\Python311\\Lib\\site-packages\\sklearn\\svm\\_base.py:297: ConvergenceWarning: Solver terminated early (max_iter=10000).  Consider pre-processing your data with StandardScaler or MinMaxScaler.\n",
      "  warnings.warn(\n"
     ]
    },
    {
     "name": "stdout",
     "output_type": "stream",
     "text": [
      "5-Fold Cross-Validation Results:\n",
      "Average Accuracy: 0.649\n",
      "Average Precision (macro): 0.662\n",
      "Average F1-Score (macro): 0.642\n"
     ]
    }
   ],
   "source": [
    "#  5-fold cross-validation\n",
    "scoring = {'accuracy': 'accuracy', 'precision': 'precision_macro', 'f1': 'f1_macro'}\n",
    "cv_results = cross_validate(svm_pipeline, X_train_encoded, y_train, cv=5, scoring=scoring)\n",
    "\n",
    "#  evaluation metrics across  5 folds\n",
    "print(\"5-Fold Cross-Validation Results:\")\n",
    "print(f\"Average Accuracy: {np.mean(cv_results['test_accuracy']):.3f}\")\n",
    "print(f\"Average Precision (macro): {np.mean(cv_results['test_precision']):.3f}\")\n",
    "print(f\"Average F1-Score (macro): {np.mean(cv_results['test_f1']):.3f}\")"
   ]
  },
  {
   "cell_type": "code",
   "execution_count": 32,
   "id": "94b90908-a843-4119-b651-9f4b2205f9da",
   "metadata": {
    "tags": []
   },
   "outputs": [
    {
     "name": "stdout",
     "output_type": "stream",
     "text": [
      "Validation Set Evaluation:\n",
      "Accuracy: 0.6544943820224719\n",
      "              precision    recall  f1-score   support\n",
      "\n",
      "         0.0       0.69      0.55      0.61      8902\n",
      "         1.0       0.63      0.76      0.69      8898\n",
      "\n",
      "    accuracy                           0.65     17800\n",
      "   macro avg       0.66      0.65      0.65     17800\n",
      "weighted avg       0.66      0.65      0.65     17800\n",
      "\n"
     ]
    }
   ],
   "source": [
    "#validation set testing\n",
    "y_validation_pred = svm_pipeline.predict(X_validation_encoded)\n",
    "print(\"Validation Set Evaluation:\")\n",
    "print(\"Accuracy:\", accuracy_score(y_validation, y_validation_pred))\n",
    "print(classification_report(y_validation, y_validation_pred))"
   ]
  },
  {
   "cell_type": "markdown",
   "id": "ef905712-87b7-4e62-a971-b11a3ef4390c",
   "metadata": {},
   "source": [
    "## Random Forest"
   ]
  },
  {
   "cell_type": "code",
   "execution_count": 33,
   "id": "c071e2fa-65ec-4839-8362-3d0c7ce5f1ae",
   "metadata": {
    "tags": []
   },
   "outputs": [
    {
     "name": "stdout",
     "output_type": "stream",
     "text": [
      "Random Forest Model Test Set Evaluation:\n",
      "Accuracy: 0.7815543071161049\n",
      "              precision    recall  f1-score   support\n",
      "\n",
      "         0.0       0.78      0.77      0.78     15923\n",
      "         1.0       0.78      0.79      0.78     16117\n",
      "\n",
      "    accuracy                           0.78     32040\n",
      "   macro avg       0.78      0.78      0.78     32040\n",
      "weighted avg       0.78      0.78      0.78     32040\n",
      "\n"
     ]
    }
   ],
   "source": [
    "\n",
    "# Initialize / train  Random Forest model\n",
    "rf_pipeline = RandomForestClassifier()\n",
    "rf_pipeline.fit(X_train_encoded, y_train)\n",
    "\n",
    "# Evaluate \n",
    "y_pred_rf = rf_pipeline.predict(X_test_encoded)\n",
    "print(\"Random Forest Model Test Set Evaluation:\")\n",
    "print(\"Accuracy:\", accuracy_score(y_test, y_pred_rf))\n",
    "print(classification_report(y_test, y_pred_rf))"
   ]
  },
  {
   "cell_type": "code",
   "execution_count": 220,
   "id": "bceec658-bb0b-4feb-96fd-fe5fe8cf2659",
   "metadata": {
    "tags": []
   },
   "outputs": [
    {
     "name": "stdout",
     "output_type": "stream",
     "text": [
      "5-Fold Cross-Validation Results:\n",
      "Average Accuracy: 0.780\n",
      "Average Precision (macro): 0.780\n",
      "Average F1-Score (macro): 0.780\n"
     ]
    }
   ],
   "source": [
    "# 5-fold cross-validation\n",
    "scoring = {'accuracy': 'accuracy', 'precision': 'precision_macro', 'f1': 'f1_macro'}\n",
    "cv_results = cross_validate(rf_pipeline, X_train_encoded, y_train, cv=5, scoring=scoring)\n",
    "\n",
    "#  evaluation metrics across  5 folds\n",
    "print(\"5-Fold Cross-Validation Results:\")\n",
    "print(f\"Average Accuracy: {np.mean(cv_results['test_accuracy']):.3f}\")\n",
    "print(f\"Average Precision (macro): {np.mean(cv_results['test_precision']):.3f}\")\n",
    "print(f\"Average F1-Score (macro): {np.mean(cv_results['test_f1']):.3f}\")"
   ]
  },
  {
   "cell_type": "code",
   "execution_count": 34,
   "id": "24566d80-fa69-4527-b36a-0b771d39068e",
   "metadata": {
    "tags": []
   },
   "outputs": [
    {
     "name": "stdout",
     "output_type": "stream",
     "text": [
      "Validation Set Evaluation:\n",
      "Accuracy: 0.7852808988764045\n",
      "              precision    recall  f1-score   support\n",
      "\n",
      "         0.0       0.79      0.78      0.78      8902\n",
      "         1.0       0.78      0.79      0.79      8898\n",
      "\n",
      "    accuracy                           0.79     17800\n",
      "   macro avg       0.79      0.79      0.79     17800\n",
      "weighted avg       0.79      0.79      0.79     17800\n",
      "\n"
     ]
    }
   ],
   "source": [
    "#validation set testing\n",
    "y_validation_pred = rf_pipeline.predict(X_validation_encoded)\n",
    "print(\"Validation Set Evaluation:\")\n",
    "print(\"Accuracy:\", accuracy_score(y_validation, y_validation_pred))\n",
    "print(classification_report(y_validation, y_validation_pred))"
   ]
  },
  {
   "cell_type": "markdown",
   "id": "7405e6ed-a440-46b9-9b22-6b8913b928c3",
   "metadata": {},
   "source": [
    "## Gradient Boosting Classifier"
   ]
  },
  {
   "cell_type": "code",
   "execution_count": 35,
   "id": "b9850e06-2b1e-4963-a3f3-1970b595d3d6",
   "metadata": {
    "tags": []
   },
   "outputs": [
    {
     "name": "stdout",
     "output_type": "stream",
     "text": [
      "Gradient Boosted Decision Tree Model Test Set Evaluation:\n",
      "Accuracy: 0.7819288389513108\n",
      "              precision    recall  f1-score   support\n",
      "\n",
      "         0.0       0.79      0.77      0.78     15923\n",
      "         1.0       0.78      0.80      0.79     16117\n",
      "\n",
      "    accuracy                           0.78     32040\n",
      "   macro avg       0.78      0.78      0.78     32040\n",
      "weighted avg       0.78      0.78      0.78     32040\n",
      "\n"
     ]
    }
   ],
   "source": [
    "\n",
    "# Initialize and train the GradientBoostingClassifier\n",
    "\n",
    "gbdt_pipeline =  GradientBoostingClassifier()\n",
    "gbdt_pipeline.fit(X_train_encoded, y_train)\n",
    "\n",
    "# Evaluate\n",
    "y_pred_gbdt = gbdt_pipeline.predict(X_test_encoded)\n",
    "print(\"Gradient Boosted Decision Tree Model Test Set Evaluation:\")\n",
    "print(\"Accuracy:\", accuracy_score(y_test, y_pred_gbdt))\n",
    "print(classification_report(y_test, y_pred_gbdt))"
   ]
  },
  {
   "cell_type": "code",
   "execution_count": 223,
   "id": "75fc0790-0845-4cb2-b08f-1b0f3dfc10fa",
   "metadata": {
    "tags": []
   },
   "outputs": [
    {
     "name": "stdout",
     "output_type": "stream",
     "text": [
      "5-Fold Cross-Validation Results:\n",
      "Average Accuracy: 0.783\n",
      "Average Precision (macro): 0.783\n",
      "Average F1-Score (macro): 0.783\n"
     ]
    }
   ],
   "source": [
    "#  5-fold cross-validation\n",
    "scoring = {'accuracy': 'accuracy', 'precision': 'precision_macro', 'f1': 'f1_macro'}\n",
    "cv_results = cross_validate(gbdt_pipeline, X_train_encoded, y_train, cv=5, scoring=scoring)\n",
    "\n",
    "#  evaluation metrics across  5 folds\n",
    "print(\"5-Fold Cross-Validation Results:\")\n",
    "print(f\"Average Accuracy: {np.mean(cv_results['test_accuracy']):.3f}\")\n",
    "print(f\"Average Precision (macro): {np.mean(cv_results['test_precision']):.3f}\")\n",
    "print(f\"Average F1-Score (macro): {np.mean(cv_results['test_f1']):.3f}\")"
   ]
  },
  {
   "cell_type": "code",
   "execution_count": 36,
   "id": "7bab9358-815c-401a-9cad-24d2ef6d67fe",
   "metadata": {
    "tags": []
   },
   "outputs": [
    {
     "name": "stdout",
     "output_type": "stream",
     "text": [
      "Validation Set Evaluation:\n",
      "Accuracy: 0.784438202247191\n",
      "              precision    recall  f1-score   support\n",
      "\n",
      "         0.0       0.79      0.77      0.78      8902\n",
      "         1.0       0.78      0.80      0.79      8898\n",
      "\n",
      "    accuracy                           0.78     17800\n",
      "   macro avg       0.78      0.78      0.78     17800\n",
      "weighted avg       0.78      0.78      0.78     17800\n",
      "\n"
     ]
    }
   ],
   "source": [
    "#validation set testing\n",
    "y_validation_pred = gbdt_pipeline.predict(X_validation_encoded)\n",
    "print(\"Validation Set Evaluation:\")\n",
    "print(\"Accuracy:\", accuracy_score(y_validation, y_validation_pred))\n",
    "print(classification_report(y_validation, y_validation_pred))"
   ]
  },
  {
   "cell_type": "markdown",
   "id": "58e85fc4-f6fe-4be0-9e95-d8a1e4b6fe97",
   "metadata": {},
   "source": [
    "## XGBoost"
   ]
  },
  {
   "cell_type": "code",
   "execution_count": 37,
   "id": "c85d5b27-d389-4ba9-bc10-773acac44839",
   "metadata": {
    "tags": []
   },
   "outputs": [
    {
     "name": "stdout",
     "output_type": "stream",
     "text": [
      "XGBoost Model Test Set Evaluation:\n",
      "Accuracy: 0.7912921348314607\n",
      "              precision    recall  f1-score   support\n",
      "\n",
      "         0.0       0.80      0.78      0.79     15923\n",
      "         1.0       0.79      0.80      0.80     16117\n",
      "\n",
      "    accuracy                           0.79     32040\n",
      "   macro avg       0.79      0.79      0.79     32040\n",
      "weighted avg       0.79      0.79      0.79     32040\n",
      "\n"
     ]
    }
   ],
   "source": [
    "\n",
    "# Initialize and train  XGBoost model\n",
    "xgb_pipeline = xgb.XGBClassifier(use_label_encoder=False, eval_metric='logloss')\n",
    "xgb_pipeline.fit(X_train_encoded, y_train)\n",
    "\n",
    "# Evaluate \n",
    "y_pred_xgb = xgb_pipeline.predict(X_test_encoded)\n",
    "print(\"XGBoost Model Test Set Evaluation:\")\n",
    "print(\"Accuracy:\", accuracy_score(y_test, y_pred_xgb))\n",
    "print(classification_report(y_test, y_pred_xgb))"
   ]
  },
  {
   "cell_type": "code",
   "execution_count": 38,
   "id": "1f36a889-e50e-46c0-af18-3943f36c9792",
   "metadata": {
    "tags": []
   },
   "outputs": [
    {
     "name": "stdout",
     "output_type": "stream",
     "text": [
      "5-Fold Cross-Validation Results:\n",
      "Average Accuracy: 0.791\n",
      "Average Precision (macro): 0.791\n",
      "Average F1-Score (macro): 0.791\n"
     ]
    }
   ],
   "source": [
    "#  5-fold cross-validation\n",
    "scoring = {'accuracy': 'accuracy', 'precision': 'precision_macro', 'f1': 'f1_macro'}\n",
    "cv_results = cross_validate(xgb_pipeline, X_train_encoded, y_train, cv=5, scoring=scoring)\n",
    "\n",
    "# metrics across 5 folds\n",
    "print(\"5-Fold Cross-Validation Results:\")\n",
    "print(f\"Average Accuracy: {np.mean(cv_results['test_accuracy']):.3f}\")\n",
    "print(f\"Average Precision (macro): {np.mean(cv_results['test_precision']):.3f}\")\n",
    "print(f\"Average F1-Score (macro): {np.mean(cv_results['test_f1']):.3f}\")"
   ]
  },
  {
   "cell_type": "code",
   "execution_count": 39,
   "id": "161e7777-fdb1-44a6-88f7-da4e5a37efbe",
   "metadata": {
    "tags": []
   },
   "outputs": [
    {
     "name": "stdout",
     "output_type": "stream",
     "text": [
      "Validation Set Evaluation:\n",
      "Accuracy: 0.7915730337078651\n",
      "              precision    recall  f1-score   support\n",
      "\n",
      "         0.0       0.80      0.78      0.79      8902\n",
      "         1.0       0.78      0.80      0.79      8898\n",
      "\n",
      "    accuracy                           0.79     17800\n",
      "   macro avg       0.79      0.79      0.79     17800\n",
      "weighted avg       0.79      0.79      0.79     17800\n",
      "\n"
     ]
    }
   ],
   "source": [
    "#validation set testing\n",
    "y_validation_pred = xgb_pipeline.predict(X_validation_encoded)\n",
    "print(\"Validation Set Evaluation:\")\n",
    "print(\"Accuracy:\", accuracy_score(y_validation, y_validation_pred))\n",
    "print(classification_report(y_validation, y_validation_pred))"
   ]
  },
  {
   "cell_type": "markdown",
   "id": "a6bb33e7-2f2e-443b-81c9-d07d36bf5fd6",
   "metadata": {},
   "source": [
    "## CatBoost"
   ]
  },
  {
   "cell_type": "markdown",
   "id": "fd52b902-275b-4a2a-a6a9-9f805c32d10a",
   "metadata": {},
   "source": [
    "Okay , this model uses categorical columns without encoding, so feeding it a copy of the training/ test data that did not go through label encoding."
   ]
  },
  {
   "cell_type": "code",
   "execution_count": 40,
   "id": "d42f8f38-2744-4ec1-a237-410ef6ae1899",
   "metadata": {
    "tags": []
   },
   "outputs": [
    {
     "name": "stdout",
     "output_type": "stream",
     "text": [
      "0:\tlearn: 0.6468770\ttotal: 3.46s\tremaining: 57m 39s\n",
      "100:\tlearn: 0.4129291\ttotal: 5m 15s\tremaining: 46m 51s\n",
      "200:\tlearn: 0.3802761\ttotal: 10m 38s\tremaining: 42m 18s\n",
      "300:\tlearn: 0.3578337\ttotal: 16m 17s\tremaining: 37m 49s\n",
      "400:\tlearn: 0.3397464\ttotal: 21m 39s\tremaining: 32m 20s\n",
      "500:\tlearn: 0.3211038\ttotal: 26m 55s\tremaining: 26m 49s\n",
      "600:\tlearn: 0.3025305\ttotal: 32m 59s\tremaining: 21m 54s\n",
      "700:\tlearn: 0.2864381\ttotal: 38m 16s\tremaining: 16m 19s\n",
      "800:\tlearn: 0.2719182\ttotal: 43m 39s\tremaining: 10m 50s\n",
      "900:\tlearn: 0.2577956\ttotal: 49m 12s\tremaining: 5m 24s\n",
      "999:\tlearn: 0.2440150\ttotal: 54m 46s\tremaining: 0us\n",
      "CatBoost Test Set Evaluation:\n",
      "Accuracy: 0.7983458177278402\n",
      "              precision    recall  f1-score   support\n",
      "\n",
      "         0.0       0.80      0.79      0.79     15923\n",
      "         1.0       0.79      0.81      0.80     16117\n",
      "\n",
      "    accuracy                           0.80     32040\n",
      "   macro avg       0.80      0.80      0.80     32040\n",
      "weighted avg       0.80      0.80      0.80     32040\n",
      "\n"
     ]
    }
   ],
   "source": [
    "\n",
    "cat_features_indices = [X_train_cb_lgbm.columns.get_loc(c) for c in categorical_columns if c in X_train_cb_lgbm]\n",
    "\n",
    "cat_model = CatBoostClassifier(iterations=1000, \n",
    "                               learning_rate=0.1, \n",
    "                               depth=10,\n",
    "                               cat_features=cat_features_indices,\n",
    "                               verbose=100)\n",
    "\n",
    "# Train CatBoost model\n",
    "cat_model.fit(X_train_cb_lgbm, y_train_cb_lgbm)\n",
    "\n",
    "# Evaluate \n",
    "y_pred_cat = cat_model.predict(X_test_cb_lgbm)\n",
    "print(\"CatBoost Test Set Evaluation:\")\n",
    "print(\"Accuracy:\", accuracy_score(y_test_cb_lgbm, y_pred_cat))\n",
    "print(classification_report(y_test_cb_lgbm, y_pred_cat))\n"
   ]
  },
  {
   "cell_type": "code",
   "execution_count": 41,
   "id": "2f301fb5-0458-4c1b-85ef-cc84b6335139",
   "metadata": {
    "tags": []
   },
   "outputs": [
    {
     "name": "stdout",
     "output_type": "stream",
     "text": [
      "Validation Set Evaluation:\n",
      "Accuracy: 0.7984831460674158\n",
      "              precision    recall  f1-score   support\n",
      "\n",
      "         0.0       0.81      0.79      0.80      8902\n",
      "         1.0       0.79      0.81      0.80      8898\n",
      "\n",
      "    accuracy                           0.80     17800\n",
      "   macro avg       0.80      0.80      0.80     17800\n",
      "weighted avg       0.80      0.80      0.80     17800\n",
      "\n"
     ]
    }
   ],
   "source": [
    "#validation set testing\n",
    "y_validation_pred = cat_model.predict(X_validation_cb_lgbm)\n",
    "print(\"Validation Set Evaluation:\")\n",
    "print(\"Accuracy:\", accuracy_score(y_validation, y_validation_pred))\n",
    "print(classification_report(y_validation, y_validation_pred))"
   ]
  },
  {
   "cell_type": "code",
   "execution_count": 49,
   "id": "a0a04fa1-1429-4fb8-a1d7-7c5cef3ebc76",
   "metadata": {
    "tags": []
   },
   "outputs": [
    {
     "name": "stdout",
     "output_type": "stream",
     "text": [
      "0:\tlearn: 0.6472879\ttotal: 2.35s\tremaining: 39m 13s\n",
      "100:\tlearn: 0.4088572\ttotal: 4m 38s\tremaining: 41m 20s\n",
      "200:\tlearn: 0.3774227\ttotal: 10m 1s\tremaining: 39m 49s\n",
      "300:\tlearn: 0.3516770\ttotal: 15m 17s\tremaining: 35m 29s\n",
      "400:\tlearn: 0.3313755\ttotal: 20m 18s\tremaining: 30m 19s\n",
      "500:\tlearn: 0.3111712\ttotal: 25m 33s\tremaining: 25m 26s\n",
      "600:\tlearn: 0.2898593\ttotal: 30m 48s\tremaining: 20m 27s\n",
      "700:\tlearn: 0.2722759\ttotal: 36m 29s\tremaining: 15m 33s\n",
      "800:\tlearn: 0.2567562\ttotal: 44m 33s\tremaining: 11m 4s\n",
      "900:\tlearn: 0.2418122\ttotal: 52m 49s\tremaining: 5m 48s\n",
      "999:\tlearn: 0.2274639\ttotal: 59m 11s\tremaining: 0us\n",
      "0:\tlearn: 0.6488450\ttotal: 2.93s\tremaining: 48m 50s\n",
      "100:\tlearn: 0.4066616\ttotal: 6m\tremaining: 53m 27s\n",
      "200:\tlearn: 0.3779134\ttotal: 12m 45s\tremaining: 50m 44s\n",
      "300:\tlearn: 0.3546718\ttotal: 18m 21s\tremaining: 42m 37s\n",
      "400:\tlearn: 0.3313861\ttotal: 23m 53s\tremaining: 35m 41s\n",
      "500:\tlearn: 0.3113814\ttotal: 29m 24s\tremaining: 29m 17s\n",
      "600:\tlearn: 0.2949731\ttotal: 35m 29s\tremaining: 23m 34s\n",
      "700:\tlearn: 0.2771364\ttotal: 42m 34s\tremaining: 18m 9s\n",
      "800:\tlearn: 0.2597669\ttotal: 49m 29s\tremaining: 12m 17s\n",
      "900:\tlearn: 0.2448716\ttotal: 56m 52s\tremaining: 6m 14s\n",
      "999:\tlearn: 0.2305069\ttotal: 1h 3m 13s\tremaining: 0us\n",
      "0:\tlearn: 0.6478360\ttotal: 3.32s\tremaining: 55m 19s\n",
      "100:\tlearn: 0.4079027\ttotal: 5m 57s\tremaining: 53m 4s\n",
      "200:\tlearn: 0.3758383\ttotal: 11m 34s\tremaining: 45m 59s\n",
      "300:\tlearn: 0.3510456\ttotal: 17m 14s\tremaining: 40m 2s\n",
      "400:\tlearn: 0.3283491\ttotal: 22m 41s\tremaining: 33m 53s\n",
      "500:\tlearn: 0.3075095\ttotal: 28m 21s\tremaining: 28m 15s\n",
      "600:\tlearn: 0.2909219\ttotal: 34m 1s\tremaining: 22m 35s\n",
      "700:\tlearn: 0.2715387\ttotal: 39m 33s\tremaining: 16m 52s\n",
      "800:\tlearn: 0.2560522\ttotal: 45m 8s\tremaining: 11m 12s\n",
      "900:\tlearn: 0.2411850\ttotal: 51m 57s\tremaining: 5m 42s\n",
      "999:\tlearn: 0.2260975\ttotal: 58m 20s\tremaining: 0us\n",
      "0:\tlearn: 0.6478949\ttotal: 2.58s\tremaining: 42m 58s\n",
      "100:\tlearn: 0.4060236\ttotal: 5m 50s\tremaining: 52m 1s\n",
      "200:\tlearn: 0.3739821\ttotal: 11m 47s\tremaining: 46m 51s\n",
      "300:\tlearn: 0.3499254\ttotal: 17m 13s\tremaining: 39m 59s\n",
      "400:\tlearn: 0.3260911\ttotal: 24m 5s\tremaining: 35m 59s\n",
      "500:\tlearn: 0.3061247\ttotal: 29m 59s\tremaining: 29m 52s\n",
      "600:\tlearn: 0.2866919\ttotal: 36m 16s\tremaining: 24m 4s\n",
      "700:\tlearn: 0.2686508\ttotal: 42m 14s\tremaining: 18m 1s\n",
      "800:\tlearn: 0.2527172\ttotal: 48m 14s\tremaining: 11m 59s\n",
      "900:\tlearn: 0.2378923\ttotal: 54m 8s\tremaining: 5m 56s\n",
      "999:\tlearn: 0.2229137\ttotal: 1h\tremaining: 0us\n",
      "0:\tlearn: 0.6471110\ttotal: 2.52s\tremaining: 42m 1s\n",
      "100:\tlearn: 0.4086704\ttotal: 5m 22s\tremaining: 47m 49s\n",
      "200:\tlearn: 0.3750735\ttotal: 10m 45s\tremaining: 42m 46s\n",
      "300:\tlearn: 0.3484112\ttotal: 16m 7s\tremaining: 37m 26s\n",
      "400:\tlearn: 0.3267295\ttotal: 21m 25s\tremaining: 32m\n",
      "500:\tlearn: 0.3051046\ttotal: 26m 45s\tremaining: 26m 38s\n",
      "600:\tlearn: 0.2866523\ttotal: 32m 10s\tremaining: 21m 21s\n",
      "700:\tlearn: 0.2688433\ttotal: 37m 36s\tremaining: 16m 2s\n",
      "800:\tlearn: 0.2509158\ttotal: 43m 4s\tremaining: 10m 42s\n",
      "900:\tlearn: 0.2359580\ttotal: 48m 33s\tremaining: 5m 20s\n",
      "999:\tlearn: 0.2216806\ttotal: 53m 56s\tremaining: 0us\n",
      "5-Fold Cross-Validation Results:\n",
      "Average Accuracy: 0.797\n",
      "Average Precision (macro): 0.797\n",
      "Average F1-Score (macro): 0.797\n"
     ]
    }
   ],
   "source": [
    "#  5-fold cross-validation\n",
    "scoring = {'accuracy': 'accuracy', 'precision': 'precision_macro', 'f1': 'f1_macro'}\n",
    "cv_results = cross_validate(cat_model, X_train_cb_lgbm, y_train_cb_lgbm, cv=5, scoring=scoring)\n",
    "\n",
    "# evaluation metrics across 5 folds\n",
    "print(\"5-Fold Cross-Validation Results:\")\n",
    "print(f\"Average Accuracy: {np.mean(cv_results['test_accuracy']):.3f}\")\n",
    "print(f\"Average Precision (macro): {np.mean(cv_results['test_precision']):.3f}\")\n",
    "print(f\"Average F1-Score (macro): {np.mean(cv_results['test_f1']):.3f}\")"
   ]
  },
  {
   "cell_type": "markdown",
   "id": "720ebeb1-b78d-4d11-be69-aef9cc3ffab5",
   "metadata": {},
   "source": [
    "## Hyper-parameter Tuning with CatBoost"
   ]
  },
  {
   "cell_type": "code",
   "execution_count": 50,
   "id": "94bc17a8-23ac-4fa3-9ed3-5464a7d59023",
   "metadata": {
    "tags": []
   },
   "outputs": [
    {
     "name": "stdout",
     "output_type": "stream",
     "text": [
      "Fitting 5 folds for each of 8 candidates, totalling 40 fits\n",
      "0:\tlearn: 0.6719008\ttotal: 905ms\tremaining: 7m 31s\n",
      "100:\tlearn: 0.4518594\ttotal: 1m 33s\tremaining: 6m 9s\n",
      "200:\tlearn: 0.4436898\ttotal: 3m 11s\tremaining: 4m 45s\n",
      "300:\tlearn: 0.4382890\ttotal: 4m 53s\tremaining: 3m 13s\n",
      "400:\tlearn: 0.4348028\ttotal: 6m 41s\tremaining: 1m 39s\n",
      "499:\tlearn: 0.4323864\ttotal: 8m 28s\tremaining: 0us\n",
      "[CV 1/5] END depth=6, iterations=500, learning_rate=0.05;, score=0.799 total time= 8.6min\n",
      "0:\tlearn: 0.6720170\ttotal: 940ms\tremaining: 7m 48s\n",
      "100:\tlearn: 0.4519204\ttotal: 1m 41s\tremaining: 6m 40s\n",
      "200:\tlearn: 0.4438799\ttotal: 3m 23s\tremaining: 5m 2s\n",
      "300:\tlearn: 0.4385272\ttotal: 5m 8s\tremaining: 3m 24s\n",
      "400:\tlearn: 0.4346404\ttotal: 6m 56s\tremaining: 1m 42s\n",
      "499:\tlearn: 0.4320563\ttotal: 8m 36s\tremaining: 0us\n",
      "[CV 2/5] END depth=6, iterations=500, learning_rate=0.05;, score=0.801 total time= 8.7min\n",
      "0:\tlearn: 0.6718916\ttotal: 839ms\tremaining: 6m 58s\n",
      "100:\tlearn: 0.4505095\ttotal: 1m 36s\tremaining: 6m 21s\n",
      "200:\tlearn: 0.4420587\ttotal: 3m 13s\tremaining: 4m 47s\n",
      "300:\tlearn: 0.4368373\ttotal: 4m 53s\tremaining: 3m 14s\n",
      "400:\tlearn: 0.4329739\ttotal: 6m 36s\tremaining: 1m 37s\n",
      "499:\tlearn: 0.4299663\ttotal: 8m 22s\tremaining: 0us\n",
      "[CV 3/5] END depth=6, iterations=500, learning_rate=0.05;, score=0.796 total time= 8.4min\n",
      "0:\tlearn: 0.6719334\ttotal: 901ms\tremaining: 7m 29s\n",
      "100:\tlearn: 0.4505526\ttotal: 1m 36s\tremaining: 6m 21s\n",
      "200:\tlearn: 0.4418336\ttotal: 3m 12s\tremaining: 4m 46s\n",
      "300:\tlearn: 0.4366124\ttotal: 4m 54s\tremaining: 3m 14s\n",
      "400:\tlearn: 0.4327593\ttotal: 6m 36s\tremaining: 1m 37s\n",
      "499:\tlearn: 0.4299243\ttotal: 8m 16s\tremaining: 0us\n",
      "[CV 4/5] END depth=6, iterations=500, learning_rate=0.05;, score=0.797 total time= 8.3min\n",
      "0:\tlearn: 0.6720085\ttotal: 851ms\tremaining: 7m 4s\n",
      "100:\tlearn: 0.4531151\ttotal: 1m 35s\tremaining: 6m 15s\n",
      "200:\tlearn: 0.4448863\ttotal: 3m 11s\tremaining: 4m 44s\n",
      "300:\tlearn: 0.4395250\ttotal: 4m 52s\tremaining: 3m 13s\n",
      "400:\tlearn: 0.4358183\ttotal: 6m 32s\tremaining: 1m 36s\n",
      "499:\tlearn: 0.4329232\ttotal: 8m 14s\tremaining: 0us\n",
      "[CV 5/5] END depth=6, iterations=500, learning_rate=0.05;, score=0.800 total time= 8.3min\n",
      "0:\tlearn: 0.6521316\ttotal: 871ms\tremaining: 7m 14s\n",
      "100:\tlearn: 0.4441081\ttotal: 1m 36s\tremaining: 6m 22s\n",
      "200:\tlearn: 0.4353320\ttotal: 3m 15s\tremaining: 4m 51s\n",
      "300:\tlearn: 0.4296628\ttotal: 4m 58s\tremaining: 3m 17s\n",
      "400:\tlearn: 0.4254867\ttotal: 6m 39s\tremaining: 1m 38s\n",
      "499:\tlearn: 0.4215216\ttotal: 8m 23s\tremaining: 0us\n",
      "[CV 1/5] END depth=6, iterations=500, learning_rate=0.1;, score=0.800 total time= 8.5min\n",
      "0:\tlearn: 0.6523561\ttotal: 882ms\tremaining: 7m 19s\n",
      "100:\tlearn: 0.4442846\ttotal: 1m 36s\tremaining: 6m 21s\n",
      "200:\tlearn: 0.4354908\ttotal: 3m 17s\tremaining: 4m 53s\n",
      "300:\tlearn: 0.4301728\ttotal: 5m\tremaining: 3m 18s\n",
      "400:\tlearn: 0.4261283\ttotal: 6m 43s\tremaining: 1m 39s\n",
      "499:\tlearn: 0.4223721\ttotal: 8m 24s\tremaining: 0us\n",
      "[CV 2/5] END depth=6, iterations=500, learning_rate=0.1;, score=0.802 total time= 8.5min\n",
      "0:\tlearn: 0.6521114\ttotal: 957ms\tremaining: 7m 57s\n",
      "100:\tlearn: 0.4420617\ttotal: 1m 35s\tremaining: 6m 15s\n",
      "200:\tlearn: 0.4332684\ttotal: 3m 14s\tremaining: 4m 49s\n",
      "300:\tlearn: 0.4277105\ttotal: 4m 57s\tremaining: 3m 16s\n",
      "400:\tlearn: 0.4230681\ttotal: 6m 40s\tremaining: 1m 38s\n",
      "499:\tlearn: 0.4193312\ttotal: 8m 23s\tremaining: 0us\n",
      "[CV 3/5] END depth=6, iterations=500, learning_rate=0.1;, score=0.797 total time= 8.4min\n",
      "0:\tlearn: 0.6522058\ttotal: 944ms\tremaining: 7m 51s\n",
      "100:\tlearn: 0.4423015\ttotal: 1m 35s\tremaining: 6m 18s\n",
      "200:\tlearn: 0.4330791\ttotal: 3m 14s\tremaining: 4m 48s\n",
      "300:\tlearn: 0.4279739\ttotal: 4m 53s\tremaining: 3m 14s\n",
      "400:\tlearn: 0.4238756\ttotal: 6m 35s\tremaining: 1m 37s\n",
      "499:\tlearn: 0.4200856\ttotal: 8m 21s\tremaining: 0us\n",
      "[CV 4/5] END depth=6, iterations=500, learning_rate=0.1;, score=0.798 total time= 8.4min\n",
      "0:\tlearn: 0.6523450\ttotal: 804ms\tremaining: 6m 41s\n",
      "100:\tlearn: 0.4452612\ttotal: 1m 35s\tremaining: 6m 18s\n",
      "200:\tlearn: 0.4363354\ttotal: 3m 15s\tremaining: 4m 51s\n",
      "300:\tlearn: 0.4307227\ttotal: 4m 57s\tremaining: 3m 16s\n",
      "400:\tlearn: 0.4264825\ttotal: 6m 41s\tremaining: 1m 39s\n",
      "499:\tlearn: 0.4224262\ttotal: 8m 22s\tremaining: 0us\n",
      "[CV 5/5] END depth=6, iterations=500, learning_rate=0.1;, score=0.802 total time= 8.4min\n",
      "0:\tlearn: 0.6719008\ttotal: 840ms\tremaining: 13m 58s\n",
      "100:\tlearn: 0.4518594\ttotal: 1m 36s\tremaining: 14m 16s\n",
      "200:\tlearn: 0.4436898\ttotal: 3m 15s\tremaining: 12m 55s\n",
      "300:\tlearn: 0.4382890\ttotal: 4m 51s\tremaining: 11m 16s\n",
      "400:\tlearn: 0.4348028\ttotal: 6m 33s\tremaining: 9m 47s\n",
      "500:\tlearn: 0.4323452\ttotal: 8m 16s\tremaining: 8m 14s\n",
      "600:\tlearn: 0.4299363\ttotal: 9m 57s\tremaining: 6m 36s\n",
      "700:\tlearn: 0.4278977\ttotal: 11m 41s\tremaining: 4m 59s\n",
      "800:\tlearn: 0.4258552\ttotal: 13m 26s\tremaining: 3m 20s\n",
      "900:\tlearn: 0.4236674\ttotal: 15m 10s\tremaining: 1m 40s\n",
      "999:\tlearn: 0.4218045\ttotal: 16m 52s\tremaining: 0us\n",
      "[CV 1/5] END depth=6, iterations=1000, learning_rate=0.05;, score=0.800 total time=16.9min\n",
      "0:\tlearn: 0.6720170\ttotal: 926ms\tremaining: 15m 25s\n",
      "100:\tlearn: 0.4519204\ttotal: 1m 36s\tremaining: 14m 19s\n",
      "200:\tlearn: 0.4438799\ttotal: 3m 14s\tremaining: 12m 54s\n",
      "300:\tlearn: 0.4385272\ttotal: 4m 58s\tremaining: 11m 33s\n",
      "400:\tlearn: 0.4346404\ttotal: 6m 44s\tremaining: 10m 4s\n",
      "500:\tlearn: 0.4320028\ttotal: 8m 33s\tremaining: 8m 31s\n",
      "600:\tlearn: 0.4297003\ttotal: 10m 12s\tremaining: 6m 46s\n",
      "700:\tlearn: 0.4273192\ttotal: 11m 55s\tremaining: 5m 5s\n",
      "800:\tlearn: 0.4253727\ttotal: 13m 36s\tremaining: 3m 22s\n",
      "900:\tlearn: 0.4234794\ttotal: 15m 21s\tremaining: 1m 41s\n",
      "999:\tlearn: 0.4215757\ttotal: 17m 13s\tremaining: 0us\n",
      "[CV 2/5] END depth=6, iterations=1000, learning_rate=0.05;, score=0.803 total time=17.3min\n",
      "0:\tlearn: 0.6718916\ttotal: 913ms\tremaining: 15m 11s\n",
      "100:\tlearn: 0.4505095\ttotal: 1m 36s\tremaining: 14m 21s\n",
      "200:\tlearn: 0.4420587\ttotal: 3m 25s\tremaining: 13m 37s\n",
      "300:\tlearn: 0.4368373\ttotal: 5m 13s\tremaining: 12m 8s\n",
      "400:\tlearn: 0.4329739\ttotal: 6m 55s\tremaining: 10m 20s\n",
      "500:\tlearn: 0.4299475\ttotal: 8m 40s\tremaining: 8m 38s\n",
      "600:\tlearn: 0.4275480\ttotal: 10m 26s\tremaining: 6m 56s\n",
      "700:\tlearn: 0.4252575\ttotal: 12m 16s\tremaining: 5m 13s\n",
      "800:\tlearn: 0.4232123\ttotal: 14m 5s\tremaining: 3m 30s\n",
      "900:\tlearn: 0.4211834\ttotal: 15m 50s\tremaining: 1m 44s\n",
      "999:\tlearn: 0.4192614\ttotal: 17m 34s\tremaining: 0us\n",
      "[CV 3/5] END depth=6, iterations=1000, learning_rate=0.05;, score=0.797 total time=17.8min\n",
      "0:\tlearn: 0.6719334\ttotal: 817ms\tremaining: 13m 36s\n",
      "100:\tlearn: 0.4505526\ttotal: 1m 35s\tremaining: 14m 7s\n",
      "200:\tlearn: 0.4418336\ttotal: 3m 11s\tremaining: 12m 39s\n",
      "300:\tlearn: 0.4366124\ttotal: 4m 52s\tremaining: 11m 19s\n",
      "400:\tlearn: 0.4327593\ttotal: 6m 34s\tremaining: 9m 49s\n",
      "500:\tlearn: 0.4299111\ttotal: 8m 15s\tremaining: 8m 13s\n",
      "600:\tlearn: 0.4272396\ttotal: 10m\tremaining: 6m 38s\n",
      "700:\tlearn: 0.4252452\ttotal: 11m 43s\tremaining: 4m 59s\n",
      "800:\tlearn: 0.4233354\ttotal: 13m 27s\tremaining: 3m 20s\n",
      "900:\tlearn: 0.4215325\ttotal: 15m 11s\tremaining: 1m 40s\n",
      "999:\tlearn: 0.4196758\ttotal: 17m 1s\tremaining: 0us\n",
      "[CV 4/5] END depth=6, iterations=1000, learning_rate=0.05;, score=0.797 total time=17.2min\n",
      "0:\tlearn: 0.6720085\ttotal: 800ms\tremaining: 13m 18s\n",
      "100:\tlearn: 0.4531151\ttotal: 1m 36s\tremaining: 14m 16s\n",
      "200:\tlearn: 0.4448863\ttotal: 3m 13s\tremaining: 12m 50s\n",
      "300:\tlearn: 0.4395250\ttotal: 4m 56s\tremaining: 11m 29s\n",
      "400:\tlearn: 0.4358183\ttotal: 6m 36s\tremaining: 9m 52s\n",
      "500:\tlearn: 0.4329072\ttotal: 8m 20s\tremaining: 8m 18s\n",
      "600:\tlearn: 0.4303228\ttotal: 10m 6s\tremaining: 6m 42s\n",
      "700:\tlearn: 0.4281561\ttotal: 11m 53s\tremaining: 5m 4s\n",
      "800:\tlearn: 0.4259032\ttotal: 13m 59s\tremaining: 3m 28s\n",
      "900:\tlearn: 0.4238440\ttotal: 15m 52s\tremaining: 1m 44s\n",
      "999:\tlearn: 0.4218933\ttotal: 17m 47s\tremaining: 0us\n",
      "[CV 5/5] END depth=6, iterations=1000, learning_rate=0.05;, score=0.802 total time=17.9min\n",
      "0:\tlearn: 0.6521316\ttotal: 972ms\tremaining: 16m 11s\n",
      "100:\tlearn: 0.4441081\ttotal: 1m 45s\tremaining: 15m 40s\n",
      "200:\tlearn: 0.4353320\ttotal: 3m 30s\tremaining: 13m 57s\n",
      "300:\tlearn: 0.4296628\ttotal: 5m 21s\tremaining: 12m 25s\n",
      "400:\tlearn: 0.4254867\ttotal: 7m 7s\tremaining: 10m 39s\n",
      "500:\tlearn: 0.4214790\ttotal: 8m 59s\tremaining: 8m 57s\n",
      "600:\tlearn: 0.4177087\ttotal: 10m 48s\tremaining: 7m 10s\n",
      "700:\tlearn: 0.4142729\ttotal: 12m 46s\tremaining: 5m 27s\n",
      "800:\tlearn: 0.4107910\ttotal: 14m 36s\tremaining: 3m 37s\n",
      "900:\tlearn: 0.4075627\ttotal: 16m 22s\tremaining: 1m 47s\n",
      "999:\tlearn: 0.4041846\ttotal: 18m 7s\tremaining: 0us\n",
      "[CV 1/5] END depth=6, iterations=1000, learning_rate=0.1;, score=0.801 total time=18.2min\n",
      "0:\tlearn: 0.6523561\ttotal: 932ms\tremaining: 15m 31s\n",
      "100:\tlearn: 0.4442846\ttotal: 1m 37s\tremaining: 14m 28s\n",
      "200:\tlearn: 0.4354908\ttotal: 3m 17s\tremaining: 13m 4s\n",
      "300:\tlearn: 0.4301728\ttotal: 4m 55s\tremaining: 11m 26s\n",
      "400:\tlearn: 0.4261283\ttotal: 6m 38s\tremaining: 9m 55s\n",
      "500:\tlearn: 0.4223301\ttotal: 8m 20s\tremaining: 8m 18s\n",
      "600:\tlearn: 0.4185071\ttotal: 10m 3s\tremaining: 6m 40s\n",
      "700:\tlearn: 0.4149589\ttotal: 11m 49s\tremaining: 5m 2s\n",
      "800:\tlearn: 0.4117703\ttotal: 13m 34s\tremaining: 3m 22s\n",
      "900:\tlearn: 0.4084999\ttotal: 15m 20s\tremaining: 1m 41s\n",
      "999:\tlearn: 0.4053040\ttotal: 17m 5s\tremaining: 0us\n",
      "[CV 2/5] END depth=6, iterations=1000, learning_rate=0.1;, score=0.803 total time=17.2min\n",
      "0:\tlearn: 0.6521114\ttotal: 824ms\tremaining: 13m 43s\n",
      "100:\tlearn: 0.4420617\ttotal: 1m 35s\tremaining: 14m 6s\n",
      "200:\tlearn: 0.4332684\ttotal: 3m 14s\tremaining: 12m 54s\n",
      "300:\tlearn: 0.4277105\ttotal: 4m 57s\tremaining: 11m 31s\n",
      "400:\tlearn: 0.4230681\ttotal: 6m 40s\tremaining: 9m 57s\n",
      "500:\tlearn: 0.4192877\ttotal: 8m 25s\tremaining: 8m 23s\n",
      "600:\tlearn: 0.4153328\ttotal: 10m 7s\tremaining: 6m 43s\n",
      "700:\tlearn: 0.4116910\ttotal: 11m 54s\tremaining: 5m 4s\n",
      "800:\tlearn: 0.4081880\ttotal: 13m 43s\tremaining: 3m 24s\n",
      "900:\tlearn: 0.4048562\ttotal: 15m 30s\tremaining: 1m 42s\n",
      "999:\tlearn: 0.4015167\ttotal: 17m 18s\tremaining: 0us\n",
      "[CV 3/5] END depth=6, iterations=1000, learning_rate=0.1;, score=0.798 total time=17.4min\n",
      "0:\tlearn: 0.6522058\ttotal: 818ms\tremaining: 13m 37s\n",
      "100:\tlearn: 0.4423015\ttotal: 1m 37s\tremaining: 14m 28s\n",
      "200:\tlearn: 0.4330791\ttotal: 3m 16s\tremaining: 13m 2s\n",
      "300:\tlearn: 0.4279739\ttotal: 4m 55s\tremaining: 11m 26s\n",
      "400:\tlearn: 0.4238756\ttotal: 6m 38s\tremaining: 9m 54s\n",
      "500:\tlearn: 0.4200561\ttotal: 8m 25s\tremaining: 8m 23s\n",
      "600:\tlearn: 0.4168119\ttotal: 10m 9s\tremaining: 6m 44s\n",
      "700:\tlearn: 0.4132662\ttotal: 11m 55s\tremaining: 5m 5s\n",
      "800:\tlearn: 0.4099251\ttotal: 13m 40s\tremaining: 3m 23s\n",
      "900:\tlearn: 0.4065931\ttotal: 15m 28s\tremaining: 1m 42s\n",
      "999:\tlearn: 0.4032891\ttotal: 17m 13s\tremaining: 0us\n",
      "[CV 4/5] END depth=6, iterations=1000, learning_rate=0.1;, score=0.798 total time=17.3min\n",
      "0:\tlearn: 0.6523450\ttotal: 786ms\tremaining: 13m 4s\n",
      "100:\tlearn: 0.4452612\ttotal: 1m 35s\tremaining: 14m 11s\n",
      "200:\tlearn: 0.4363354\ttotal: 3m 15s\tremaining: 12m 57s\n",
      "300:\tlearn: 0.4307227\ttotal: 4m 56s\tremaining: 11m 27s\n",
      "400:\tlearn: 0.4264825\ttotal: 6m 40s\tremaining: 9m 58s\n",
      "500:\tlearn: 0.4223857\ttotal: 8m 21s\tremaining: 8m 19s\n",
      "600:\tlearn: 0.4186442\ttotal: 10m 6s\tremaining: 6m 42s\n",
      "700:\tlearn: 0.4149283\ttotal: 11m 50s\tremaining: 5m 2s\n",
      "800:\tlearn: 0.4114672\ttotal: 13m 33s\tremaining: 3m 22s\n",
      "900:\tlearn: 0.4080833\ttotal: 15m 19s\tremaining: 1m 41s\n",
      "999:\tlearn: 0.4048546\ttotal: 17m 3s\tremaining: 0us\n",
      "[CV 5/5] END depth=6, iterations=1000, learning_rate=0.1;, score=0.803 total time=17.1min\n",
      "0:\tlearn: 0.6693521\ttotal: 2.6s\tremaining: 21m 36s\n",
      "100:\tlearn: 0.4288598\ttotal: 4m 58s\tremaining: 19m 38s\n",
      "200:\tlearn: 0.4074065\ttotal: 9m 57s\tremaining: 14m 49s\n",
      "300:\tlearn: 0.3903361\ttotal: 15m 5s\tremaining: 9m 58s\n",
      "400:\tlearn: 0.3777745\ttotal: 20m 15s\tremaining: 5m\n",
      "499:\tlearn: 0.3665140\ttotal: 25m 28s\tremaining: 0us\n",
      "[CV 1/5] END depth=10, iterations=500, learning_rate=0.05;, score=0.801 total time=25.5min\n",
      "0:\tlearn: 0.6701751\ttotal: 2.66s\tremaining: 22m 8s\n",
      "100:\tlearn: 0.4293209\ttotal: 4m 52s\tremaining: 19m 16s\n",
      "200:\tlearn: 0.4081724\ttotal: 9m 53s\tremaining: 14m 43s\n",
      "300:\tlearn: 0.3904793\ttotal: 14m 53s\tremaining: 9m 50s\n",
      "400:\tlearn: 0.3763213\ttotal: 19m 57s\tremaining: 4m 55s\n",
      "499:\tlearn: 0.3651731\ttotal: 25m 3s\tremaining: 0us\n",
      "[CV 2/5] END depth=10, iterations=500, learning_rate=0.05;, score=0.802 total time=25.1min\n",
      "0:\tlearn: 0.6696475\ttotal: 2.79s\tremaining: 23m 13s\n",
      "100:\tlearn: 0.4282854\ttotal: 5m 4s\tremaining: 20m 4s\n",
      "200:\tlearn: 0.4063107\ttotal: 10m 31s\tremaining: 15m 39s\n",
      "300:\tlearn: 0.3882223\ttotal: 15m 40s\tremaining: 10m 22s\n",
      "400:\tlearn: 0.3742620\ttotal: 20m 52s\tremaining: 5m 9s\n",
      "499:\tlearn: 0.3617736\ttotal: 26m 4s\tremaining: 0us\n",
      "[CV 3/5] END depth=10, iterations=500, learning_rate=0.05;, score=0.797 total time=26.1min\n",
      "0:\tlearn: 0.6696722\ttotal: 2.81s\tremaining: 23m 23s\n",
      "100:\tlearn: 0.4270252\ttotal: 4m 53s\tremaining: 19m 19s\n",
      "200:\tlearn: 0.4061180\ttotal: 9m 56s\tremaining: 14m 46s\n",
      "300:\tlearn: 0.3876016\ttotal: 15m 27s\tremaining: 10m 13s\n",
      "400:\tlearn: 0.3738355\ttotal: 21m 5s\tremaining: 5m 12s\n",
      "499:\tlearn: 0.3605363\ttotal: 26m 13s\tremaining: 0us\n",
      "[CV 4/5] END depth=10, iterations=500, learning_rate=0.05;, score=0.797 total time=26.6min\n",
      "0:\tlearn: 0.6692641\ttotal: 2.26s\tremaining: 18m 46s\n",
      "100:\tlearn: 0.4310194\ttotal: 4m 52s\tremaining: 19m 14s\n",
      "200:\tlearn: 0.4099675\ttotal: 9m 51s\tremaining: 14m 40s\n",
      "300:\tlearn: 0.3892862\ttotal: 14m 56s\tremaining: 9m 52s\n",
      "400:\tlearn: 0.3752279\ttotal: 20m 5s\tremaining: 4m 57s\n",
      "499:\tlearn: 0.3624477\ttotal: 25m 17s\tremaining: 0us\n",
      "[CV 5/5] END depth=10, iterations=500, learning_rate=0.05;, score=0.803 total time=25.4min\n",
      "0:\tlearn: 0.6472879\ttotal: 2.53s\tremaining: 21m\n",
      "100:\tlearn: 0.4088572\ttotal: 4m 53s\tremaining: 19m 21s\n",
      "200:\tlearn: 0.3774227\ttotal: 9m 59s\tremaining: 14m 51s\n",
      "300:\tlearn: 0.3516770\ttotal: 15m 4s\tremaining: 9m 57s\n",
      "400:\tlearn: 0.3313755\ttotal: 20m 10s\tremaining: 4m 58s\n",
      "499:\tlearn: 0.3114178\ttotal: 25m 28s\tremaining: 0us\n",
      "[CV 1/5] END depth=10, iterations=500, learning_rate=0.1;, score=0.797 total time=25.5min\n",
      "0:\tlearn: 0.6488450\ttotal: 2.72s\tremaining: 22m 36s\n",
      "100:\tlearn: 0.4066616\ttotal: 5m 9s\tremaining: 20m 23s\n",
      "200:\tlearn: 0.3779134\ttotal: 10m 10s\tremaining: 15m 8s\n",
      "300:\tlearn: 0.3546718\ttotal: 15m 35s\tremaining: 10m 18s\n",
      "400:\tlearn: 0.3313861\ttotal: 20m 50s\tremaining: 5m 8s\n",
      "499:\tlearn: 0.3116982\ttotal: 26m\tremaining: 0us\n",
      "[CV 2/5] END depth=10, iterations=500, learning_rate=0.1;, score=0.800 total time=26.1min\n",
      "0:\tlearn: 0.6478360\ttotal: 2.58s\tremaining: 21m 29s\n",
      "100:\tlearn: 0.4079027\ttotal: 4m 58s\tremaining: 19m 38s\n",
      "200:\tlearn: 0.3758383\ttotal: 10m 4s\tremaining: 14m 58s\n",
      "300:\tlearn: 0.3510456\ttotal: 15m 18s\tremaining: 10m 7s\n",
      "400:\tlearn: 0.3283491\ttotal: 20m 31s\tremaining: 5m 3s\n",
      "499:\tlearn: 0.3076297\ttotal: 25m 52s\tremaining: 0us\n",
      "[CV 3/5] END depth=10, iterations=500, learning_rate=0.1;, score=0.796 total time=25.9min\n",
      "0:\tlearn: 0.6478949\ttotal: 2.81s\tremaining: 23m 23s\n",
      "100:\tlearn: 0.4060236\ttotal: 4m 56s\tremaining: 19m 30s\n",
      "200:\tlearn: 0.3739821\ttotal: 10m 7s\tremaining: 15m 3s\n",
      "300:\tlearn: 0.3499254\ttotal: 15m 28s\tremaining: 10m 14s\n",
      "400:\tlearn: 0.3260911\ttotal: 20m 50s\tremaining: 5m 8s\n",
      "499:\tlearn: 0.3064297\ttotal: 26m 13s\tremaining: 0us\n",
      "[CV 4/5] END depth=10, iterations=500, learning_rate=0.1;, score=0.797 total time=26.3min\n",
      "0:\tlearn: 0.6471110\ttotal: 3.08s\tremaining: 25m 38s\n",
      "100:\tlearn: 0.4086704\ttotal: 4m 59s\tremaining: 19m 43s\n",
      "200:\tlearn: 0.3750735\ttotal: 10m 4s\tremaining: 14m 58s\n",
      "300:\tlearn: 0.3484112\ttotal: 15m 16s\tremaining: 10m 5s\n",
      "400:\tlearn: 0.3267295\ttotal: 20m 38s\tremaining: 5m 5s\n",
      "499:\tlearn: 0.3054025\ttotal: 25m 57s\tremaining: 0us\n",
      "[CV 5/5] END depth=10, iterations=500, learning_rate=0.1;, score=0.801 total time=26.3min\n",
      "0:\tlearn: 0.6693521\ttotal: 2.17s\tremaining: 36m 6s\n",
      "100:\tlearn: 0.4288598\ttotal: 4m 56s\tremaining: 44m 1s\n",
      "200:\tlearn: 0.4074065\ttotal: 10m 4s\tremaining: 40m 3s\n",
      "300:\tlearn: 0.3903361\ttotal: 15m 13s\tremaining: 35m 21s\n",
      "400:\tlearn: 0.3777745\ttotal: 20m 28s\tremaining: 30m 34s\n",
      "500:\tlearn: 0.3664381\ttotal: 25m 47s\tremaining: 25m 41s\n",
      "600:\tlearn: 0.3549395\ttotal: 31m\tremaining: 20m 35s\n",
      "700:\tlearn: 0.3443025\ttotal: 36m 15s\tremaining: 15m 28s\n",
      "800:\tlearn: 0.3339055\ttotal: 41m 31s\tremaining: 10m 19s\n",
      "900:\tlearn: 0.3232336\ttotal: 46m 55s\tremaining: 5m 9s\n",
      "999:\tlearn: 0.3135465\ttotal: 52m 19s\tremaining: 0us\n",
      "[CV 1/5] END depth=10, iterations=1000, learning_rate=0.05;, score=0.801 total time=52.4min\n",
      "0:\tlearn: 0.6701751\ttotal: 2.97s\tremaining: 49m 30s\n",
      "100:\tlearn: 0.4293209\ttotal: 5m 1s\tremaining: 44m 43s\n",
      "200:\tlearn: 0.4081724\ttotal: 10m 7s\tremaining: 40m 14s\n",
      "300:\tlearn: 0.3904793\ttotal: 15m 20s\tremaining: 35m 38s\n",
      "400:\tlearn: 0.3763213\ttotal: 20m 32s\tremaining: 30m 41s\n",
      "500:\tlearn: 0.3649557\ttotal: 25m 56s\tremaining: 25m 50s\n",
      "600:\tlearn: 0.3542861\ttotal: 31m 16s\tremaining: 20m 45s\n",
      "700:\tlearn: 0.3438716\ttotal: 36m 39s\tremaining: 15m 38s\n",
      "800:\tlearn: 0.3338536\ttotal: 42m 7s\tremaining: 10m 27s\n",
      "900:\tlearn: 0.3222176\ttotal: 47m 35s\tremaining: 5m 13s\n",
      "999:\tlearn: 0.3112811\ttotal: 53m\tremaining: 0us\n",
      "[CV 2/5] END depth=10, iterations=1000, learning_rate=0.05;, score=0.803 total time=53.1min\n",
      "0:\tlearn: 0.6696475\ttotal: 2.89s\tremaining: 48m 5s\n",
      "100:\tlearn: 0.4282854\ttotal: 4m 57s\tremaining: 44m 6s\n",
      "200:\tlearn: 0.4063107\ttotal: 10m 3s\tremaining: 39m 57s\n",
      "300:\tlearn: 0.3882223\ttotal: 15m 9s\tremaining: 35m 12s\n",
      "400:\tlearn: 0.3742620\ttotal: 20m 27s\tremaining: 30m 33s\n",
      "500:\tlearn: 0.3615381\ttotal: 25m 50s\tremaining: 25m 44s\n",
      "600:\tlearn: 0.3498793\ttotal: 31m 16s\tremaining: 20m 45s\n",
      "700:\tlearn: 0.3383389\ttotal: 36m 53s\tremaining: 15m 43s\n",
      "800:\tlearn: 0.3271580\ttotal: 42m 21s\tremaining: 10m 31s\n",
      "900:\tlearn: 0.3163696\ttotal: 47m 54s\tremaining: 5m 15s\n",
      "999:\tlearn: 0.3066478\ttotal: 53m 24s\tremaining: 0us\n",
      "[CV 3/5] END depth=10, iterations=1000, learning_rate=0.05;, score=0.797 total time=53.5min\n",
      "0:\tlearn: 0.6696722\ttotal: 2.81s\tremaining: 46m 45s\n",
      "100:\tlearn: 0.4270252\ttotal: 4m 59s\tremaining: 44m 27s\n",
      "200:\tlearn: 0.4061180\ttotal: 10m 2s\tremaining: 39m 55s\n",
      "300:\tlearn: 0.3876016\ttotal: 15m 14s\tremaining: 35m 23s\n",
      "400:\tlearn: 0.3738355\ttotal: 20m 30s\tremaining: 30m 38s\n",
      "500:\tlearn: 0.3603935\ttotal: 25m 46s\tremaining: 25m 40s\n",
      "600:\tlearn: 0.3482113\ttotal: 31m 5s\tremaining: 20m 38s\n",
      "700:\tlearn: 0.3374903\ttotal: 36m 29s\tremaining: 15m 33s\n",
      "800:\tlearn: 0.3266974\ttotal: 41m 51s\tremaining: 10m 24s\n",
      "900:\tlearn: 0.3160980\ttotal: 47m 14s\tremaining: 5m 11s\n",
      "999:\tlearn: 0.3064752\ttotal: 52m 39s\tremaining: 0us\n",
      "[CV 4/5] END depth=10, iterations=1000, learning_rate=0.05;, score=0.798 total time=52.7min\n",
      "0:\tlearn: 0.6692641\ttotal: 2.69s\tremaining: 44m 48s\n",
      "100:\tlearn: 0.4310194\ttotal: 4m 58s\tremaining: 44m 17s\n",
      "200:\tlearn: 0.4099675\ttotal: 10m 1s\tremaining: 39m 51s\n",
      "300:\tlearn: 0.3892862\ttotal: 15m 14s\tremaining: 35m 23s\n",
      "400:\tlearn: 0.3752279\ttotal: 20m 33s\tremaining: 30m 42s\n",
      "500:\tlearn: 0.3623156\ttotal: 25m 54s\tremaining: 25m 48s\n",
      "600:\tlearn: 0.3498082\ttotal: 31m 14s\tremaining: 20m 44s\n",
      "700:\tlearn: 0.3387205\ttotal: 36m 40s\tremaining: 15m 38s\n",
      "800:\tlearn: 0.3274944\ttotal: 42m 1s\tremaining: 10m 26s\n",
      "900:\tlearn: 0.3172437\ttotal: 47m 26s\tremaining: 5m 12s\n",
      "999:\tlearn: 0.3074802\ttotal: 52m 47s\tremaining: 0us\n",
      "[CV 5/5] END depth=10, iterations=1000, learning_rate=0.05;, score=0.803 total time=52.9min\n",
      "0:\tlearn: 0.6472879\ttotal: 2.36s\tremaining: 39m 21s\n",
      "100:\tlearn: 0.4088572\ttotal: 5m 2s\tremaining: 44m 56s\n",
      "200:\tlearn: 0.3774227\ttotal: 10m 17s\tremaining: 40m 56s\n",
      "300:\tlearn: 0.3516770\ttotal: 16m 1s\tremaining: 37m 12s\n",
      "400:\tlearn: 0.3313755\ttotal: 21m 29s\tremaining: 32m 6s\n",
      "500:\tlearn: 0.3111712\ttotal: 27m 28s\tremaining: 27m 21s\n",
      "600:\tlearn: 0.2898593\ttotal: 33m 16s\tremaining: 22m 5s\n",
      "700:\tlearn: 0.2722759\ttotal: 39m 2s\tremaining: 16m 39s\n",
      "800:\tlearn: 0.2567562\ttotal: 44m 40s\tremaining: 11m 5s\n",
      "900:\tlearn: 0.2418122\ttotal: 50m 34s\tremaining: 5m 33s\n",
      "999:\tlearn: 0.2274639\ttotal: 56m 19s\tremaining: 0us\n",
      "[CV 1/5] END depth=10, iterations=1000, learning_rate=0.1;, score=0.796 total time=56.4min\n",
      "0:\tlearn: 0.6488450\ttotal: 3.01s\tremaining: 50m 11s\n",
      "100:\tlearn: 0.4066616\ttotal: 5m 17s\tremaining: 47m 10s\n",
      "200:\tlearn: 0.3779134\ttotal: 10m 36s\tremaining: 42m 10s\n",
      "300:\tlearn: 0.3546718\ttotal: 16m 19s\tremaining: 37m 54s\n",
      "400:\tlearn: 0.3313861\ttotal: 23m 24s\tremaining: 34m 58s\n",
      "500:\tlearn: 0.3113814\ttotal: 30m 11s\tremaining: 30m 4s\n",
      "600:\tlearn: 0.2949731\ttotal: 36m 58s\tremaining: 24m 33s\n",
      "700:\tlearn: 0.2771364\ttotal: 43m 27s\tremaining: 18m 32s\n",
      "800:\tlearn: 0.2597669\ttotal: 49m 52s\tremaining: 12m 23s\n",
      "900:\tlearn: 0.2448716\ttotal: 56m 50s\tremaining: 6m 14s\n",
      "999:\tlearn: 0.2305069\ttotal: 1h 3m 3s\tremaining: 0us\n",
      "[CV 2/5] END depth=10, iterations=1000, learning_rate=0.1;, score=0.798 total time=63.4min\n",
      "0:\tlearn: 0.6478360\ttotal: 2.84s\tremaining: 47m 18s\n",
      "100:\tlearn: 0.4079027\ttotal: 5m 58s\tremaining: 53m 9s\n",
      "200:\tlearn: 0.3758383\ttotal: 12m\tremaining: 47m 42s\n",
      "300:\tlearn: 0.3510456\ttotal: 18m 59s\tremaining: 44m 5s\n",
      "400:\tlearn: 0.3283491\ttotal: 25m 15s\tremaining: 37m 44s\n",
      "500:\tlearn: 0.3075095\ttotal: 31m 42s\tremaining: 31m 35s\n",
      "600:\tlearn: 0.2909219\ttotal: 38m 42s\tremaining: 25m 41s\n",
      "700:\tlearn: 0.2715387\ttotal: 47m 2s\tremaining: 20m 3s\n",
      "800:\tlearn: 0.2560522\ttotal: 56m 27s\tremaining: 14m 1s\n",
      "900:\tlearn: 0.2411850\ttotal: 1h 4m 48s\tremaining: 7m 7s\n",
      "999:\tlearn: 0.2260975\ttotal: 1h 13m 8s\tremaining: 0us\n",
      "[CV 3/5] END depth=10, iterations=1000, learning_rate=0.1;, score=0.796 total time=73.8min\n",
      "0:\tlearn: 0.6478949\ttotal: 3.91s\tremaining: 1h 5m 9s\n",
      "100:\tlearn: 0.4060236\ttotal: 7m 11s\tremaining: 1h 3m 59s\n",
      "200:\tlearn: 0.3739821\ttotal: 14m 55s\tremaining: 59m 18s\n",
      "300:\tlearn: 0.3499254\ttotal: 22m 28s\tremaining: 52m 11s\n",
      "400:\tlearn: 0.3260911\ttotal: 28m 58s\tremaining: 43m 17s\n",
      "500:\tlearn: 0.3061247\ttotal: 35m 58s\tremaining: 35m 49s\n",
      "600:\tlearn: 0.2866919\ttotal: 43m 48s\tremaining: 29m 5s\n",
      "700:\tlearn: 0.2686508\ttotal: 51m 28s\tremaining: 21m 57s\n",
      "800:\tlearn: 0.2527172\ttotal: 57m 42s\tremaining: 14m 20s\n",
      "900:\tlearn: 0.2378923\ttotal: 1h 4m 3s\tremaining: 7m 2s\n",
      "999:\tlearn: 0.2229137\ttotal: 1h 10m 20s\tremaining: 0us\n",
      "[CV 4/5] END depth=10, iterations=1000, learning_rate=0.1;, score=0.796 total time=70.9min\n",
      "0:\tlearn: 0.6471110\ttotal: 2.88s\tremaining: 47m 52s\n",
      "100:\tlearn: 0.4086704\ttotal: 5m 58s\tremaining: 53m 14s\n",
      "200:\tlearn: 0.3750735\ttotal: 12m 2s\tremaining: 47m 51s\n",
      "300:\tlearn: 0.3484112\ttotal: 18m 45s\tremaining: 43m 33s\n",
      "400:\tlearn: 0.3267295\ttotal: 26m 24s\tremaining: 39m 26s\n",
      "500:\tlearn: 0.3051046\ttotal: 33m 54s\tremaining: 33m 46s\n",
      "600:\tlearn: 0.2866523\ttotal: 40m 59s\tremaining: 27m 12s\n",
      "700:\tlearn: 0.2688433\ttotal: 49m 18s\tremaining: 21m 1s\n",
      "800:\tlearn: 0.2509158\ttotal: 58m 9s\tremaining: 14m 27s\n",
      "900:\tlearn: 0.2359580\ttotal: 1h 4m 39s\tremaining: 7m 6s\n",
      "999:\tlearn: 0.2216806\ttotal: 1h 11m 31s\tremaining: 0us\n",
      "[CV 5/5] END depth=10, iterations=1000, learning_rate=0.1;, score=0.801 total time=72.0min\n",
      "0:\tlearn: 0.6519473\ttotal: 1.19s\tremaining: 19m 43s\n",
      "100:\tlearn: 0.4434426\ttotal: 2m 19s\tremaining: 20m 41s\n",
      "200:\tlearn: 0.4344553\ttotal: 5m 2s\tremaining: 20m 3s\n",
      "300:\tlearn: 0.4295155\ttotal: 7m 41s\tremaining: 17m 51s\n",
      "400:\tlearn: 0.4254663\ttotal: 10m 33s\tremaining: 15m 45s\n",
      "500:\tlearn: 0.4222299\ttotal: 13m 15s\tremaining: 13m 12s\n",
      "600:\tlearn: 0.4192150\ttotal: 15m 50s\tremaining: 10m 30s\n",
      "700:\tlearn: 0.4162687\ttotal: 18m 41s\tremaining: 7m 58s\n",
      "800:\tlearn: 0.4133609\ttotal: 21m 30s\tremaining: 5m 20s\n",
      "900:\tlearn: 0.4105088\ttotal: 25m 7s\tremaining: 2m 45s\n",
      "999:\tlearn: 0.4077070\ttotal: 28m 50s\tremaining: 0us\n",
      "Best parameters found by grid search: {'depth': 6, 'iterations': 1000, 'learning_rate': 0.1}\n",
      "CatBoost Test Set Evaluation:\n",
      "Accuracy: 0.7982833957553058\n",
      "              precision    recall  f1-score   support\n",
      "\n",
      "         0.0       0.80      0.79      0.79     15923\n",
      "         1.0       0.79      0.81      0.80     16117\n",
      "\n",
      "    accuracy                           0.80     32040\n",
      "   macro avg       0.80      0.80      0.80     32040\n",
      "weighted avg       0.80      0.80      0.80     32040\n",
      "\n"
     ]
    }
   ],
   "source": [
    "#let's try a grid search for parameter tuning\n",
    "\n",
    "cat_model = CatBoostClassifier(verbose=100, cat_features=cat_features_indices)\n",
    "\n",
    "# Define the parameter grid \n",
    "param_grid = {\n",
    "    'iterations': [500, 1000],\n",
    "    'learning_rate': [0.05, 0.1],\n",
    "    'depth': [6, 10]\n",
    "}\n",
    "\n",
    "# Set up the grid search with cross-validation\n",
    "grid_search = GridSearchCV(estimator=cat_model, \n",
    "                           param_grid=param_grid, \n",
    "                           cv=5, \n",
    "                           scoring='accuracy',\n",
    "                           verbose=3)\n",
    "\n",
    "# Fit the grid search to the data\n",
    "grid_search.fit(X_train_cb_lgbm, y_train_cb_lgbm)\n",
    "\n",
    "# Print the best parameters found by the grid search\n",
    "print(\"Best parameters found by grid search:\", grid_search.best_params_)\n",
    "\n",
    "# Use the best model to make predictions\n",
    "best_model = grid_search.best_estimator_\n",
    "y_pred_cat = best_model.predict(X_test_cb_lgbm)\n",
    "\n",
    "print(\"CatBoost Test Set Evaluation:\")\n",
    "print(\"Accuracy:\", accuracy_score(y_test_cb_lgbm, y_pred_cat))\n",
    "print(classification_report(y_test_cb_lgbm, y_pred_cat))\n"
   ]
  },
  {
   "cell_type": "code",
   "execution_count": null,
   "id": "e8a82b10-dd92-4ef8-b356-45d3fc3d1661",
   "metadata": {},
   "outputs": [],
   "source": [
    "#Best parameters found: {'depth': 6, 'iterations': 1000, 'learning_rate': 0.1}"
   ]
  },
  {
   "cell_type": "code",
   "execution_count": 51,
   "id": "cccb315d-b7b0-495f-91fe-ed921b465f26",
   "metadata": {
    "tags": []
   },
   "outputs": [
    {
     "name": "stdout",
     "output_type": "stream",
     "text": [
      "Validation Set Evaluation:\n",
      "Accuracy: 0.802191011235955\n",
      "              precision    recall  f1-score   support\n",
      "\n",
      "         0.0       0.81      0.79      0.80      8902\n",
      "         1.0       0.80      0.81      0.80      8898\n",
      "\n",
      "    accuracy                           0.80     17800\n",
      "   macro avg       0.80      0.80      0.80     17800\n",
      "weighted avg       0.80      0.80      0.80     17800\n",
      "\n"
     ]
    }
   ],
   "source": [
    "#validation set testing using those params\n",
    "y_validation_pred = best_model.predict(X_validation_cb_lgbm)\n",
    "print(\"Validation Set Evaluation:\")\n",
    "print(\"Accuracy:\", accuracy_score(y_validation, y_validation_pred))\n",
    "print(classification_report(y_validation, y_validation_pred))"
   ]
  },
  {
   "cell_type": "code",
   "execution_count": null,
   "id": "9ce44b12-a49c-4243-bfb5-deb2f0d5dc9a",
   "metadata": {},
   "outputs": [],
   "source": [
    "#the grid search ran for like 18 hours and didn't help too much :)"
   ]
  },
  {
   "cell_type": "markdown",
   "id": "f5c8fea2-4c46-41aa-91fe-4ce23001f0af",
   "metadata": {},
   "source": [
    "## Check Learning Curve so we can see what optimal training dataset size is"
   ]
  },
  {
   "cell_type": "code",
   "execution_count": 52,
   "id": "778fa217-da3b-468d-8862-dcffb0b55485",
   "metadata": {
    "tags": []
   },
   "outputs": [
    {
     "data": {
      "image/png": "[encoded data removed]",
      "text/plain": [
       "<Figure size 640x480 with 1 Axes>"
      ]
     },
     "metadata": {},
     "output_type": "display_data"
    }
   ],
   "source": [
    "#Note - CHatGPT helped with learning curve code.\n",
    "\n",
    "def plot_learning_curve(estimator, title, X, y, ylim=None, cv=None,\n",
    "                        n_jobs=None, train_sizes=np.linspace(.1, 1.0, 5)):\n",
    "    plt.figure()\n",
    "    plt.title(title)\n",
    "    if ylim is not None:\n",
    "        plt.ylim(*ylim)\n",
    "    plt.xlabel(\"Training examples\")\n",
    "    plt.ylabel(\"Score\")\n",
    "    train_sizes, train_scores, test_scores = learning_curve(\n",
    "        estimator, X, y, cv=cv, n_jobs=n_jobs, train_sizes=train_sizes, random_state=42)\n",
    "    train_scores_mean = np.mean(train_scores, axis=1)\n",
    "    train_scores_std = np.std(train_scores, axis=1)\n",
    "    test_scores_mean = np.mean(test_scores, axis=1)\n",
    "    test_scores_std = np.std(test_scores, axis=1)\n",
    "    plt.grid()\n",
    "\n",
    "    plt.fill_between(train_sizes, train_scores_mean - train_scores_std,\n",
    "                     train_scores_mean + train_scores_std, alpha=0.1,\n",
    "                     color=\"r\")\n",
    "    plt.fill_between(train_sizes, test_scores_mean - test_scores_std,\n",
    "                     test_scores_mean + test_scores_std, alpha=0.1, color=\"g\")\n",
    "    plt.plot(train_sizes, train_scores_mean, 'o-', color=\"r\",\n",
    "             label=\"Training score\")\n",
    "    plt.plot(train_sizes, test_scores_mean, 'o-', color=\"g\",\n",
    "             label=\"Cross-validation score\")\n",
    "\n",
    "    plt.legend(loc=\"best\")\n",
    "    return plt\n",
    "\n",
    "\n",
    "title = \"Learning Curve Analysis (Cat Boost)\"\n",
    "# Cross-validation with 5 splits\n",
    "cv = 5\n",
    "# Evaluate score on training and test set several times with different training set sizes\n",
    "plot_learning_curve(best_model, title, X_train_cb_lgbm, y_train_cb_lgbm, ylim=(0.7, 1.01), cv=cv, n_jobs=-1)\n",
    "\n",
    "plt.show()\n"
   ]
  },
  {
   "cell_type": "code",
   "execution_count": null,
   "id": "d1093f72-7b22-4596-8046-77b3affbe896",
   "metadata": {},
   "outputs": [],
   "source": [
    "#looks like adding more training data may help a little but not much, looks like it gets pretty flat.\n"
   ]
  },
  {
   "cell_type": "markdown",
   "id": "bc31ddeb-4483-4f08-aba3-5afc773daed6",
   "metadata": {},
   "source": [
    "## Feature Importances"
   ]
  },
  {
   "cell_type": "code",
   "execution_count": 58,
   "id": "4d9c4284-c6a3-4336-9931-1c4c0dfd264b",
   "metadata": {
    "tags": []
   },
   "outputs": [
    {
     "data": {
      "image/png": "[encoded data removed]",
      "text/plain": [
       "<Figure size 1000x800 with 1 Axes>"
      ]
     },
     "metadata": {},
     "output_type": "display_data"
    }
   ],
   "source": [
    "\n",
    "# Get feature importances\n",
    "feature_importances = best_model.get_feature_importance()\n",
    "\n",
    "# Get the names of the features\n",
    "feature_names = X_train_cb_lgbm.columns\n",
    "\n",
    "# Sort the feature importances and get the top 30\n",
    "sorted_indices = np.argsort(feature_importances)[::-1][:30]\n",
    "\n",
    "# plot\n",
    "plt.figure(figsize=(10, 8))\n",
    "plt.title(\"Top 30 Feature Importances - CatBoost Model\")\n",
    "plt.barh(range(len(sorted_indices)), feature_importances[sorted_indices], color='b', align='center')\n",
    "plt.yticks(range(len(sorted_indices)), [feature_names[i] for i in sorted_indices])\n",
    "plt.gca().invert_yaxis()  #most important feature at the top\n",
    "plt.xlabel('Relative Importance')\n",
    "plt.show()\n"
   ]
  },
  {
   "cell_type": "markdown",
   "id": "6f07900e-a374-4b10-a053-2d37ccb8e3a4",
   "metadata": {},
   "source": [
    "OK this makes sense, seems like we're definitely going after some white/ asian males of a certain age, income, geo , voting propensity"
   ]
  },
  {
   "cell_type": "markdown",
   "id": "3cd66ecd-4dff-42b0-894e-cd3c8dfda022",
   "metadata": {},
   "source": [
    "## ROC AUC Curve"
   ]
  },
  {
   "cell_type": "code",
   "execution_count": 56,
   "id": "432e5291-76bf-4710-b5db-b05d26d6580f",
   "metadata": {
    "tags": []
   },
   "outputs": [
    {
     "data": {
      "image/png": "[encoded data removed]",
      "text/plain": [
       "<Figure size 640x480 with 1 Axes>"
      ]
     },
     "metadata": {},
     "output_type": "display_data"
    }
   ],
   "source": [
    "#Roc-AUC curve\n",
    "\n",
    "y_scores = best_model.predict_proba(X_validation_cb_lgbm)[:, 1]\n",
    "# Compute ROC curve and ROC area\n",
    "fpr, tpr, thresholds = roc_curve(y_validation, y_scores)\n",
    "roc_auc = auc(fpr, tpr)\n",
    "\n",
    "# Plot ROC curve\n",
    "plt.figure()\n",
    "plt.plot(fpr, tpr, color='darkorange', lw=2, label='ROC curve (area = %0.2f)' % roc_auc)\n",
    "plt.plot([0, 1], [0, 1], color='navy', lw=2, linestyle='--')\n",
    "plt.xlim([0.0, 1.0])\n",
    "plt.ylim([0.0, 1.05])\n",
    "plt.xlabel('False Positive Rate')\n",
    "plt.ylabel('True Positive Rate')\n",
    "plt.title('Receiver Operating Characteristic')\n",
    "plt.legend(loc=\"lower right\")\n",
    "plt.show()\n"
   ]
  },
  {
   "cell_type": "code",
   "execution_count": null,
   "id": "a40dc428-e716-48cf-82df-061dc3717600",
   "metadata": {},
   "outputs": [],
   "source": [
    "# doesn't look too bad."
   ]
  },
  {
   "cell_type": "code",
   "execution_count": 57,
   "id": "2bfaf17b-d072-47df-8e43-7f143787f599",
   "metadata": {
    "tags": []
   },
   "outputs": [
    {
     "data": {
      "image/png": "[encoded data removed]",
      "text/plain": [
       "<Figure size 800x600 with 1 Axes>"
      ]
     },
     "metadata": {},
     "output_type": "display_data"
    }
   ],
   "source": [
    "\n",
    "# Get the probability scores \n",
    "y_scores = best_model.predict_proba(X_validation_cb_lgbm)[:, 1]\n",
    "\n",
    "# Calculate precision and recall \n",
    "precision, recall, thresholds = precision_recall_curve(y_validation, y_scores)\n",
    "\n",
    "# Calculate the area under the curve\n",
    "auc_precision_recall = auc(recall, precision)\n",
    "\n",
    "# Plot \n",
    "plt.figure(figsize=(8, 6))\n",
    "plt.plot(recall, precision, label=f'Precision-Recall curve (area = {auc_precision_recall:.2f})')\n",
    "plt.xlabel('Recall')\n",
    "plt.ylabel('Precision')\n",
    "plt.title('Precision-Recall Curve')\n",
    "plt.legend(loc=\"best\")\n",
    "plt.show()\n"
   ]
  },
  {
   "cell_type": "code",
   "execution_count": null,
   "id": "f4ffc58a-5ee1-4bc4-9db8-0bdd6a3d280d",
   "metadata": {},
   "outputs": [],
   "source": []
  }
 ],
 "metadata": {
  "kernelspec": {
   "display_name": "Python 3 (ipykernel)",
   "language": "python",
   "name": "python3"
  },
  "language_info": {
   "codemirror_mode": {
    "name": "ipython",
    "version": 3
   },
   "file_extension": ".py",
   "mimetype": "text/x-python",
   "name": "python",
   "nbconvert_exporter": "python",
   "pygments_lexer": "ipython3",
   "version": "3.11.2"
  }
 },
 "nbformat": 4,
 "nbformat_minor": 5
}
