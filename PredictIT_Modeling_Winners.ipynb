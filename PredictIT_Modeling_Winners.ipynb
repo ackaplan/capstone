{
 "cells": [
  {
   "cell_type": "code",
   "execution_count": 55,
   "id": "195e17ce-8d4d-4765-ac5e-7ea4fc1c1b12",
   "metadata": {
    "tags": []
   },
   "outputs": [],
   "source": [
    "import pandas as pd\n",
    "import numpy as np\n",
    "from sklearn.preprocessing import LabelEncoder,MinMaxScaler\n",
    "from sklearn.model_selection import train_test_split\n",
    "from sklearn.linear_model import LogisticRegression\n",
    "from sklearn.metrics import make_scorer, accuracy_score, precision_score, recall_score, f1_score,classification_report\n",
    "from sklearn.model_selection import StratifiedShuffleSplit\n",
    "import pickle\n",
    "import matplotlib.pyplot as plt\n",
    "from sklearn.preprocessing import StandardScaler\n",
    "from sklearn.pipeline import make_pipeline\n",
    "from sklearn.model_selection import cross_validate\n",
    "import pyodbc \n",
    "from sklearn.dummy import DummyClassifier"
   ]
  },
  {
   "cell_type": "code",
   "execution_count": 56,
   "id": "d8cf1eb0-0343-4599-bed5-492c53570f4d",
   "metadata": {
    "tags": []
   },
   "outputs": [
    {
     "name": "stderr",
     "output_type": "stream",
     "text": [
      "C:\\Users\\amanda.kaplan\\AppData\\Local\\Temp\\ipykernel_6104\\3098035179.py:7: UserWarning: pandas only supports SQLAlchemy connectable (engine/connection) or database string URI or sqlite3 DBAPI2 connection. Other DBAPI2 objects are not tested. Please consider using SQLAlchemy.\n",
      "  predictit_data = pd.read_sql(\"\"\"SELECT top 30000 * from predictit_matched_20240206 order by newid()\"\"\", cnxn)\n"
     ]
    }
   ],
   "source": [
    "#going to use a random 15k for the training data set , may increase the size later\n",
    "\n",
    "server = 'hvs-ssis5,1433'\n",
    "database = 'common' # enter database name\n",
    "cnxn=pyodbc.connect('DRIVER={ODBC Driver 17 for SQL Server};SERVER='+server+';DATABASE='+database+';Trusted_Connection=Yes')\n",
    "\n",
    "predictit_data = pd.read_sql(\"\"\"SELECT top 30000 * from predictit_matched_20240206 order by newid()\"\"\", cnxn)\n",
    "\n",
    "cnxn.close()"
   ]
  },
  {
   "cell_type": "markdown",
   "id": "c22539e2-6d37-4b3d-bd2e-2a915a2dda1d",
   "metadata": {},
   "source": [
    "# Data Pre-Processing Steps"
   ]
  },
  {
   "cell_type": "code",
   "execution_count": 57,
   "id": "a52db7cc-a7de-46dd-b833-d987371022ee",
   "metadata": {
    "tags": []
   },
   "outputs": [],
   "source": [
    "#keep only the active users\n",
    "\n",
    "for column in ['deposits', 'accountbalance', 'Withdrawals', 'Invested', 'riskamount', 'profit', 'loss','numshares']:\n",
    "    predictit_data[column] = pd.to_numeric(predictit_data[column])\n",
    "    \n",
    "condition = (\n",
    "    (predictit_data['deposits'] != 0) |\n",
    "    (predictit_data['accountbalance'] != 0) |\n",
    "    (predictit_data['Withdrawals'] != 0.00) |\n",
    "    (predictit_data['Invested'] != 0.00) |\n",
    "    (predictit_data['numshares'] != 0) |  \n",
    "    (predictit_data['riskamount'] != 0.0000) |\n",
    "    (predictit_data['profit'] != 0.000000) |\n",
    "    (predictit_data['loss'] != 0.000000)\n",
    ")\n",
    "\n",
    "predictit_data = predictit_data[condition].copy()"
   ]
  },
  {
   "cell_type": "code",
   "execution_count": 58,
   "id": "ecf6961f-27b8-4e4e-9fa1-6859c71779ff",
   "metadata": {
    "tags": []
   },
   "outputs": [],
   "source": [
    "# add a winner column with 1 where profit > loss , 0 otherwise this will be our target variable\n",
    "predictit_data['winner'] = (predictit_data['profit'] + predictit_data['loss']) > 0\n",
    "predictit_data['winner'] = predictit_data['winner'].astype(int)\n",
    "\n"
   ]
  },
  {
   "cell_type": "code",
   "execution_count": 60,
   "id": "5e40a18d-b44b-4ba5-ae07-293120cc85fb",
   "metadata": {
    "tags": []
   },
   "outputs": [
    {
     "data": {
      "text/plain": [
       "0    13654\n",
       "1     6312\n",
       "Name: winner, dtype: int64"
      ]
     },
     "execution_count": 60,
     "metadata": {},
     "output_type": "execute_result"
    }
   ],
   "source": [
    "len(predictit_data)\n",
    "predictit_data['winner'].value_counts()"
   ]
  },
  {
   "cell_type": "markdown",
   "id": "895061c8-6b77-4630-9fc9-c971a69737fe",
   "metadata": {},
   "source": [
    "## create a balanced data set"
   ]
  },
  {
   "cell_type": "code",
   "execution_count": 61,
   "id": "289e481e-aed9-44ce-826b-4ebb6e8036c4",
   "metadata": {
    "tags": []
   },
   "outputs": [],
   "source": [
    "winners = predictit_data[predictit_data['winner'] == 1]\n",
    "losers = predictit_data[predictit_data['winner'] == 0]\n",
    "\n",
    "# Sample 6000 instances from each subset\n",
    "winners_sample = winners.sample(n=6000, random_state=42, replace=False)\n",
    "losers_sample = losers.sample(n=6000, random_state=42, replace=False)\n",
    "\n",
    "# Combine the samples to form a balanced dataset\n",
    "balanced_dataset = pd.concat([winners_sample, losers_sample])\n",
    "\n",
    "# Shuffle the dataset to ensure a mix of classes\n",
    "predictit_data = balanced_dataset.sample(frac=1, random_state=42).reset_index(drop=True)\n"
   ]
  },
  {
   "cell_type": "code",
   "execution_count": 62,
   "id": "1925e389-f981-451b-9d4b-6c967a2aadca",
   "metadata": {
    "tags": []
   },
   "outputs": [
    {
     "data": {
      "text/plain": [
       "12000"
      ]
     },
     "execution_count": 62,
     "metadata": {},
     "output_type": "execute_result"
    }
   ],
   "source": [
    "len(predictit_data)"
   ]
  },
  {
   "cell_type": "markdown",
   "id": "99088b9b-ca53-4be4-a763-962891307d99",
   "metadata": {},
   "source": [
    "## feature engineering"
   ]
  },
  {
   "cell_type": "code",
   "execution_count": 63,
   "id": "5f981cd4-914a-41f2-9aa0-d9153129066e",
   "metadata": {
    "tags": []
   },
   "outputs": [
    {
     "name": "stderr",
     "output_type": "stream",
     "text": [
      "C:\\Users\\amanda.kaplan\\AppData\\Local\\Temp\\ipykernel_6104\\2521844727.py:15: PerformanceWarning: DataFrame is highly fragmented.  This is usually the result of calling `frame.insert` many times, which has poor performance.  Consider joining all columns at once using pd.concat(axis=1) instead. To get a de-fragmented frame, use `newframe = frame.copy()`\n",
      "  predictit_data['GROUPED_PARTY'] = predictit_data['PARTY_CODE'].map(party_code_mapping).fillna('Other')\n"
     ]
    }
   ],
   "source": [
    "#Replace blanks and spaces with NaN\n",
    "predictit_data.replace(r'^\\s*$', np.nan, regex=True, inplace=True)\n",
    "\n",
    "#consolidate SEX values due to some casing issues.\n",
    "predictit_data['SEX'] = predictit_data['SEX'].replace({'f': 'F', 'm': 'M', 'N': 'U', ' ': 'U'})\n",
    "\n",
    "# Mapping the PARTY_CODE to new groups\n",
    "party_code_mapping = {\n",
    "    'R': 'Republican', 'S': 'Republican',\n",
    "    'D': 'Democrat', 'E': 'Democrat',\n",
    "    'N': 'No Affiliation', 'U': 'Unknown'\n",
    "}\n",
    "\n",
    "# If the party code is not in the mapping, assign 'O' (other)\n",
    "predictit_data['GROUPED_PARTY'] = predictit_data['PARTY_CODE'].map(party_code_mapping).fillna('Other')\n",
    "\n",
    "\n"
   ]
  },
  {
   "cell_type": "code",
   "execution_count": 64,
   "id": "337b1f25-ae7c-4993-8651-c50612ce145c",
   "metadata": {
    "tags": []
   },
   "outputs": [],
   "source": [
    "# Convert numeric fields to float\n",
    "for column in predictit_data.columns:\n",
    "    # Check if all values in the column are numeric\n",
    "    if predictit_data[column].apply(lambda x: str(x).replace('.', '', 1).isdigit()).all():\n",
    "        predictit_data[column] = predictit_data[column].astype(float)\n",
    "    # Check for fields where the only values are 'Y' and NaN\n",
    "    elif set(predictit_data[column].dropna().unique()) == {'Y'}:\n",
    "        predictit_data[column] = predictit_data[column].map({'Y': 1, np.nan: 0}).astype(int)\n",
    "        predictit_data[column] = predictit_data[column].astype(float)"
   ]
  },
  {
   "cell_type": "code",
   "execution_count": 65,
   "id": "1ca714e7-1281-419b-9fd5-3f97c4d512a4",
   "metadata": {
    "tags": []
   },
   "outputs": [
    {
     "name": "stderr",
     "output_type": "stream",
     "text": [
      "C:\\Users\\amanda.kaplan\\AppData\\Local\\Programs\\Python\\Python311\\Lib\\site-packages\\numpy\\lib\\nanfunctions.py:1215: RuntimeWarning: Mean of empty slice\n",
      "  return np.nanmean(a, axis, out=out, keepdims=keepdims)\n",
      "C:\\Users\\amanda.kaplan\\AppData\\Local\\Programs\\Python\\Python311\\Lib\\site-packages\\numpy\\lib\\nanfunctions.py:1215: RuntimeWarning: Mean of empty slice\n",
      "  return np.nanmean(a, axis, out=out, keepdims=keepdims)\n",
      "C:\\Users\\amanda.kaplan\\AppData\\Local\\Programs\\Python\\Python311\\Lib\\site-packages\\numpy\\lib\\nanfunctions.py:1215: RuntimeWarning: Mean of empty slice\n",
      "  return np.nanmean(a, axis, out=out, keepdims=keepdims)\n",
      "C:\\Users\\amanda.kaplan\\AppData\\Local\\Programs\\Python\\Python311\\Lib\\site-packages\\numpy\\lib\\nanfunctions.py:1215: RuntimeWarning: Mean of empty slice\n",
      "  return np.nanmean(a, axis, out=out, keepdims=keepdims)\n",
      "C:\\Users\\amanda.kaplan\\AppData\\Local\\Programs\\Python\\Python311\\Lib\\site-packages\\numpy\\lib\\nanfunctions.py:1215: RuntimeWarning: Mean of empty slice\n",
      "  return np.nanmean(a, axis, out=out, keepdims=keepdims)\n"
     ]
    }
   ],
   "source": [
    "#impute missing values\n",
    "\n",
    "for column in predictit_data.columns:\n",
    "    # Check if the column is numeric\n",
    "    if predictit_data[column].dtype in ['float64', 'int64']:\n",
    "        # Impute missing values with median\n",
    "        median_val = predictit_data[column].median()\n",
    "        predictit_data[column].fillna(median_val, inplace=True)\n",
    "    else:\n",
    "        # Impute missing values with mode\n",
    "        mode_val = predictit_data[column].mode().iloc[0]\n",
    "        predictit_data[column].fillna(mode_val, inplace=True)"
   ]
  },
  {
   "cell_type": "code",
   "execution_count": 66,
   "id": "95980a10-12a1-42d9-bf52-717924ac1b06",
   "metadata": {
    "tags": []
   },
   "outputs": [],
   "source": [
    "#fill any columns that are all empty with 0\n",
    "for column in predictit_data.columns:\n",
    "    # Check if all values in the column are NaN\n",
    "    if predictit_data[column].isna().all():\n",
    "        predictit_data[column] = predictit_data[column].fillna(0)"
   ]
  },
  {
   "cell_type": "markdown",
   "id": "a4361e64-d26f-406d-a7dc-fa18494d95bb",
   "metadata": {},
   "source": [
    "## split data into target variable and features"
   ]
  },
  {
   "cell_type": "markdown",
   "id": "d83353c5-da7a-464c-afd5-07ee7ecc1d06",
   "metadata": {},
   "source": [
    "I am going to train using some of the features identified as likely being important during the data explorations and visualation work"
   ]
  },
  {
   "cell_type": "code",
   "execution_count": 67,
   "id": "506563c1-8815-47a9-9334-5fc558da6f37",
   "metadata": {
    "tags": []
   },
   "outputs": [],
   "source": [
    "\n",
    "features_to_use = ['PASSPROSVAL','MEDHOMEVAL','AUTO_MSRP','ZIP','VTR_PPP84','VTR_PRI87','CNS_MEDINC','TOD_GOV_D_2020',\n",
    "'TOD_GOV_R_2020','TOD_GOV_D_2012','TOD_GOV_R_2012','VTR_PRI88','TOD_GOV_R_2016','TOD_GOV_D_2016','VTR_PRI86',\n",
    "'TOD_PRES_R_2020_PREC','TOD_PRES_R_2016_PREC','AUTO_MODEL','TOD_SEN_O_2012','TOD_GOV_DIFF_2020','TOD_PRES_D_2020_PREC',\n",
    "'TOD_GOV_DIFF_2016','TOD_GOV_DIFF_2012','OCCDETAIL_DESC','OCCDETAIL','VTR_PPP88','TOD_PRES_D_2016_PREC',\n",
    "'TOD_SEN_R_2014','TOD_SEN_D_2020','TOD_SEN_R_2020','PRFL_POLITICAL_IDEOLOGY','TOD_SEN_D_2014','PREVIOUS_PARTY',\n",
    "'PARTY_CODE','TOD_GOV_D_2018','GROUPED_PARTY','TOD_SEN_D_2012','TOD_SEN_R_2016','TOD_GOV_O_2016','TOD_SEN_R_2012',\n",
    "'TOD_GOV_R_2018','ALUMNI_INDUSTRY','TOD_PRES_D_2016','TOD_PRES_R_2020','PARTY_MIX','ETHNIC_INFER','INCOMESTHH']\n",
    " \n",
    "X = predictit_data[features_to_use] \n",
    "y = predictit_data['winner']"
   ]
  },
  {
   "cell_type": "code",
   "execution_count": 68,
   "id": "cc58fc5f-cd06-4611-9049-4b5d918a963d",
   "metadata": {
    "tags": []
   },
   "outputs": [],
   "source": [
    "#first split - validation set\n",
    "X_temp, X_validation, y_temp, y_validation = train_test_split(X, y, test_size=0.1, random_state=42) # 10% for validation\n",
    "\n",
    "#Second split: Splitting the remaining data into training and testing sets\n",
    "X_train, X_test, y_train, y_test = train_test_split(X_temp, y_temp, test_size=0.2, random_state=42) # 20% of 90% for testing"
   ]
  },
  {
   "cell_type": "markdown",
   "id": "57374167-169b-4e1d-837a-6d155d9a1fc1",
   "metadata": {},
   "source": [
    "## label encoding for categorical columns"
   ]
  },
  {
   "cell_type": "code",
   "execution_count": 69,
   "id": "af8f1a12-89ed-45e3-9e3b-a1b22c178432",
   "metadata": {
    "tags": []
   },
   "outputs": [],
   "source": [
    "categorical_columns = X_train.select_dtypes(include=['object', 'category']).columns.tolist()"
   ]
  },
  {
   "cell_type": "code",
   "execution_count": 70,
   "id": "4e85357d-9f9d-4187-8265-3a6c7105edd7",
   "metadata": {
    "tags": []
   },
   "outputs": [],
   "source": [
    "# Initialize the label encoders dictionary\n",
    "label_encoders = {}\n",
    "\n",
    "# Encoding each categorical column in the training set and applying it to test and validation sets\n",
    "for col in categorical_columns:\n",
    "    # Initialize the LabelEncoder\n",
    "    le = LabelEncoder()\n",
    "\n",
    "    # Fit on the training data\n",
    "    le.fit(X_train[col].astype(str))\n",
    "\n",
    "    # Transform training, test, and validation data using the fitted encoder\n",
    "    # Unseen categories in test and validation sets are replaced with -1\n",
    "    X_train[col] = le.transform(X_train[col].astype(str))\n",
    "    X_test[col] = X_test[col].map(lambda s: le.transform([str(s)]) if str(s) in le.classes_ else -1).astype(int)\n",
    "    X_validation[col] = X_validation[col].map(lambda s: le.transform([str(s)]) if str(s) in le.classes_ else -1).astype(int)\n",
    "\n",
    "    # Store the LabelEncoder for later use\n",
    "    label_encoders[col] = le\n"
   ]
  },
  {
   "cell_type": "code",
   "execution_count": 71,
   "id": "b64236d0-0e0a-45ab-9824-afb700de7f45",
   "metadata": {
    "tags": []
   },
   "outputs": [
    {
     "data": {
      "text/html": [
       "<div>\n",
       "<style scoped>\n",
       "    .dataframe tbody tr th:only-of-type {\n",
       "        vertical-align: middle;\n",
       "    }\n",
       "\n",
       "    .dataframe tbody tr th {\n",
       "        vertical-align: top;\n",
       "    }\n",
       "\n",
       "    .dataframe thead th {\n",
       "        text-align: right;\n",
       "    }\n",
       "</style>\n",
       "<table border=\"1\" class=\"dataframe\">\n",
       "  <thead>\n",
       "    <tr style=\"text-align: right;\">\n",
       "      <th></th>\n",
       "      <th>PASSPROSVAL</th>\n",
       "      <th>MEDHOMEVAL</th>\n",
       "      <th>AUTO_MSRP</th>\n",
       "      <th>ZIP</th>\n",
       "      <th>VTR_PPP84</th>\n",
       "      <th>VTR_PRI87</th>\n",
       "      <th>CNS_MEDINC</th>\n",
       "      <th>TOD_GOV_D_2020</th>\n",
       "      <th>TOD_GOV_R_2020</th>\n",
       "      <th>TOD_GOV_D_2012</th>\n",
       "      <th>...</th>\n",
       "      <th>TOD_SEN_R_2016</th>\n",
       "      <th>TOD_GOV_O_2016</th>\n",
       "      <th>TOD_SEN_R_2012</th>\n",
       "      <th>TOD_GOV_R_2018</th>\n",
       "      <th>ALUMNI_INDUSTRY</th>\n",
       "      <th>TOD_PRES_D_2016</th>\n",
       "      <th>TOD_PRES_R_2020</th>\n",
       "      <th>PARTY_MIX</th>\n",
       "      <th>ETHNIC_INFER</th>\n",
       "      <th>INCOMESTHH</th>\n",
       "    </tr>\n",
       "  </thead>\n",
       "  <tbody>\n",
       "    <tr>\n",
       "      <th>7591</th>\n",
       "      <td>287</td>\n",
       "      <td>1710</td>\n",
       "      <td>0</td>\n",
       "      <td>92139.0</td>\n",
       "      <td>0.0</td>\n",
       "      <td>1</td>\n",
       "      <td>1531</td>\n",
       "      <td>153</td>\n",
       "      <td>3</td>\n",
       "      <td>156</td>\n",
       "      <td>...</td>\n",
       "      <td>2</td>\n",
       "      <td>32</td>\n",
       "      <td>175</td>\n",
       "      <td>110</td>\n",
       "      <td>45</td>\n",
       "      <td>375</td>\n",
       "      <td>104</td>\n",
       "      <td>2.0</td>\n",
       "      <td>3</td>\n",
       "      <td>14</td>\n",
       "    </tr>\n",
       "    <tr>\n",
       "      <th>381</th>\n",
       "      <td>3668</td>\n",
       "      <td>1154</td>\n",
       "      <td>1230</td>\n",
       "      <td>60558.0</td>\n",
       "      <td>0.0</td>\n",
       "      <td>1</td>\n",
       "      <td>1263</td>\n",
       "      <td>153</td>\n",
       "      <td>3</td>\n",
       "      <td>156</td>\n",
       "      <td>...</td>\n",
       "      <td>22</td>\n",
       "      <td>32</td>\n",
       "      <td>43</td>\n",
       "      <td>26</td>\n",
       "      <td>45</td>\n",
       "      <td>459</td>\n",
       "      <td>31</td>\n",
       "      <td>4.0</td>\n",
       "      <td>2</td>\n",
       "      <td>18</td>\n",
       "    </tr>\n",
       "    <tr>\n",
       "      <th>2935</th>\n",
       "      <td>287</td>\n",
       "      <td>1710</td>\n",
       "      <td>0</td>\n",
       "      <td>6897.0</td>\n",
       "      <td>0.0</td>\n",
       "      <td>1</td>\n",
       "      <td>1531</td>\n",
       "      <td>153</td>\n",
       "      <td>3</td>\n",
       "      <td>156</td>\n",
       "      <td>...</td>\n",
       "      <td>56</td>\n",
       "      <td>32</td>\n",
       "      <td>181</td>\n",
       "      <td>125</td>\n",
       "      <td>45</td>\n",
       "      <td>387</td>\n",
       "      <td>91</td>\n",
       "      <td>3.0</td>\n",
       "      <td>2</td>\n",
       "      <td>14</td>\n",
       "    </tr>\n",
       "    <tr>\n",
       "      <th>9380</th>\n",
       "      <td>4115</td>\n",
       "      <td>1679</td>\n",
       "      <td>1175</td>\n",
       "      <td>60521.0</td>\n",
       "      <td>0.0</td>\n",
       "      <td>1</td>\n",
       "      <td>1465</td>\n",
       "      <td>153</td>\n",
       "      <td>3</td>\n",
       "      <td>156</td>\n",
       "      <td>...</td>\n",
       "      <td>118</td>\n",
       "      <td>32</td>\n",
       "      <td>43</td>\n",
       "      <td>132</td>\n",
       "      <td>45</td>\n",
       "      <td>358</td>\n",
       "      <td>125</td>\n",
       "      <td>1.0</td>\n",
       "      <td>2</td>\n",
       "      <td>18</td>\n",
       "    </tr>\n",
       "    <tr>\n",
       "      <th>3769</th>\n",
       "      <td>693</td>\n",
       "      <td>1710</td>\n",
       "      <td>0</td>\n",
       "      <td>40217.0</td>\n",
       "      <td>0.0</td>\n",
       "      <td>1</td>\n",
       "      <td>313</td>\n",
       "      <td>153</td>\n",
       "      <td>3</td>\n",
       "      <td>156</td>\n",
       "      <td>...</td>\n",
       "      <td>83</td>\n",
       "      <td>32</td>\n",
       "      <td>43</td>\n",
       "      <td>26</td>\n",
       "      <td>45</td>\n",
       "      <td>360</td>\n",
       "      <td>118</td>\n",
       "      <td>1.0</td>\n",
       "      <td>2</td>\n",
       "      <td>4</td>\n",
       "    </tr>\n",
       "  </tbody>\n",
       "</table>\n",
       "<p>5 rows × 47 columns</p>\n",
       "</div>"
      ],
      "text/plain": [
       "      PASSPROSVAL  MEDHOMEVAL  AUTO_MSRP      ZIP  VTR_PPP84  VTR_PRI87  \\\n",
       "7591          287        1710          0  92139.0        0.0          1   \n",
       "381          3668        1154       1230  60558.0        0.0          1   \n",
       "2935          287        1710          0   6897.0        0.0          1   \n",
       "9380         4115        1679       1175  60521.0        0.0          1   \n",
       "3769          693        1710          0  40217.0        0.0          1   \n",
       "\n",
       "      CNS_MEDINC  TOD_GOV_D_2020  TOD_GOV_R_2020  TOD_GOV_D_2012  ...  \\\n",
       "7591        1531             153               3             156  ...   \n",
       "381         1263             153               3             156  ...   \n",
       "2935        1531             153               3             156  ...   \n",
       "9380        1465             153               3             156  ...   \n",
       "3769         313             153               3             156  ...   \n",
       "\n",
       "      TOD_SEN_R_2016  TOD_GOV_O_2016  TOD_SEN_R_2012  TOD_GOV_R_2018  \\\n",
       "7591               2              32             175             110   \n",
       "381               22              32              43              26   \n",
       "2935              56              32             181             125   \n",
       "9380             118              32              43             132   \n",
       "3769              83              32              43              26   \n",
       "\n",
       "      ALUMNI_INDUSTRY  TOD_PRES_D_2016  TOD_PRES_R_2020  PARTY_MIX  \\\n",
       "7591               45              375              104        2.0   \n",
       "381                45              459               31        4.0   \n",
       "2935               45              387               91        3.0   \n",
       "9380               45              358              125        1.0   \n",
       "3769               45              360              118        1.0   \n",
       "\n",
       "      ETHNIC_INFER  INCOMESTHH  \n",
       "7591             3          14  \n",
       "381              2          18  \n",
       "2935             2          14  \n",
       "9380             2          18  \n",
       "3769             2           4  \n",
       "\n",
       "[5 rows x 47 columns]"
      ]
     },
     "execution_count": 71,
     "metadata": {},
     "output_type": "execute_result"
    }
   ],
   "source": [
    "X_train.head()"
   ]
  },
  {
   "cell_type": "code",
   "execution_count": 72,
   "id": "b97126ce-9785-4529-a60a-2b32ed9db3a5",
   "metadata": {
    "tags": []
   },
   "outputs": [
    {
     "name": "stdout",
     "output_type": "stream",
     "text": [
      "Baseline accuracy of DummyClassifier: 0.4976851851851852\n"
     ]
    }
   ],
   "source": [
    "#train a dummy classifier\n",
    "\n",
    "dummy_clf = DummyClassifier(strategy='most_frequent')\n",
    "\n",
    "# Train the DummyClassifier on the training data\n",
    "dummy_clf.fit(X_train, y_train)\n",
    "\n",
    "# Make predictions on the testing set\n",
    "y_pred = dummy_clf.predict(X_test)\n",
    "\n",
    "# Calculate the accuracy of the predictions\n",
    "accuracy = accuracy_score(y_test, y_pred)\n",
    "print(f'Baseline accuracy of DummyClassifier: {accuracy}')"
   ]
  },
  {
   "cell_type": "code",
   "execution_count": null,
   "id": "d2248619-a86b-4ff5-8d57-ae78d24df006",
   "metadata": {},
   "outputs": [],
   "source": [
    "#ok so we have dummy classifier baseline accuracy of about 50%"
   ]
  },
  {
   "cell_type": "code",
   "execution_count": 82,
   "id": "c522a806-20ca-497a-a0a0-afebd75349a2",
   "metadata": {
    "tags": []
   },
   "outputs": [
    {
     "name": "stdout",
     "output_type": "stream",
     "text": [
      "Test Set Evaluation:\n",
      "Accuracy: 0.5634259259259259\n",
      "              precision    recall  f1-score   support\n",
      "\n",
      "         0.0       0.57      0.55      0.56      1085\n",
      "         1.0       0.56      0.58      0.57      1075\n",
      "\n",
      "    accuracy                           0.56      2160\n",
      "   macro avg       0.56      0.56      0.56      2160\n",
      "weighted avg       0.56      0.56      0.56      2160\n",
      "\n"
     ]
    }
   ],
   "source": [
    "#initialize and train logistic regression model\n",
    "lr_pipeline = make_pipeline(StandardScaler(), LogisticRegression(max_iter=10000))\n",
    "lr_pipeline.fit(X_train, y_train)\n",
    "\n",
    "# Evaluate the model on the test set\n",
    "y_pred = lr_pipeline.predict(X_test)\n",
    "print(\"Test Set Evaluation:\")\n",
    "print(\"Accuracy:\", accuracy_score(y_test, y_pred))\n",
    "print(classification_report(y_test, y_pred))\n"
   ]
  },
  {
   "cell_type": "code",
   "execution_count": 83,
   "id": "017cf34a-6de3-41e1-9abd-dd7e47b190fa",
   "metadata": {
    "tags": []
   },
   "outputs": [
    {
     "name": "stdout",
     "output_type": "stream",
     "text": [
      "10-Fold Cross-Validation Results:\n",
      "Average Accuracy: 0.573\n",
      "Average Precision (macro): 0.574\n",
      "Average F1-Score (macro): 0.573\n"
     ]
    }
   ],
   "source": [
    "# Perform 10-fold cross-validation\n",
    "scoring = {'accuracy': 'accuracy', 'precision': 'precision_macro', 'f1': 'f1_macro'}\n",
    "cv_results = cross_validate(lr_pipeline, X_train, y_train, cv=10, scoring=scoring)\n",
    "\n",
    "# Print the average of the evaluation metrics across all 10 folds\n",
    "print(\"10-Fold Cross-Validation Results:\")\n",
    "print(f\"Average Accuracy: {np.mean(cv_results['test_accuracy']):.3f}\")\n",
    "print(f\"Average Precision (macro): {np.mean(cv_results['test_precision']):.3f}\")\n",
    "print(f\"Average F1-Score (macro): {np.mean(cv_results['test_f1']):.3f}\")"
   ]
  },
  {
   "cell_type": "code",
   "execution_count": 84,
   "id": "cf12b332-eb30-4d0d-9d76-be7fa77068ee",
   "metadata": {
    "tags": []
   },
   "outputs": [
    {
     "name": "stdout",
     "output_type": "stream",
     "text": [
      "Validation Set Evaluation:\n",
      "Accuracy: 0.555\n",
      "              precision    recall  f1-score   support\n",
      "\n",
      "         0.0       0.57      0.54      0.55       613\n",
      "         1.0       0.54      0.57      0.56       587\n",
      "\n",
      "    accuracy                           0.56      1200\n",
      "   macro avg       0.56      0.56      0.55      1200\n",
      "weighted avg       0.56      0.56      0.55      1200\n",
      "\n"
     ]
    }
   ],
   "source": [
    "#validation set testing\n",
    "y_validation_pred = lr_pipeline.predict(X_validation)\n",
    "print(\"Validation Set Evaluation:\")\n",
    "print(\"Accuracy:\", accuracy_score(y_validation, y_validation_pred))\n",
    "print(classification_report(y_validation, y_validation_pred))"
   ]
  },
  {
   "cell_type": "code",
   "execution_count": null,
   "id": "2295ded7-9857-4e8c-bbad-e190aeba62ed",
   "metadata": {},
   "outputs": [],
   "source": [
    "#ok so logistic regression is a little better than the dummy classifier. let's try a few others."
   ]
  },
  {
   "cell_type": "code",
   "execution_count": 76,
   "id": "04d84e65-0672-4bc9-99b8-8b4aae39d07d",
   "metadata": {
    "tags": []
   },
   "outputs": [
    {
     "name": "stdout",
     "output_type": "stream",
     "text": [
      "Random Forest Model Test Set Evaluation:\n",
      "Accuracy: 0.5370370370370371\n",
      "              precision    recall  f1-score   support\n",
      "\n",
      "         0.0       0.54      0.56      0.55      1085\n",
      "         1.0       0.54      0.51      0.52      1075\n",
      "\n",
      "    accuracy                           0.54      2160\n",
      "   macro avg       0.54      0.54      0.54      2160\n",
      "weighted avg       0.54      0.54      0.54      2160\n",
      "\n"
     ]
    }
   ],
   "source": [
    "from sklearn.ensemble import RandomForestClassifier\n",
    "\n",
    "# Initialize and train the Random Forest model\n",
    "#rf_pipeline = make_pipeline(StandardScaler(), RandomForestClassifier())\n",
    "rf_pipeline = RandomForestClassifier()\n",
    "rf_pipeline.fit(X_train, y_train)\n",
    "\n",
    "# Evaluate the model on the test set\n",
    "y_pred_rf = rf_pipeline.predict(X_test)\n",
    "print(\"Random Forest Model Test Set Evaluation:\")\n",
    "print(\"Accuracy:\", accuracy_score(y_test, y_pred_rf))\n",
    "print(classification_report(y_test, y_pred_rf))"
   ]
  },
  {
   "cell_type": "code",
   "execution_count": 77,
   "id": "b3b24eb1-864d-4824-84b6-c6d005983de1",
   "metadata": {
    "tags": []
   },
   "outputs": [
    {
     "name": "stdout",
     "output_type": "stream",
     "text": [
      "Gradient Boosted Decision Tree Model Test Set Evaluation:\n",
      "Accuracy: 0.5546296296296296\n",
      "              precision    recall  f1-score   support\n",
      "\n",
      "         0.0       0.57      0.45      0.50      1085\n",
      "         1.0       0.54      0.66      0.60      1075\n",
      "\n",
      "    accuracy                           0.55      2160\n",
      "   macro avg       0.56      0.56      0.55      2160\n",
      "weighted avg       0.56      0.55      0.55      2160\n",
      "\n"
     ]
    }
   ],
   "source": [
    "from sklearn.ensemble import GradientBoostingClassifier\n",
    "\n",
    "# Initialize and train the Gradient Boosted Decision Tree model\n",
    "#gbdt_pipeline = make_pipeline(StandardScaler(), GradientBoostingClassifier())\n",
    "gbdt_pipeline =  GradientBoostingClassifier()\n",
    "gbdt_pipeline.fit(X_train, y_train)\n",
    "\n",
    "# Evaluate the model on the test set\n",
    "y_pred_gbdt = gbdt_pipeline.predict(X_test)\n",
    "print(\"Gradient Boosted Decision Tree Model Test Set Evaluation:\")\n",
    "print(\"Accuracy:\", accuracy_score(y_test, y_pred_gbdt))\n",
    "print(classification_report(y_test, y_pred_gbdt))"
   ]
  },
  {
   "cell_type": "code",
   "execution_count": 79,
   "id": "b3dbac21-c226-4664-abed-498765ca55c9",
   "metadata": {
    "tags": []
   },
   "outputs": [
    {
     "name": "stdout",
     "output_type": "stream",
     "text": [
      "XGBoost Model Test Set Evaluation:\n",
      "Accuracy: 0.5564814814814815\n",
      "              precision    recall  f1-score   support\n",
      "\n",
      "         0.0       0.56      0.52      0.54      1085\n",
      "         1.0       0.55      0.59      0.57      1075\n",
      "\n",
      "    accuracy                           0.56      2160\n",
      "   macro avg       0.56      0.56      0.56      2160\n",
      "weighted avg       0.56      0.56      0.56      2160\n",
      "\n"
     ]
    }
   ],
   "source": [
    "import xgboost as xgb\n",
    "\n",
    "# Initialize and train the XGBoost model\n",
    "# Note: XGBClassifier handles data scaling internally, so StandardScaler is not necessary.\n",
    "xgb_pipeline = xgb.XGBClassifier(use_label_encoder=False, eval_metric='logloss')\n",
    "xgb_pipeline.fit(X_train, y_train)\n",
    "\n",
    "# Evaluate the model on the test set\n",
    "y_pred_xgb = xgb_pipeline.predict(X_test)\n",
    "print(\"XGBoost Model Test Set Evaluation:\")\n",
    "print(\"Accuracy:\", accuracy_score(y_test, y_pred_xgb))\n",
    "print(classification_report(y_test, y_pred_xgb))\n"
   ]
  },
  {
   "cell_type": "markdown",
   "id": "7b834aab-3416-46dd-861f-baf491d3acbf",
   "metadata": {},
   "source": [
    "The other models are all around 55%"
   ]
  },
  {
   "cell_type": "code",
   "execution_count": 85,
   "id": "f80d7106-2939-4a6a-8a33-f07d183e9cda",
   "metadata": {
    "tags": []
   },
   "outputs": [
    {
     "name": "stdout",
     "output_type": "stream",
     "text": [
      "Ensemble Model Test Set Evaluation:\n",
      "Accuracy: 0.5699074074074074\n",
      "              precision    recall  f1-score   support\n",
      "\n",
      "         0.0       0.58      0.53      0.55      1085\n",
      "         1.0       0.56      0.61      0.59      1075\n",
      "\n",
      "    accuracy                           0.57      2160\n",
      "   macro avg       0.57      0.57      0.57      2160\n",
      "weighted avg       0.57      0.57      0.57      2160\n",
      "\n"
     ]
    }
   ],
   "source": [
    "# Get predictions for each model\n",
    "prob_xgb = xgb_pipeline.predict_proba(X_test)[:, 1]\n",
    "prob_gbdt = gbdt_pipeline.predict_proba(X_test)[:, 1]\n",
    "prob_rf = rf_pipeline.predict_proba(X_test)[:, 1]\n",
    "prob_lr = lr_pipeline.predict_proba(X_test)[:, 1]\n",
    "\n",
    "# Average the probabilities\n",
    "average_prob = (prob_xgb + prob_gbdt + prob_rf + prob_lr) / 4\n",
    "\n",
    "# Convert probabilities to final predictions based on a threshold, e.g., 0.5\n",
    "final_predictions = np.where(average_prob > 0.5, 1, 0)\n",
    "\n",
    "# Evaluate the ensemble model\n",
    "print(\"Ensemble Model Test Set Evaluation:\")\n",
    "print(\"Accuracy:\", accuracy_score(y_test, final_predictions))\n",
    "print(classification_report(y_test, final_predictions))"
   ]
  },
  {
   "cell_type": "code",
   "execution_count": null,
   "id": "652789d5-ae06-49bf-a750-8bcebcf3a12d",
   "metadata": {},
   "outputs": [],
   "source": [
    "#ensemble approach is only a tiny improvement"
   ]
  },
  {
   "cell_type": "markdown",
   "id": "eb0f6df2-8125-4529-bb1c-0cbd72a3929f",
   "metadata": {},
   "source": [
    "## feature importances"
   ]
  },
  {
   "cell_type": "code",
   "execution_count": 86,
   "id": "ac3b1069-e847-4eef-8be0-cf2dc42098fb",
   "metadata": {
    "tags": []
   },
   "outputs": [
    {
     "data": {
      "image/png": "[encoded data removed]",
      "text/plain": [
       "<Figure size 1000x1500 with 1 Axes>"
      ]
     },
     "metadata": {},
     "output_type": "display_data"
    }
   ],
   "source": [
    "#feature importance\n",
    "\n",
    "X = X.copy()\n",
    "\n",
    "for col, le in label_encoders.items():\n",
    "    if col in X.columns:\n",
    "        # Directly modify the DataFrame column\n",
    "        X[col] = X[col].apply(lambda s: le.transform([str(s)]) if str(s) in le.classes_ else -1).astype(int)\n",
    "\n",
    "# Fit the Logistic Regression pipeline to the full training data\n",
    "lr_pipeline.fit(X, y)  #  X and y are the full training features and labels without the validation set\n",
    "\n",
    "# Get the feature names and coefficients\n",
    "feature_names = X.columns\n",
    "coefficients = pipeline.named_steps['logisticregression'].coef_.flatten()  # Extract the coefficients\n",
    "\n",
    "# Create a DataFrame of features and their corresponding coefficients\n",
    "feature_importance = pd.DataFrame(data={'Feature': feature_names, 'Coefficient': coefficients})\n",
    "\n",
    "# Calculate the absolute values of the coefficients to determine their \"importance\"\n",
    "feature_importance['Importance'] = feature_importance['Coefficient'].abs()\n",
    "\n",
    "# Sort the data by importance\n",
    "feature_importance = feature_importance.sort_values(by='Importance', ascending=False)\n",
    "\n",
    "# Plot the top features\n",
    "top_features = feature_importance.head(30)\n",
    "plt.figure(figsize=(10, 15))\n",
    "plt.barh(top_features['Feature'], top_features['Importance'], color='skyblue')\n",
    "plt.xlabel('Absolute Coefficient Value')\n",
    "plt.title('Top 30 Important Features to the Logistic Regression Model')\n",
    "plt.gca().invert_yaxis()  # Invert the Y-axis to have the most important feature on top\n",
    "plt.show()\n"
   ]
  },
  {
   "cell_type": "code",
   "execution_count": null,
   "id": "a6e971eb-f5de-497f-9cc6-0fb71c2a588c",
   "metadata": {},
   "outputs": [],
   "source": []
  }
 ],
 "metadata": {
  "kernelspec": {
   "display_name": "Python 3 (ipykernel)",
   "language": "python",
   "name": "python3"
  },
  "language_info": {
   "codemirror_mode": {
    "name": "ipython",
    "version": 3
   },
   "file_extension": ".py",
   "mimetype": "text/x-python",
   "name": "python",
   "nbconvert_exporter": "python",
   "pygments_lexer": "ipython3",
   "version": "3.11.2"
  }
 },
 "nbformat": 4,
 "nbformat_minor": 5
}
