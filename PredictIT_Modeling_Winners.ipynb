{
 "cells": [
  {
   "cell_type": "code",
   "execution_count": null,
   "id": "df7e319f-49d5-4a0a-ad21-ae06c695d67a",
   "metadata": {},
   "outputs": [],
   "source": [
    "import pandas as pd\n",
    "import numpy as np\n",
    "import matplotlib.pyplot as plt\n",
    "import pyodbc \n",
    "from sklearn.compose import ColumnTransformer\n",
    "from sklearn.dummy import DummyClassifier\n",
    "from sklearn.ensemble import RandomForestClassifier, GradientBoostingClassifier\n",
    "from sklearn.linear_model import LogisticRegression\n",
    "from sklearn.metrics import make_scorer, accuracy_score, precision_score, recall_score, f1_score, classification_report, roc_curve, auc, precision_recall_curve\n",
    "from sklearn.model_selection import train_test_split, StratifiedShuffleSplit, cross_validate, GridSearchCV, learning_curve\n",
    "from sklearn.pipeline import make_pipeline\n",
    "from sklearn.preprocessing import LabelEncoder, MinMaxScaler, StandardScaler, OneHotEncoder\n",
    "from sklearn.svm import SVC\n",
    "import xgboost as xgb\n",
    "from catboost import CatBoostClassifier"
   ]
  },
  {
   "cell_type": "code",
   "execution_count": null,
   "id": "b1382320-8127-45ab-8aaa-4420adfa963d",
   "metadata": {},
   "outputs": [],
   "source": [
    "# get data from SQL server"
   ]
  },
  {
   "cell_type": "code",
   "execution_count": 3,
   "id": "d8cf1eb0-0343-4599-bed5-492c53570f4d",
   "metadata": {
    "tags": []
   },
   "outputs": [
    {
     "name": "stderr",
     "output_type": "stream",
     "text": [
      "C:\\Users\\amanda.kaplan\\AppData\\Local\\Temp\\ipykernel_5552\\1276104261.py:7: UserWarning: pandas only supports SQLAlchemy connectable (engine/connection) or database string URI or sqlite3 DBAPI2 connection. Other DBAPI2 objects are not tested. Please consider using SQLAlchemy.\n",
      "  predictit_data = pd.read_sql(\"\"\"SELECT  * from predictit_matched_20240206\"\"\", cnxn)\n"
     ]
    }
   ],
   "source": [
    "server = #enter server name and port (note, i took this out for security)\n",
    "database = # enter database name (note, i took this out for security)\n",
    "cnxn=pyodbc.connect('DRIVER={ODBC Driver 17 for SQL Server};SERVER='+server+';DATABASE='+database+';Trusted_Connection=Yes')\n",
    "\n",
    "predictit_data = pd.read_sql(\"\"\"SELECT  * from predictit_matched_20240206\"\"\", cnxn)\n",
    "\n",
    "cnxn.close()"
   ]
  },
  {
   "cell_type": "markdown",
   "id": "c22539e2-6d37-4b3d-bd2e-2a915a2dda1d",
   "metadata": {},
   "source": [
    "# Data Pre-Processing Steps"
   ]
  },
  {
   "cell_type": "code",
   "execution_count": 4,
   "id": "a52db7cc-a7de-46dd-b833-d987371022ee",
   "metadata": {
    "tags": []
   },
   "outputs": [],
   "source": [
    "#keep only the active users - dropping anyone who has not made any deposits or transactions on the site after creating initial log-in\n",
    "\n",
    "for column in ['deposits', 'accountbalance', 'Withdrawals', 'Invested', 'riskamount', 'profit', 'loss','numshares']:\n",
    "    predictit_data[column] = pd.to_numeric(predictit_data[column])\n",
    "    \n",
    "condition = (\n",
    "    (predictit_data['deposits'] != 0) |\n",
    "    (predictit_data['accountbalance'] != 0) |\n",
    "    (predictit_data['Withdrawals'] != 0.00) |\n",
    "    (predictit_data['Invested'] != 0.00) |\n",
    "    (predictit_data['numshares'] != 0) |  \n",
    "    (predictit_data['riskamount'] != 0.0000) |\n",
    "    (predictit_data['profit'] != 0.000000) |\n",
    "    (predictit_data['loss'] != 0.000000)\n",
    ")\n",
    "\n",
    "predictit_data = predictit_data[condition].copy()"
   ]
  },
  {
   "cell_type": "markdown",
   "id": "78eb1ae7-421c-4601-a10c-f86b97a0f170",
   "metadata": {},
   "source": [
    "I want to make the contrast between winners and losers as obvious as possible, as i think people who won a small amount or lost a small amount are just going to confuse the models. so i want to have my training data set consist of the top and bottom quartiles and leave out the middle two."
   ]
  },
  {
   "cell_type": "code",
   "execution_count": 36,
   "id": "38aa4e6a-aad8-452b-b869-393066341161",
   "metadata": {
    "tags": []
   },
   "outputs": [],
   "source": [
    "# Calculate the profit + loss in a new column\n",
    "predictit_data['profit_loss'] = predictit_data['profit'] + predictit_data['loss']\n",
    "\n",
    "# Find the 25th and 75th percentiles \n",
    "percentile_25 = predictit_data['profit_loss'].quantile(0.25)\n",
    "percentile_75 = predictit_data['profit_loss'].quantile(0.75)\n",
    "\n",
    "# Filter out the middle 50% of the dataset\n",
    "top_25_percent = predictit_data[predictit_data['profit_loss'] > percentile_75]\n",
    "bottom_25_percent = predictit_data[predictit_data['profit_loss'] < percentile_25]\n"
   ]
  },
  {
   "cell_type": "markdown",
   "id": "e3dd4a51-506d-43f8-a2c3-add8d952adf4",
   "metadata": {},
   "source": [
    "using top and bottom quartiles modeling accuracy was in low 50s, so instead trying with the top and bottom x users (chose 6k)"
   ]
  },
  {
   "cell_type": "code",
   "execution_count": 126,
   "id": "323ff97e-4ee9-4b56-8832-d7ff76305db4",
   "metadata": {
    "tags": []
   },
   "outputs": [],
   "source": [
    "#trying something a little different now since modeling with the top and bottom quanriles wasn't too good.\n",
    "\n",
    "# Taking the 6000 records with the highest profit_loss from top_25_percent\n",
    "top_records = top_25_percent.nlargest(6000, 'profit_loss')\n",
    "\n",
    "# Taking the 6000 records with the lowest profit_loss from bottom_25_percent\n",
    "bottom_records = bottom_25_percent.nsmallest(6000, 'profit_loss')\n",
    "\n",
    "# Combine\n",
    "filtered_predictit_data = pd.concat([top_records, bottom_records], ignore_index=True)\n",
    "\n",
    "# Add winner column with 1 where 'profit_loss' > 0 (winners), 0 otherwise (losers)\n",
    "filtered_predictit_data['winner'] = (filtered_predictit_data['profit_loss'] > 0).astype(int)\n",
    "\n"
   ]
  },
  {
   "cell_type": "code",
   "execution_count": 127,
   "id": "5e40a18d-b44b-4ba5-ae07-293120cc85fb",
   "metadata": {
    "tags": []
   },
   "outputs": [
    {
     "data": {
      "text/plain": [
       "1    6000\n",
       "0    6000\n",
       "Name: winner, dtype: int64"
      ]
     },
     "execution_count": 127,
     "metadata": {},
     "output_type": "execute_result"
    }
   ],
   "source": [
    "len(filtered_predictit_data)\n",
    "filtered_predictit_data['winner'].value_counts()"
   ]
  },
  {
   "cell_type": "code",
   "execution_count": 128,
   "id": "1925e389-f981-451b-9d4b-6c967a2aadca",
   "metadata": {
    "tags": []
   },
   "outputs": [
    {
     "data": {
      "text/plain": [
       "12000"
      ]
     },
     "execution_count": 128,
     "metadata": {},
     "output_type": "execute_result"
    }
   ],
   "source": [
    "len(filtered_predictit_data)"
   ]
  },
  {
   "cell_type": "markdown",
   "id": "99088b9b-ca53-4be4-a763-962891307d99",
   "metadata": {},
   "source": [
    "## data cleaning + feature engineering"
   ]
  },
  {
   "cell_type": "code",
   "execution_count": 129,
   "id": "5f981cd4-914a-41f2-9aa0-d9153129066e",
   "metadata": {
    "tags": []
   },
   "outputs": [
    {
     "name": "stderr",
     "output_type": "stream",
     "text": [
      "C:\\Users\\amanda.kaplan\\AppData\\Local\\Temp\\ipykernel_5552\\3908717612.py:15: PerformanceWarning: DataFrame is highly fragmented.  This is usually the result of calling `frame.insert` many times, which has poor performance.  Consider joining all columns at once using pd.concat(axis=1) instead. To get a de-fragmented frame, use `newframe = frame.copy()`\n",
      "  filtered_predictit_data['GROUPED_PARTY'] = filtered_predictit_data['PARTY_CODE'].map(party_code_mapping).fillna('Other')\n",
      "C:\\Users\\amanda.kaplan\\AppData\\Local\\Temp\\ipykernel_5552\\3908717612.py:17: PerformanceWarning: DataFrame is highly fragmented.  This is usually the result of calling `frame.insert` many times, which has poor performance.  Consider joining all columns at once using pd.concat(axis=1) instead. To get a de-fragmented frame, use `newframe = frame.copy()`\n",
      "  filtered_predictit_data['COUNTY_CODE'] = filtered_predictit_data['CENSUS_ST']+filtered_predictit_data['COUNTY_ST']\n"
     ]
    }
   ],
   "source": [
    "#Replace blanks and spaces with NaN\n",
    "filtered_predictit_data.replace(r'^\\s*$', np.nan, regex=True, inplace=True)\n",
    "\n",
    "#consolidate SEX values due to some casing issues.\n",
    "filtered_predictit_data['SEX'] = filtered_predictit_data['SEX'].replace({'f': 'F', 'm': 'M', 'N': 'U', ' ': 'U'})\n",
    "\n",
    "# Mapping the PARTY_CODE to new groups to include inferred r / d as r & d  etc\n",
    "party_code_mapping = {\n",
    "    'R': 'Republican', 'S': 'Republican',\n",
    "    'D': 'Democrat', 'E': 'Democrat',\n",
    "    'N': 'No Affiliation', 'U': 'Unknown'\n",
    "}\n",
    "\n",
    "# If the party code is not in the mapping, assign as other\n",
    "filtered_predictit_data['GROUPED_PARTY'] = filtered_predictit_data['PARTY_CODE'].map(party_code_mapping).fillna('Other')\n",
    "\n",
    "#make a unique county + state field\n",
    "filtered_predictit_data['COUNTY_CODE'] = filtered_predictit_data['CENSUS_ST']+filtered_predictit_data['COUNTY_ST']\n",
    "\n",
    "\n"
   ]
  },
  {
   "cell_type": "code",
   "execution_count": 130,
   "id": "1229d28e-51f0-4844-a7bb-b1cba3c67461",
   "metadata": {
    "tags": []
   },
   "outputs": [],
   "source": [
    "# Convert numeric fields to float and replace Y/ NaN with 1 / 0\n",
    "for column in filtered_predictit_data.columns:\n",
    "    # Attempt to convert column to numeric, coercing errors to NaN\n",
    "    temp_series = pd.to_numeric(filtered_predictit_data[column], errors='coerce')\n",
    "    # If the conversion did not result in all NaN values, the original column is numeric\n",
    "    if not temp_series.isnull().all():\n",
    "        filtered_predictit_data[column] = temp_series.astype(float)\n",
    "    # Check for fields where the only values are 'Y' and NaN\n",
    "    elif set(filtered_predictit_data[column].dropna().unique()) == {'Y'}:\n",
    "        filtered_predictit_data[column] = filtered_predictit_data[column].map({'Y': 1, np.nan: 0}).astype(float)\n"
   ]
  },
  {
   "cell_type": "code",
   "execution_count": 131,
   "id": "1ca714e7-1281-419b-9fd5-3f97c4d512a4",
   "metadata": {
    "tags": []
   },
   "outputs": [],
   "source": [
    "#impute missing values\n",
    "for column in filtered_predictit_data.columns:\n",
    "    # Check if the column is numeric\n",
    "    if filtered_predictit_data[column].dtype in ['float64', 'int64']:\n",
    "        # Fill missing values with -1\n",
    "        filtered_predictit_data[column].fillna(-1, inplace=True)\n",
    "    else:\n",
    "        # Fill missing values with \"UNK\"\n",
    "        filtered_predictit_data[column].fillna(\"UNK\", inplace=True)"
   ]
  },
  {
   "cell_type": "code",
   "execution_count": 132,
   "id": "efb9aba9-26d3-440c-a46f-0a3dca04c0c9",
   "metadata": {
    "tags": []
   },
   "outputs": [
    {
     "name": "stdout",
     "output_type": "stream",
     "text": [
      "Columns with NaN values: []\n"
     ]
    }
   ],
   "source": [
    "#check to make sure we don't have any NaNs left\n",
    "\n",
    "nan_columns = filtered_predictit_data.columns[filtered_predictit_data.isna().any()].tolist()\n",
    "\n",
    "print(\"Columns with NaN values:\", nan_columns)"
   ]
  },
  {
   "cell_type": "code",
   "execution_count": 133,
   "id": "e68473e0-75ac-4290-b566-262cf6383a65",
   "metadata": {
    "tags": []
   },
   "outputs": [],
   "source": [
    "#double checking these columns are integers\n",
    "\n",
    "filtered_predictit_data['ZIP'] = filtered_predictit_data['ZIP'].astype(int)\n",
    "filtered_predictit_data['PARTY_MIX'] = filtered_predictit_data['PARTY_MIX'].astype(int)\n",
    "filtered_predictit_data['COUNTY_CODE'] = filtered_predictit_data['COUNTY_CODE'].astype(int)"
   ]
  },
  {
   "cell_type": "code",
   "execution_count": 134,
   "id": "cdbb6ec0-06f0-4f97-bab1-adcb64d2c129",
   "metadata": {
    "tags": []
   },
   "outputs": [
    {
     "data": {
      "text/html": [
       "<div>\n",
       "<style scoped>\n",
       "    .dataframe tbody tr th:only-of-type {\n",
       "        vertical-align: middle;\n",
       "    }\n",
       "\n",
       "    .dataframe tbody tr th {\n",
       "        vertical-align: top;\n",
       "    }\n",
       "\n",
       "    .dataframe thead th {\n",
       "        text-align: right;\n",
       "    }\n",
       "</style>\n",
       "<table border=\"1\" class=\"dataframe\">\n",
       "  <thead>\n",
       "    <tr style=\"text-align: right;\">\n",
       "      <th></th>\n",
       "      <th>deposits</th>\n",
       "      <th>accountbalance</th>\n",
       "      <th>Withdrawals</th>\n",
       "      <th>Invested</th>\n",
       "      <th>numshares</th>\n",
       "      <th>riskamount</th>\n",
       "      <th>profit</th>\n",
       "      <th>loss</th>\n",
       "      <th>lastlogin</th>\n",
       "      <th>rowid</th>\n",
       "      <th>...</th>\n",
       "      <th>WATER</th>\n",
       "      <th>WEALTH</th>\n",
       "      <th>WOODWORK</th>\n",
       "      <th>WORKWOMAN</th>\n",
       "      <th>YEARBUILT</th>\n",
       "      <th>ZIP</th>\n",
       "      <th>profit_loss</th>\n",
       "      <th>winner</th>\n",
       "      <th>GROUPED_PARTY</th>\n",
       "      <th>COUNTY_CODE</th>\n",
       "    </tr>\n",
       "  </thead>\n",
       "  <tbody>\n",
       "    <tr>\n",
       "      <th>0</th>\n",
       "      <td>400.0</td>\n",
       "      <td>454.695</td>\n",
       "      <td>-561000.00</td>\n",
       "      <td>0.00</td>\n",
       "      <td>10.0</td>\n",
       "      <td>9.000</td>\n",
       "      <td>978251.85</td>\n",
       "      <td>-318953.71</td>\n",
       "      <td>1.699404e+18</td>\n",
       "      <td>54914.0</td>\n",
       "      <td>...</td>\n",
       "      <td>-1.0</td>\n",
       "      <td>-1.0</td>\n",
       "      <td>0.0</td>\n",
       "      <td>0.0</td>\n",
       "      <td>-1.0</td>\n",
       "      <td>27516</td>\n",
       "      <td>659298.14</td>\n",
       "      <td>1.0</td>\n",
       "      <td>Democrat</td>\n",
       "      <td>37135</td>\n",
       "    </tr>\n",
       "    <tr>\n",
       "      <th>1</th>\n",
       "      <td>33945.0</td>\n",
       "      <td>0.009</td>\n",
       "      <td>-574123.37</td>\n",
       "      <td>0.00</td>\n",
       "      <td>0.0</td>\n",
       "      <td>0.000</td>\n",
       "      <td>1093006.61</td>\n",
       "      <td>-443942.27</td>\n",
       "      <td>1.700572e+18</td>\n",
       "      <td>103392.0</td>\n",
       "      <td>...</td>\n",
       "      <td>-1.0</td>\n",
       "      <td>-1.0</td>\n",
       "      <td>0.0</td>\n",
       "      <td>0.0</td>\n",
       "      <td>-1.0</td>\n",
       "      <td>19146</td>\n",
       "      <td>649064.34</td>\n",
       "      <td>1.0</td>\n",
       "      <td>Democrat</td>\n",
       "      <td>42101</td>\n",
       "    </tr>\n",
       "    <tr>\n",
       "      <th>2</th>\n",
       "      <td>8497.6</td>\n",
       "      <td>244.457</td>\n",
       "      <td>-495172.11</td>\n",
       "      <td>77.56</td>\n",
       "      <td>19794.0</td>\n",
       "      <td>2339.677</td>\n",
       "      <td>993440.06</td>\n",
       "      <td>-404980.58</td>\n",
       "      <td>1.700311e+18</td>\n",
       "      <td>214742.0</td>\n",
       "      <td>...</td>\n",
       "      <td>-1.0</td>\n",
       "      <td>7.0</td>\n",
       "      <td>0.0</td>\n",
       "      <td>0.0</td>\n",
       "      <td>2009.0</td>\n",
       "      <td>43062</td>\n",
       "      <td>588459.48</td>\n",
       "      <td>1.0</td>\n",
       "      <td>Democrat</td>\n",
       "      <td>39089</td>\n",
       "    </tr>\n",
       "    <tr>\n",
       "      <th>3</th>\n",
       "      <td>5225.0</td>\n",
       "      <td>11893.120</td>\n",
       "      <td>-420906.18</td>\n",
       "      <td>1253.70</td>\n",
       "      <td>50379.0</td>\n",
       "      <td>5908.338</td>\n",
       "      <td>680153.32</td>\n",
       "      <td>-177560.45</td>\n",
       "      <td>1.700409e+18</td>\n",
       "      <td>12908.0</td>\n",
       "      <td>...</td>\n",
       "      <td>-1.0</td>\n",
       "      <td>-1.0</td>\n",
       "      <td>0.0</td>\n",
       "      <td>0.0</td>\n",
       "      <td>-1.0</td>\n",
       "      <td>2453</td>\n",
       "      <td>502592.87</td>\n",
       "      <td>1.0</td>\n",
       "      <td>No Affiliation</td>\n",
       "      <td>25017</td>\n",
       "    </tr>\n",
       "    <tr>\n",
       "      <th>4</th>\n",
       "      <td>27450.0</td>\n",
       "      <td>8906.948</td>\n",
       "      <td>-302440.27</td>\n",
       "      <td>935.36</td>\n",
       "      <td>446781.0</td>\n",
       "      <td>12634.968</td>\n",
       "      <td>1054734.14</td>\n",
       "      <td>-652280.68</td>\n",
       "      <td>1.699682e+18</td>\n",
       "      <td>32502.0</td>\n",
       "      <td>...</td>\n",
       "      <td>3.0</td>\n",
       "      <td>-1.0</td>\n",
       "      <td>0.0</td>\n",
       "      <td>0.0</td>\n",
       "      <td>-1.0</td>\n",
       "      <td>92122</td>\n",
       "      <td>402453.46</td>\n",
       "      <td>1.0</td>\n",
       "      <td>No Affiliation</td>\n",
       "      <td>6073</td>\n",
       "    </tr>\n",
       "  </tbody>\n",
       "</table>\n",
       "<p>5 rows × 580 columns</p>\n",
       "</div>"
      ],
      "text/plain": [
       "   deposits  accountbalance  Withdrawals  Invested  numshares  riskamount  \\\n",
       "0     400.0         454.695   -561000.00      0.00       10.0       9.000   \n",
       "1   33945.0           0.009   -574123.37      0.00        0.0       0.000   \n",
       "2    8497.6         244.457   -495172.11     77.56    19794.0    2339.677   \n",
       "3    5225.0       11893.120   -420906.18   1253.70    50379.0    5908.338   \n",
       "4   27450.0        8906.948   -302440.27    935.36   446781.0   12634.968   \n",
       "\n",
       "       profit       loss     lastlogin     rowid  ...  WATER  WEALTH  \\\n",
       "0   978251.85 -318953.71  1.699404e+18   54914.0  ...   -1.0    -1.0   \n",
       "1  1093006.61 -443942.27  1.700572e+18  103392.0  ...   -1.0    -1.0   \n",
       "2   993440.06 -404980.58  1.700311e+18  214742.0  ...   -1.0     7.0   \n",
       "3   680153.32 -177560.45  1.700409e+18   12908.0  ...   -1.0    -1.0   \n",
       "4  1054734.14 -652280.68  1.699682e+18   32502.0  ...    3.0    -1.0   \n",
       "\n",
       "   WOODWORK  WORKWOMAN  YEARBUILT    ZIP  profit_loss  winner   GROUPED_PARTY  \\\n",
       "0       0.0        0.0       -1.0  27516    659298.14     1.0        Democrat   \n",
       "1       0.0        0.0       -1.0  19146    649064.34     1.0        Democrat   \n",
       "2       0.0        0.0     2009.0  43062    588459.48     1.0        Democrat   \n",
       "3       0.0        0.0       -1.0   2453    502592.87     1.0  No Affiliation   \n",
       "4       0.0        0.0       -1.0  92122    402453.46     1.0  No Affiliation   \n",
       "\n",
       "   COUNTY_CODE  \n",
       "0        37135  \n",
       "1        42101  \n",
       "2        39089  \n",
       "3        25017  \n",
       "4         6073  \n",
       "\n",
       "[5 rows x 580 columns]"
      ]
     },
     "execution_count": 134,
     "metadata": {},
     "output_type": "execute_result"
    }
   ],
   "source": [
    "filtered_predictit_data.head()"
   ]
  },
  {
   "cell_type": "markdown",
   "id": "a4361e64-d26f-406d-a7dc-fa18494d95bb",
   "metadata": {},
   "source": [
    "## split data into target variable and features"
   ]
  },
  {
   "cell_type": "markdown",
   "id": "d83353c5-da7a-464c-afd5-07ee7ecc1d06",
   "metadata": {},
   "source": [
    "I am going to train using some of the features identified as likely being important during the data explorations and visualation work"
   ]
  },
  {
   "cell_type": "code",
   "execution_count": 135,
   "id": "506563c1-8815-47a9-9334-5fc558da6f37",
   "metadata": {
    "tags": []
   },
   "outputs": [],
   "source": [
    "\n",
    "features_to_use = ['PASSPROSVAL','MEDHOMEVAL','AUTO_MSRP','ZIP','VTR_PPP84','VTR_PRI87','CNS_MEDINC','TOD_GOV_D_2020',\n",
    "'TOD_GOV_R_2020','TOD_GOV_D_2012','TOD_GOV_R_2012','VTR_PRI88','TOD_GOV_R_2016','TOD_GOV_D_2016','VTR_PRI86',\n",
    "'TOD_PRES_R_2020_PREC','TOD_PRES_R_2016_PREC','AUTO_MODEL','TOD_SEN_O_2012','TOD_GOV_DIFF_2020','TOD_PRES_D_2020_PREC',\n",
    "'TOD_GOV_DIFF_2016','TOD_GOV_DIFF_2012','OCCDETAIL_DESC','OCCDETAIL','VTR_PPP88','TOD_PRES_D_2016_PREC',\n",
    "'TOD_SEN_R_2014','TOD_SEN_D_2020','TOD_SEN_R_2020','PRFL_POLITICAL_IDEOLOGY','TOD_SEN_D_2014','PREVIOUS_PARTY',\n",
    "'PARTY_CODE','TOD_GOV_D_2018','GROUPED_PARTY','TOD_SEN_D_2012','TOD_SEN_R_2016','TOD_GOV_O_2016','TOD_SEN_R_2012',\n",
    "'TOD_GOV_R_2018','ALUMNI_INDUSTRY','TOD_PRES_D_2016','TOD_PRES_R_2020','PARTY_MIX','ETHNIC_INFER','INCOMESTHH','COUNTY_CODE']\n",
    " \n",
    "X = filtered_predictit_data[features_to_use] \n",
    "y = filtered_predictit_data['winner']"
   ]
  },
  {
   "cell_type": "code",
   "execution_count": 136,
   "id": "cc58fc5f-cd06-4611-9049-4b5d918a963d",
   "metadata": {
    "tags": []
   },
   "outputs": [],
   "source": [
    "#first split - validation set\n",
    "X_temp, X_validation, y_temp, y_validation = train_test_split(X, y, test_size=0.1, random_state=42) # 10% for validation\n",
    "\n",
    "#Second split: Splitting the remaining data into training and testing sets\n",
    "X_train, X_test, y_train, y_test = train_test_split(X_temp, y_temp, test_size=0.2, random_state=42) # 20% of 90% for testing"
   ]
  },
  {
   "cell_type": "code",
   "execution_count": 137,
   "id": "d4e60d4b-5c21-4551-893e-2d751934a7b3",
   "metadata": {
    "tags": []
   },
   "outputs": [],
   "source": [
    "# Creating copies of the original datasets for CatBoost and maybe LightGBM\n",
    "X_cb_lgbm = X.copy()\n",
    "y_cb_lgbm = y.copy()\n",
    "\n",
    "# First split\n",
    "X_temp_cb_lgbm, X_validation_cb_lgbm, y_temp_cb_lgbm, y_validation_cb_lgbm = train_test_split(X_cb_lgbm, y_cb_lgbm, test_size=0.1, random_state=42) # 10% for validation\n",
    "\n",
    "# Second split\n",
    "X_train_cb_lgbm, X_test_cb_lgbm, y_train_cb_lgbm, y_test_cb_lgbm = train_test_split(X_temp_cb_lgbm, y_temp_cb_lgbm, test_size=0.2, random_state=42) # 20% of 90% for testing"
   ]
  },
  {
   "cell_type": "markdown",
   "id": "57374167-169b-4e1d-837a-6d155d9a1fc1",
   "metadata": {},
   "source": [
    "## one hot encoding for categorical columns"
   ]
  },
  {
   "cell_type": "code",
   "execution_count": 138,
   "id": "af8f1a12-89ed-45e3-9e3b-a1b22c178432",
   "metadata": {
    "tags": []
   },
   "outputs": [],
   "source": [
    "categorical_columns = X_train.select_dtypes(include=['object', 'category']).columns.tolist()"
   ]
  },
  {
   "cell_type": "code",
   "execution_count": 139,
   "id": "b259fcfd-249e-4c8b-a1a5-997bbddcabec",
   "metadata": {
    "tags": []
   },
   "outputs": [
    {
     "data": {
      "text/plain": [
       "['VTR_PRI88',\n",
       " 'VTR_PRI86',\n",
       " 'TOD_GOV_DIFF_2020',\n",
       " 'TOD_GOV_DIFF_2016',\n",
       " 'TOD_GOV_DIFF_2012',\n",
       " 'OCCDETAIL_DESC',\n",
       " 'OCCDETAIL',\n",
       " 'VTR_PPP88',\n",
       " 'PRFL_POLITICAL_IDEOLOGY',\n",
       " 'PREVIOUS_PARTY',\n",
       " 'PARTY_CODE',\n",
       " 'GROUPED_PARTY',\n",
       " 'ALUMNI_INDUSTRY',\n",
       " 'ETHNIC_INFER',\n",
       " 'INCOMESTHH']"
      ]
     },
     "execution_count": 139,
     "metadata": {},
     "output_type": "execute_result"
    }
   ],
   "source": [
    "categorical_columns  #double checking what my categorical columns are"
   ]
  },
  {
   "cell_type": "code",
   "execution_count": 140,
   "id": "4e85357d-9f9d-4187-8265-3a6c7105edd7",
   "metadata": {
    "tags": []
   },
   "outputs": [],
   "source": [
    "\n",
    "\n",
    "preprocessor = ColumnTransformer(\n",
    "    transformers=[\n",
    "        ('cat', OneHotEncoder(handle_unknown='ignore'), categorical_columns)\n",
    "    ], remainder='passthrough')  # 'passthrough' numerical features as is\n",
    "\n",
    "# Apply the transformations\n",
    "X_train_encoded = preprocessor.fit_transform(X_train)\n",
    "X_test_encoded = preprocessor.transform(X_test)\n",
    "X_validation_encoded = preprocessor.transform(X_validation)\n",
    "\n",
    "\n",
    "# Get feature names after one-hot encoding so i can use them later\n",
    "encoded_features = preprocessor.named_transformers_['cat'].get_feature_names_out(categorical_columns)\n",
    "# Combine with numerical features \n",
    "features_after_encoding = list(encoded_features) + [col for col in X_train.columns if col not in categorical_columns]"
   ]
  },
  {
   "cell_type": "markdown",
   "id": "6fda579c-39a9-4488-8868-f6a2109af5f9",
   "metadata": {},
   "source": [
    "# Model evaluation"
   ]
  },
  {
   "cell_type": "markdown",
   "id": "eaf60646-0bb4-452a-a4cc-39ade3ea908a",
   "metadata": {},
   "source": [
    "## Dummy Classifier"
   ]
  },
  {
   "cell_type": "code",
   "execution_count": 141,
   "id": "b97126ce-9785-4529-a60a-2b32ed9db3a5",
   "metadata": {
    "tags": []
   },
   "outputs": [
    {
     "name": "stdout",
     "output_type": "stream",
     "text": [
      "Baseline accuracy of DummyClassifier: 0.4912037037037037\n"
     ]
    }
   ],
   "source": [
    "#train a dummy classifier\n",
    "\n",
    "dummy_clf = DummyClassifier(strategy='most_frequent')\n",
    "dummy_clf.fit(X_train_encoded, y_train)\n",
    "y_pred = dummy_clf.predict(X_test_encoded)\n",
    "\n",
    "accuracy = accuracy_score(y_test, y_pred)\n",
    "print(f'Baseline accuracy of DummyClassifier: {accuracy}')"
   ]
  },
  {
   "cell_type": "markdown",
   "id": "ce89149c-d6c8-4972-81af-db5cd774fd47",
   "metadata": {},
   "source": [
    "## Logistic Regression"
   ]
  },
  {
   "cell_type": "code",
   "execution_count": 142,
   "id": "c522a806-20ca-497a-a0a0-afebd75349a2",
   "metadata": {
    "tags": []
   },
   "outputs": [
    {
     "name": "stdout",
     "output_type": "stream",
     "text": [
      "Test Set Evaluation:\n",
      "Accuracy: 0.587037037037037\n",
      "              precision    recall  f1-score   support\n",
      "\n",
      "         0.0       0.58      0.59      0.59      1061\n",
      "         1.0       0.60      0.58      0.59      1099\n",
      "\n",
      "    accuracy                           0.59      2160\n",
      "   macro avg       0.59      0.59      0.59      2160\n",
      "weighted avg       0.59      0.59      0.59      2160\n",
      "\n"
     ]
    }
   ],
   "source": [
    "#initialize and train logistic regression model\n",
    "lr_pipeline = make_pipeline(StandardScaler(with_mean =False), LogisticRegression(max_iter=10000))\n",
    "lr_pipeline.fit(X_train_encoded, y_train)\n",
    "\n",
    "# Evaluate the model on the test set\n",
    "y_pred = lr_pipeline.predict(X_test_encoded)\n",
    "print(\"Test Set Evaluation:\")\n",
    "print(\"Accuracy:\", accuracy_score(y_test, y_pred))\n",
    "print(classification_report(y_test, y_pred))\n"
   ]
  },
  {
   "cell_type": "code",
   "execution_count": 143,
   "id": "017cf34a-6de3-41e1-9abd-dd7e47b190fa",
   "metadata": {
    "tags": []
   },
   "outputs": [
    {
     "name": "stdout",
     "output_type": "stream",
     "text": [
      "5-Fold Cross-Validation Results:\n",
      "Average Accuracy: 0.609\n",
      "Average Precision (macro): 0.609\n",
      "Average F1-Score (macro): 0.609\n"
     ]
    }
   ],
   "source": [
    "# Perform 5-fold cross-validation\n",
    "scoring = {'accuracy': 'accuracy', 'precision': 'precision_macro', 'f1': 'f1_macro'}\n",
    "cv_results = cross_validate(lr_pipeline, X_train_encoded, y_train, cv=5, scoring=scoring)\n",
    "\n",
    "# Print the average of the evaluation metrics across all 5 folds\n",
    "print(\"5-Fold Cross-Validation Results:\")\n",
    "print(f\"Average Accuracy: {np.mean(cv_results['test_accuracy']):.3f}\")\n",
    "print(f\"Average Precision (macro): {np.mean(cv_results['test_precision']):.3f}\")\n",
    "print(f\"Average F1-Score (macro): {np.mean(cv_results['test_f1']):.3f}\")"
   ]
  },
  {
   "cell_type": "code",
   "execution_count": 145,
   "id": "cf12b332-eb30-4d0d-9d76-be7fa77068ee",
   "metadata": {
    "tags": []
   },
   "outputs": [
    {
     "name": "stdout",
     "output_type": "stream",
     "text": [
      "Validation Set Evaluation:\n",
      "Accuracy: 0.5958333333333333\n",
      "              precision    recall  f1-score   support\n",
      "\n",
      "         0.0       0.58      0.60      0.59       586\n",
      "         1.0       0.61      0.59      0.60       614\n",
      "\n",
      "    accuracy                           0.60      1200\n",
      "   macro avg       0.60      0.60      0.60      1200\n",
      "weighted avg       0.60      0.60      0.60      1200\n",
      "\n"
     ]
    }
   ],
   "source": [
    "#validation set testing\n",
    "y_validation_pred = lr_pipeline.predict(X_validation_encoded)\n",
    "print(\"Validation Set Evaluation:\")\n",
    "print(\"Accuracy:\", accuracy_score(y_validation, y_validation_pred))\n",
    "print(classification_report(y_validation, y_validation_pred))"
   ]
  },
  {
   "cell_type": "code",
   "execution_count": 146,
   "id": "2295ded7-9857-4e8c-bbad-e190aeba62ed",
   "metadata": {},
   "outputs": [],
   "source": [
    "#ok so logistic regression is doing a bit better than dummy classifier."
   ]
  },
  {
   "cell_type": "markdown",
   "id": "2d778d60-26d6-4301-b5b4-709899d2d334",
   "metadata": {},
   "source": [
    "## Support Vector Machine"
   ]
  },
  {
   "cell_type": "code",
   "execution_count": 147,
   "id": "128249d4-d517-42d9-9dc8-582546e74866",
   "metadata": {
    "tags": []
   },
   "outputs": [
    {
     "name": "stdout",
     "output_type": "stream",
     "text": [
      "Test Set Evaluation:\n",
      "Accuracy: 0.586574074074074\n",
      "              precision    recall  f1-score   support\n",
      "\n",
      "         0.0       0.57      0.68      0.62      1061\n",
      "         1.0       0.62      0.49      0.55      1099\n",
      "\n",
      "    accuracy                           0.59      2160\n",
      "   macro avg       0.59      0.59      0.58      2160\n",
      "weighted avg       0.59      0.59      0.58      2160\n",
      "\n"
     ]
    }
   ],
   "source": [
    "\n",
    "# Initialize / train SVM model\n",
    "svm_pipeline = make_pipeline(StandardScaler(with_mean=False), SVC())\n",
    "svm_pipeline.fit(X_train_encoded, y_train)\n",
    "\n",
    "# Evaluate \n",
    "y_pred = svm_pipeline.predict(X_test_encoded)\n",
    "print(\"Test Set Evaluation:\")\n",
    "print(\"Accuracy:\", accuracy_score(y_test, y_pred))\n",
    "print(classification_report(y_test, y_pred))\n"
   ]
  },
  {
   "cell_type": "code",
   "execution_count": 148,
   "id": "aafe4bdb-793b-4a1a-ba79-6f95fdeabd70",
   "metadata": {
    "tags": []
   },
   "outputs": [
    {
     "name": "stdout",
     "output_type": "stream",
     "text": [
      "5-Fold Cross-Validation Results:\n",
      "Average Accuracy: 0.598\n",
      "Average Precision (macro): 0.600\n",
      "Average F1-Score (macro): 0.595\n"
     ]
    }
   ],
   "source": [
    "#  5-fold cross-validation\n",
    "scoring = {'accuracy': 'accuracy', 'precision': 'precision_macro', 'f1': 'f1_macro'}\n",
    "cv_results = cross_validate(svm_pipeline, X_train_encoded, y_train, cv=5, scoring=scoring)\n",
    "\n",
    "#  evaluation metrics across  5 folds\n",
    "print(\"5-Fold Cross-Validation Results:\")\n",
    "print(f\"Average Accuracy: {np.mean(cv_results['test_accuracy']):.3f}\")\n",
    "print(f\"Average Precision (macro): {np.mean(cv_results['test_precision']):.3f}\")\n",
    "print(f\"Average F1-Score (macro): {np.mean(cv_results['test_f1']):.3f}\")"
   ]
  },
  {
   "cell_type": "code",
   "execution_count": 149,
   "id": "60d63b5c-f8dd-4a98-bfa3-e742ae4f290a",
   "metadata": {
    "tags": []
   },
   "outputs": [
    {
     "name": "stdout",
     "output_type": "stream",
     "text": [
      "Validation Set Evaluation:\n",
      "Accuracy: 0.5958333333333333\n",
      "              precision    recall  f1-score   support\n",
      "\n",
      "         0.0       0.57      0.68      0.62       586\n",
      "         1.0       0.63      0.51      0.57       614\n",
      "\n",
      "    accuracy                           0.60      1200\n",
      "   macro avg       0.60      0.60      0.59      1200\n",
      "weighted avg       0.60      0.60      0.59      1200\n",
      "\n"
     ]
    }
   ],
   "source": [
    "#validation set testing\n",
    "y_validation_pred = svm_pipeline.predict(X_validation_encoded)\n",
    "print(\"Validation Set Evaluation:\")\n",
    "print(\"Accuracy:\", accuracy_score(y_validation, y_validation_pred))\n",
    "print(classification_report(y_validation, y_validation_pred))"
   ]
  },
  {
   "cell_type": "code",
   "execution_count": null,
   "id": "617a21bb-b94d-40dc-ad72-b1f202e89097",
   "metadata": {},
   "outputs": [],
   "source": [
    "# about the same..."
   ]
  },
  {
   "cell_type": "markdown",
   "id": "21447cbf-78ac-452f-b29c-4444f3b8088e",
   "metadata": {},
   "source": [
    "## Random Forest"
   ]
  },
  {
   "cell_type": "code",
   "execution_count": 150,
   "id": "04d84e65-0672-4bc9-99b8-8b4aae39d07d",
   "metadata": {
    "tags": []
   },
   "outputs": [
    {
     "name": "stdout",
     "output_type": "stream",
     "text": [
      "Random Forest Model Test Set Evaluation:\n",
      "Accuracy: 0.5782407407407407\n",
      "              precision    recall  f1-score   support\n",
      "\n",
      "         0.0       0.56      0.62      0.59      1061\n",
      "         1.0       0.59      0.54      0.57      1099\n",
      "\n",
      "    accuracy                           0.58      2160\n",
      "   macro avg       0.58      0.58      0.58      2160\n",
      "weighted avg       0.58      0.58      0.58      2160\n",
      "\n"
     ]
    }
   ],
   "source": [
    "\n",
    "\n",
    "# Initialize and train the Random Forest model\n",
    "#rf_pipeline = make_pipeline(StandardScaler(), RandomForestClassifier())\n",
    "rf_pipeline = RandomForestClassifier()\n",
    "rf_pipeline.fit(X_train_encoded, y_train)\n",
    "\n",
    "# Evaluate the model on the test set\n",
    "y_pred_rf = rf_pipeline.predict(X_test_encoded)\n",
    "print(\"Random Forest Model Test Set Evaluation:\")\n",
    "print(\"Accuracy:\", accuracy_score(y_test, y_pred_rf))\n",
    "print(classification_report(y_test, y_pred_rf))"
   ]
  },
  {
   "cell_type": "code",
   "execution_count": 151,
   "id": "e990858f-f0c9-429f-82ce-98809109961e",
   "metadata": {
    "tags": []
   },
   "outputs": [
    {
     "name": "stdout",
     "output_type": "stream",
     "text": [
      "5-Fold Cross-Validation Results:\n",
      "Average Accuracy: 0.595\n",
      "Average Precision (macro): 0.596\n",
      "Average F1-Score (macro): 0.595\n"
     ]
    }
   ],
   "source": [
    "# 5-fold cross-validation\n",
    "scoring = {'accuracy': 'accuracy', 'precision': 'precision_macro', 'f1': 'f1_macro'}\n",
    "cv_results = cross_validate(rf_pipeline, X_train_encoded, y_train, cv=5, scoring=scoring)\n",
    "\n",
    "#  evaluation metrics across  5 folds\n",
    "print(\"5-Fold Cross-Validation Results:\")\n",
    "print(f\"Average Accuracy: {np.mean(cv_results['test_accuracy']):.3f}\")\n",
    "print(f\"Average Precision (macro): {np.mean(cv_results['test_precision']):.3f}\")\n",
    "print(f\"Average F1-Score (macro): {np.mean(cv_results['test_f1']):.3f}\")"
   ]
  },
  {
   "cell_type": "code",
   "execution_count": 152,
   "id": "6847ba69-cd15-4fcd-b1a6-3f120ff56124",
   "metadata": {
    "tags": []
   },
   "outputs": [
    {
     "name": "stdout",
     "output_type": "stream",
     "text": [
      "Validation Set Evaluation:\n",
      "Accuracy: 0.5958333333333333\n",
      "              precision    recall  f1-score   support\n",
      "\n",
      "         0.0       0.58      0.63      0.61       586\n",
      "         1.0       0.62      0.56      0.59       614\n",
      "\n",
      "    accuracy                           0.60      1200\n",
      "   macro avg       0.60      0.60      0.60      1200\n",
      "weighted avg       0.60      0.60      0.60      1200\n",
      "\n"
     ]
    }
   ],
   "source": [
    "#validation set testing\n",
    "y_validation_pred = rf_pipeline.predict(X_validation_encoded)\n",
    "print(\"Validation Set Evaluation:\")\n",
    "print(\"Accuracy:\", accuracy_score(y_validation, y_validation_pred))\n",
    "print(classification_report(y_validation, y_validation_pred))"
   ]
  },
  {
   "cell_type": "code",
   "execution_count": null,
   "id": "e26a913f-56c9-4a6b-9e3f-c0ca74de0804",
   "metadata": {},
   "outputs": [],
   "source": [
    "#about the same"
   ]
  },
  {
   "cell_type": "markdown",
   "id": "bb5e5589-9df4-4019-86f9-ac53392d1c58",
   "metadata": {},
   "source": [
    "## Gradient Boosting Classifier"
   ]
  },
  {
   "cell_type": "code",
   "execution_count": 153,
   "id": "b3b24eb1-864d-4824-84b6-c6d005983de1",
   "metadata": {
    "tags": []
   },
   "outputs": [
    {
     "name": "stdout",
     "output_type": "stream",
     "text": [
      "Gradient Boosted Decision Tree Model Test Set Evaluation:\n",
      "Accuracy: 0.5972222222222222\n",
      "              precision    recall  f1-score   support\n",
      "\n",
      "         0.0       0.59      0.62      0.60      1061\n",
      "         1.0       0.61      0.58      0.59      1099\n",
      "\n",
      "    accuracy                           0.60      2160\n",
      "   macro avg       0.60      0.60      0.60      2160\n",
      "weighted avg       0.60      0.60      0.60      2160\n",
      "\n"
     ]
    }
   ],
   "source": [
    "\n",
    "\n",
    "# Initialize and train the Gradient Boosted Decision Tree model\n",
    "#gbdt_pipeline = make_pipeline(StandardScaler(), GradientBoostingClassifier())\n",
    "gbdt_pipeline =  GradientBoostingClassifier()\n",
    "gbdt_pipeline.fit(X_train_encoded, y_train)\n",
    "\n",
    "# Evaluate the model on the test set\n",
    "y_pred_gbdt = gbdt_pipeline.predict(X_test_encoded)\n",
    "print(\"Gradient Boosted Decision Tree Model Test Set Evaluation:\")\n",
    "print(\"Accuracy:\", accuracy_score(y_test, y_pred_gbdt))\n",
    "print(classification_report(y_test, y_pred_gbdt))"
   ]
  },
  {
   "cell_type": "code",
   "execution_count": 154,
   "id": "2325d3be-3c40-405c-974d-e107d2585611",
   "metadata": {
    "tags": []
   },
   "outputs": [
    {
     "name": "stdout",
     "output_type": "stream",
     "text": [
      "5-Fold Cross-Validation Results:\n",
      "Average Accuracy: 0.610\n",
      "Average Precision (macro): 0.610\n",
      "Average F1-Score (macro): 0.610\n"
     ]
    }
   ],
   "source": [
    "#  5-fold cross-validation\n",
    "scoring = {'accuracy': 'accuracy', 'precision': 'precision_macro', 'f1': 'f1_macro'}\n",
    "cv_results = cross_validate(gbdt_pipeline, X_train_encoded, y_train, cv=5, scoring=scoring)\n",
    "\n",
    "#  evaluation metrics across  5 folds\n",
    "print(\"5-Fold Cross-Validation Results:\")\n",
    "print(f\"Average Accuracy: {np.mean(cv_results['test_accuracy']):.3f}\")\n",
    "print(f\"Average Precision (macro): {np.mean(cv_results['test_precision']):.3f}\")\n",
    "print(f\"Average F1-Score (macro): {np.mean(cv_results['test_f1']):.3f}\")"
   ]
  },
  {
   "cell_type": "code",
   "execution_count": 155,
   "id": "e441c0f1-7ddf-47ef-a348-eedc512cabbb",
   "metadata": {
    "tags": []
   },
   "outputs": [
    {
     "name": "stdout",
     "output_type": "stream",
     "text": [
      "Validation Set Evaluation:\n",
      "Accuracy: 0.6066666666666667\n",
      "              precision    recall  f1-score   support\n",
      "\n",
      "         0.0       0.59      0.61      0.60       586\n",
      "         1.0       0.62      0.60      0.61       614\n",
      "\n",
      "    accuracy                           0.61      1200\n",
      "   macro avg       0.61      0.61      0.61      1200\n",
      "weighted avg       0.61      0.61      0.61      1200\n",
      "\n"
     ]
    }
   ],
   "source": [
    "#validation set testing\n",
    "y_validation_pred = gbdt_pipeline.predict(X_validation_encoded)\n",
    "print(\"Validation Set Evaluation:\")\n",
    "print(\"Accuracy:\", accuracy_score(y_validation, y_validation_pred))\n",
    "print(classification_report(y_validation, y_validation_pred))"
   ]
  },
  {
   "cell_type": "code",
   "execution_count": null,
   "id": "7c12ce47-8f3c-41d9-ba06-4b4756392c94",
   "metadata": {},
   "outputs": [],
   "source": [
    "#bit better"
   ]
  },
  {
   "cell_type": "markdown",
   "id": "652de6a8-db91-4bb4-99cf-ff6363f6df73",
   "metadata": {},
   "source": [
    "## XG Boost"
   ]
  },
  {
   "cell_type": "code",
   "execution_count": 156,
   "id": "2fca1d92-4af1-4482-a693-0ae82d29f5f2",
   "metadata": {
    "tags": []
   },
   "outputs": [
    {
     "name": "stdout",
     "output_type": "stream",
     "text": [
      "XGBoost Model Test Set Evaluation:\n",
      "Accuracy: 0.5814814814814815\n",
      "              precision    recall  f1-score   support\n",
      "\n",
      "         0.0       0.57      0.60      0.58      1061\n",
      "         1.0       0.59      0.57      0.58      1099\n",
      "\n",
      "    accuracy                           0.58      2160\n",
      "   macro avg       0.58      0.58      0.58      2160\n",
      "weighted avg       0.58      0.58      0.58      2160\n",
      "\n"
     ]
    }
   ],
   "source": [
    "\n",
    "\n",
    "# Initialize and train  XGBoost model\n",
    "xgb_pipeline = xgb.XGBClassifier(use_label_encoder=False, eval_metric='logloss')\n",
    "xgb_pipeline.fit(X_train_encoded, y_train)\n",
    "\n",
    "# Evaluate \n",
    "y_pred_xgb = xgb_pipeline.predict(X_test_encoded)\n",
    "print(\"XGBoost Model Test Set Evaluation:\")\n",
    "print(\"Accuracy:\", accuracy_score(y_test, y_pred_xgb))\n",
    "print(classification_report(y_test, y_pred_xgb))"
   ]
  },
  {
   "cell_type": "code",
   "execution_count": 157,
   "id": "60fdef86-36ef-4441-b2ba-0fea64df66ae",
   "metadata": {
    "tags": []
   },
   "outputs": [
    {
     "name": "stdout",
     "output_type": "stream",
     "text": [
      "5-Fold Cross-Validation Results:\n",
      "Average Accuracy: 0.594\n",
      "Average Precision (macro): 0.594\n",
      "Average F1-Score (macro): 0.594\n"
     ]
    }
   ],
   "source": [
    "#  5-fold cross-validation\n",
    "scoring = {'accuracy': 'accuracy', 'precision': 'precision_macro', 'f1': 'f1_macro'}\n",
    "cv_results = cross_validate(xgb_pipeline, X_train_encoded, y_train, cv=5, scoring=scoring)\n",
    "\n",
    "# metrics across 5 folds\n",
    "print(\"5-Fold Cross-Validation Results:\")\n",
    "print(f\"Average Accuracy: {np.mean(cv_results['test_accuracy']):.3f}\")\n",
    "print(f\"Average Precision (macro): {np.mean(cv_results['test_precision']):.3f}\")\n",
    "print(f\"Average F1-Score (macro): {np.mean(cv_results['test_f1']):.3f}\")"
   ]
  },
  {
   "cell_type": "code",
   "execution_count": 158,
   "id": "3b403caf-db64-4570-af7e-8e94f98e03fa",
   "metadata": {
    "tags": []
   },
   "outputs": [
    {
     "name": "stdout",
     "output_type": "stream",
     "text": [
      "Validation Set Evaluation:\n",
      "Accuracy: 0.5825\n",
      "              precision    recall  f1-score   support\n",
      "\n",
      "         0.0       0.57      0.59      0.58       586\n",
      "         1.0       0.59      0.58      0.59       614\n",
      "\n",
      "    accuracy                           0.58      1200\n",
      "   macro avg       0.58      0.58      0.58      1200\n",
      "weighted avg       0.58      0.58      0.58      1200\n",
      "\n"
     ]
    }
   ],
   "source": [
    "#validation set testing\n",
    "y_validation_pred = xgb_pipeline.predict(X_validation_encoded)\n",
    "print(\"Validation Set Evaluation:\")\n",
    "print(\"Accuracy:\", accuracy_score(y_validation, y_validation_pred))\n",
    "print(classification_report(y_validation, y_validation_pred))"
   ]
  },
  {
   "cell_type": "markdown",
   "id": "fed2816e-f0e7-43fe-a834-33f8b1259493",
   "metadata": {},
   "source": [
    "## CatBoost"
   ]
  },
  {
   "cell_type": "code",
   "execution_count": 159,
   "id": "1905b701-1893-4d43-a36d-26f508c2c691",
   "metadata": {
    "tags": []
   },
   "outputs": [
    {
     "name": "stdout",
     "output_type": "stream",
     "text": [
      "0:\tlearn: 0.6879955\ttotal: 157ms\tremaining: 2m 37s\n",
      "100:\tlearn: 0.4921093\ttotal: 24.7s\tremaining: 3m 40s\n",
      "200:\tlearn: 0.3592215\ttotal: 48.2s\tremaining: 3m 11s\n",
      "300:\tlearn: 0.2843494\ttotal: 1m 12s\tremaining: 2m 49s\n",
      "400:\tlearn: 0.2315617\ttotal: 1m 38s\tremaining: 2m 26s\n",
      "500:\tlearn: 0.1882061\ttotal: 2m 6s\tremaining: 2m 5s\n",
      "600:\tlearn: 0.1565985\ttotal: 2m 36s\tremaining: 1m 43s\n",
      "700:\tlearn: 0.1296218\ttotal: 3m 2s\tremaining: 1m 17s\n",
      "800:\tlearn: 0.1102525\ttotal: 3m 28s\tremaining: 51.9s\n",
      "900:\tlearn: 0.0949128\ttotal: 3m 57s\tremaining: 26.1s\n",
      "999:\tlearn: 0.0822445\ttotal: 4m 24s\tremaining: 0us\n",
      "CatBoost Test Set Evaluation:\n",
      "Accuracy: 0.5703703703703704\n",
      "              precision    recall  f1-score   support\n",
      "\n",
      "         0.0       0.56      0.57      0.57      1061\n",
      "         1.0       0.58      0.57      0.58      1099\n",
      "\n",
      "    accuracy                           0.57      2160\n",
      "   macro avg       0.57      0.57      0.57      2160\n",
      "weighted avg       0.57      0.57      0.57      2160\n",
      "\n"
     ]
    }
   ],
   "source": [
    "\n",
    "\n",
    "cat_features_indices = [X_train_cb_lgbm.columns.get_loc(c) for c in categorical_columns if c in X_train_cb_lgbm]\n",
    "\n",
    "cat_model = CatBoostClassifier(iterations=1000, \n",
    "                               learning_rate=0.1, \n",
    "                               depth=10,\n",
    "                               cat_features=cat_features_indices,\n",
    "                               verbose=100)\n",
    "\n",
    "# Train CatBoost model\n",
    "cat_model.fit(X_train_cb_lgbm, y_train_cb_lgbm)\n",
    "\n",
    "# Evaluate \n",
    "y_pred_cat = cat_model.predict(X_test_cb_lgbm)\n",
    "print(\"CatBoost Test Set Evaluation:\")\n",
    "print(\"Accuracy:\", accuracy_score(y_test_cb_lgbm, y_pred_cat))\n",
    "print(classification_report(y_test_cb_lgbm, y_pred_cat))\n"
   ]
  },
  {
   "cell_type": "code",
   "execution_count": 160,
   "id": "a298d36b-271f-43ae-aebe-0e2ec0a7f37e",
   "metadata": {
    "tags": []
   },
   "outputs": [
    {
     "name": "stdout",
     "output_type": "stream",
     "text": [
      "Validation Set Evaluation:\n",
      "Accuracy: 0.585\n",
      "              precision    recall  f1-score   support\n",
      "\n",
      "         0.0       0.57      0.59      0.58       586\n",
      "         1.0       0.60      0.58      0.59       614\n",
      "\n",
      "    accuracy                           0.58      1200\n",
      "   macro avg       0.59      0.59      0.58      1200\n",
      "weighted avg       0.59      0.58      0.59      1200\n",
      "\n"
     ]
    }
   ],
   "source": [
    "#validation set testing\n",
    "y_validation_pred = cat_model.predict(X_validation_cb_lgbm)\n",
    "print(\"Validation Set Evaluation:\")\n",
    "print(\"Accuracy:\", accuracy_score(y_validation, y_validation_pred))\n",
    "print(classification_report(y_validation, y_validation_pred))"
   ]
  },
  {
   "cell_type": "code",
   "execution_count": 63,
   "id": "7c2db8fa-f4f9-4f3a-904a-ce3a246a151e",
   "metadata": {
    "tags": []
   },
   "outputs": [],
   "source": [
    "#  5-fold cross-validation\n",
    "#scoring = {'accuracy': 'accuracy', 'precision': 'precision_macro', 'f1': 'f1_macro'}\n",
    "#cv_results = cross_validate(cat_model, X_train_cb_lgbm, y_train_cb_lgbm, cv=5, scoring=scoring)\n",
    "\n",
    "# evaluation metrics across 5 folds\n",
    "#print(\"5-Fold Cross-Validation Results:\")\n",
    "#print(f\"Average Accuracy: {np.mean(cv_results['test_accuracy']):.3f}\")\n",
    "#print(f\"Average Precision (macro): {np.mean(cv_results['test_precision']):.3f}\")\n",
    "#print(f\"Average F1-Score (macro): {np.mean(cv_results['test_f1']):.3f}\")\n",
    "\n",
    "#this is just running super long and some of the other models performed better anyway so skipping it"
   ]
  },
  {
   "cell_type": "markdown",
   "id": "42d0cb92-0e20-4598-bc96-321d8c9cf6af",
   "metadata": {},
   "source": [
    "## Grid Search for Parameter Tuning - Gradient Boosting Classifier"
   ]
  },
  {
   "cell_type": "code",
   "execution_count": 161,
   "id": "970faf3e-fc19-4236-8b60-5696ace453d7",
   "metadata": {},
   "outputs": [
    {
     "name": "stdout",
     "output_type": "stream",
     "text": [
      "Best parameters found: {'learning_rate': 0.1, 'max_depth': 3, 'min_samples_leaf': 3, 'min_samples_split': 2, 'n_estimators': 300}\n",
      "Best score achieved: 0.6150462962962963\n"
     ]
    }
   ],
   "source": [
    "\n",
    "\n",
    "param_grid = {\n",
    "    'n_estimators': [100, 200, 300], \n",
    "    'learning_rate': [0.01, 0.1, 0.2],  \n",
    "    'max_depth': [3, 5, 10], \n",
    "    'min_samples_split': [2, 3, 5],  \n",
    "    'min_samples_leaf': [1, 2, 3],}\n",
    "\n",
    "grid_search = GridSearchCV(estimator=GradientBoostingClassifier(), param_grid=param_grid, cv=5, scoring='accuracy', n_jobs=-1)\n",
    "\n",
    "grid_search.fit(X_train_encoded, y_train)\n",
    "\n",
    "print(\"Best parameters found:\", grid_search.best_params_)\n",
    "print(\"Best score achieved:\", grid_search.best_score_)"
   ]
  },
  {
   "cell_type": "code",
   "execution_count": 162,
   "id": "09099bee-2d30-4e32-b6d3-1436e2581fbf",
   "metadata": {
    "tags": []
   },
   "outputs": [
    {
     "name": "stdout",
     "output_type": "stream",
     "text": [
      "GBC Model Test Set Evaluation:\n",
      "Accuracy: 0.5958333333333333\n",
      "              precision    recall  f1-score   support\n",
      "\n",
      "         0.0       0.58      0.61      0.60      1061\n",
      "         1.0       0.61      0.58      0.59      1099\n",
      "\n",
      "    accuracy                           0.60      2160\n",
      "   macro avg       0.60      0.60      0.60      2160\n",
      "weighted avg       0.60      0.60      0.60      2160\n",
      "\n"
     ]
    }
   ],
   "source": [
    "best_gbc = GradientBoostingClassifier(learning_rate= 0.1, max_depth= 3, min_samples_leaf= 3, min_samples_split= 2, n_estimators= 300)\n",
    "best_gbc.fit(X_train_encoded, y_train)\n",
    "\n",
    "# Evaluate the model on the test set\n",
    "y_pred_rf = best_gbc.predict(X_test_encoded)\n",
    "print(\"GBC Model Test Set Evaluation:\")\n",
    "print(\"Accuracy:\", accuracy_score(y_test, y_pred_rf))\n",
    "print(classification_report(y_test, y_pred_rf))"
   ]
  },
  {
   "cell_type": "code",
   "execution_count": 163,
   "id": "8dde20cb-5393-4a16-9425-070a02182e12",
   "metadata": {
    "tags": []
   },
   "outputs": [
    {
     "name": "stdout",
     "output_type": "stream",
     "text": [
      "Validation Set Evaluation:\n",
      "Accuracy: 0.6016666666666667\n",
      "              precision    recall  f1-score   support\n",
      "\n",
      "         0.0       0.59      0.61      0.60       586\n",
      "         1.0       0.62      0.59      0.60       614\n",
      "\n",
      "    accuracy                           0.60      1200\n",
      "   macro avg       0.60      0.60      0.60      1200\n",
      "weighted avg       0.60      0.60      0.60      1200\n",
      "\n"
     ]
    }
   ],
   "source": [
    "#validation set testing\n",
    "y_validation_pred = best_gbc.predict(X_validation_encoded)\n",
    "print(\"Validation Set Evaluation:\")\n",
    "print(\"Accuracy:\", accuracy_score(y_validation, y_validation_pred))\n",
    "print(classification_report(y_validation, y_validation_pred))"
   ]
  },
  {
   "cell_type": "markdown",
   "id": "eb0f6df2-8125-4529-bb1c-0cbd72a3929f",
   "metadata": {},
   "source": [
    "## feature importances for GBC"
   ]
  },
  {
   "cell_type": "code",
   "execution_count": 164,
   "id": "a6e971eb-f5de-497f-9cc6-0fb71c2a588c",
   "metadata": {},
   "outputs": [
    {
     "data": {
      "image/png": "[encoded data removed]",
      "text/plain": [
       "<Figure size 1000x800 with 1 Axes>"
      ]
     },
     "metadata": {},
     "output_type": "display_data"
    }
   ],
   "source": [
    "\n",
    "feature_importances = best_gbc.feature_importances_\n",
    "\n",
    "\n",
    "feature_names = np.array(features_after_encoding) \n",
    "\n",
    "# Sort the features by importance\n",
    "sorted_idx = np.argsort(feature_importances)[-30:]  #top 30 features\n",
    "\n",
    "# Plot\n",
    "plt.figure(figsize=(10, 8))\n",
    "plt.title(\"Top 30 Feature Importances\")\n",
    "plt.barh(range(30), feature_importances[sorted_idx], align='center')\n",
    "plt.yticks(range(30), feature_names[sorted_idx])\n",
    "plt.xlabel(\"Feature Importance\")\n",
    "plt.ylabel(\"Feature\")\n",
    "plt.show()\n"
   ]
  },
  {
   "cell_type": "markdown",
   "id": "8393c625-1b8b-4bb1-b7d2-c70e94768385",
   "metadata": {},
   "source": [
    "## Learning Curve Analysis (GBC)"
   ]
  },
  {
   "cell_type": "code",
   "execution_count": 167,
   "id": "61595a88-d6ed-45ab-b02b-ef377b895d36",
   "metadata": {
    "tags": []
   },
   "outputs": [
    {
     "data": {
      "image/png": "[encoded data removed]",
      "text/plain": [
       "<Figure size 640x480 with 1 Axes>"
      ]
     },
     "metadata": {},
     "output_type": "display_data"
    }
   ],
   "source": [
    "#note - chatGPT assisted with the code in cell block\n",
    "\n",
    "def plot_learning_curve(estimator, title, X, y, ylim=None, cv=None,\n",
    "                        n_jobs=None, train_sizes=np.linspace(.1, 1.0, 5)):\n",
    "    plt.figure()\n",
    "    plt.title(title)\n",
    "    if ylim is not None:\n",
    "        plt.ylim(*ylim)\n",
    "    plt.xlabel(\"Training examples\")\n",
    "    plt.ylabel(\"Score\")\n",
    "    train_sizes, train_scores, test_scores = learning_curve(\n",
    "        estimator, X, y, cv=cv, n_jobs=n_jobs, train_sizes=train_sizes, random_state=42)\n",
    "    train_scores_mean = np.mean(train_scores, axis=1)\n",
    "    train_scores_std = np.std(train_scores, axis=1)\n",
    "    test_scores_mean = np.mean(test_scores, axis=1)\n",
    "    test_scores_std = np.std(test_scores, axis=1)\n",
    "    plt.grid()\n",
    "\n",
    "    plt.fill_between(train_sizes, train_scores_mean - train_scores_std,\n",
    "                     train_scores_mean + train_scores_std, alpha=0.1,\n",
    "                     color=\"r\")\n",
    "    plt.fill_between(train_sizes, test_scores_mean - test_scores_std,\n",
    "                     test_scores_mean + test_scores_std, alpha=0.1, color=\"g\")\n",
    "    plt.plot(train_sizes, train_scores_mean, 'o-', color=\"r\",\n",
    "             label=\"Training score\")\n",
    "    plt.plot(train_sizes, test_scores_mean, 'o-', color=\"g\",\n",
    "             label=\"Cross-validation score\")\n",
    "\n",
    "    plt.legend(loc=\"best\")\n",
    "    return plt\n",
    "\n",
    "\n",
    "title = \"Learning Curve Analysis (Gradient Boosting Classifier)\"\n",
    "# Cross-validation with 5 splits\n",
    "cv = 5\n",
    "# Evaluate score on training and test set several times with different training set sizes\n",
    "plot_learning_curve(best_gbc, title, X_train_encoded, y_train, ylim=(0.5, 1.01), cv=cv, n_jobs=-1)\n",
    "\n",
    "plt.show()"
   ]
  },
  {
   "cell_type": "code",
   "execution_count": null,
   "id": "f1babd4c-09da-4bb0-b756-add4018029c6",
   "metadata": {},
   "outputs": [],
   "source": [
    "#ok so this looks like there might continue to be some improvement with more training data, however, if i add more it will be for individuals with less impressive wins/losses\n",
    "#so may not actually be helpful."
   ]
  },
  {
   "cell_type": "markdown",
   "id": "f799477c-3579-4440-86a3-d9331ac0cdd1",
   "metadata": {},
   "source": [
    "## ROC-AUC Curve"
   ]
  },
  {
   "cell_type": "code",
   "execution_count": 168,
   "id": "156ac39a-0e56-488f-891e-2dfd3d30405c",
   "metadata": {
    "tags": []
   },
   "outputs": [
    {
     "data": {
      "image/png": "[encoded data removed]",
      "text/plain": [
       "<Figure size 640x480 with 1 Axes>"
      ]
     },
     "metadata": {},
     "output_type": "display_data"
    }
   ],
   "source": [
    "#Roc-AUC curve\n",
    "\n",
    "# Compute the model's prediction probabilities\n",
    "y_scores = best_gbc.predict_proba(X_validation_encoded)[:, 1]\n",
    "\n",
    "# Compute ROC curve and ROC area\n",
    "fpr, tpr, thresholds = roc_curve(y_validation, y_scores)\n",
    "roc_auc = auc(fpr, tpr)\n",
    "\n",
    "# Plot ROC curve\n",
    "plt.figure()\n",
    "plt.plot(fpr, tpr, color='darkorange', lw=2, label='ROC curve (area = %0.2f)' % roc_auc)\n",
    "plt.plot([0, 1], [0, 1], color='navy', lw=2, linestyle='--')\n",
    "plt.xlim([0.0, 1.0])\n",
    "plt.ylim([0.0, 1.05])\n",
    "plt.xlabel('False Positive Rate')\n",
    "plt.ylabel('True Positive Rate')\n",
    "plt.title('Receiver Operating Characteristic')\n",
    "plt.legend(loc=\"lower right\")\n",
    "plt.show()\n"
   ]
  },
  {
   "cell_type": "code",
   "execution_count": null,
   "id": "36c47beb-bfce-482a-a9ad-0f44b2b6fb4f",
   "metadata": {},
   "outputs": [],
   "source": [
    "#as expected given the model's accuracy"
   ]
  },
  {
   "cell_type": "code",
   "execution_count": 169,
   "id": "dee3a079-2b20-4f79-bdec-372a3a4eaf4c",
   "metadata": {
    "tags": []
   },
   "outputs": [
    {
     "data": {
      "image/png": "[encoded data removed]",
      "text/plain": [
       "<Figure size 800x600 with 1 Axes>"
      ]
     },
     "metadata": {},
     "output_type": "display_data"
    }
   ],
   "source": [
    "\n",
    "\n",
    "# Get the probability scores of  positive class\n",
    "y_scores = best_gbc.predict_proba(X_validation_encoded)[:, 1]\n",
    "\n",
    "# Calculate precision & recall \n",
    "precision, recall, thresholds = precision_recall_curve(y_validation, y_scores)\n",
    "\n",
    "# Calculate the area under the curve \n",
    "auc_precision_recall = auc(recall, precision)\n",
    "\n",
    "# Plot \n",
    "plt.figure(figsize=(8, 6))\n",
    "plt.plot(recall, precision, label=f'Precision-Recall curve (area = {auc_precision_recall:.2f})')\n",
    "plt.xlabel('Recall')\n",
    "plt.ylabel('Precision')\n",
    "plt.title('Precision-Recall Curve')\n",
    "plt.legend(loc=\"best\")\n",
    "plt.show()\n"
   ]
  },
  {
   "cell_type": "code",
   "execution_count": null,
   "id": "c78986b9-704a-41fb-b6d2-50848386d2ab",
   "metadata": {},
   "outputs": [],
   "source": []
  }
 ],
 "metadata": {
  "kernelspec": {
   "display_name": "Python 3 (ipykernel)",
   "language": "python",
   "name": "python3"
  },
  "language_info": {
   "codemirror_mode": {
    "name": "ipython",
    "version": 3
   },
   "file_extension": ".py",
   "mimetype": "text/x-python",
   "name": "python",
   "nbconvert_exporter": "python",
   "pygments_lexer": "ipython3",
   "version": "3.11.2"
  }
 },
 "nbformat": 4,
 "nbformat_minor": 5
}
